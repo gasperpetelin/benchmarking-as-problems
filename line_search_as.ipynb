{
 "cells": [
  {
   "cell_type": "code",
   "execution_count": 1,
   "id": "8fb0b87a-3ea5-4946-b34c-3d4ddc9b5598",
   "metadata": {},
   "outputs": [
    {
     "name": "stdout",
     "output_type": "stream",
     "text": [
      "Requirement already satisfied: ripser in /opt/conda/envs/Base/lib/python3.10/site-packages (0.6.10)\n",
      "Requirement already satisfied: Cython in /opt/conda/envs/Base/lib/python3.10/site-packages (from ripser) (3.0.11)\n",
      "Requirement already satisfied: numpy in /opt/conda/envs/Base/lib/python3.10/site-packages (from ripser) (1.24.4)\n",
      "Requirement already satisfied: persim in /opt/conda/envs/Base/lib/python3.10/site-packages (from ripser) (0.3.7)\n",
      "Requirement already satisfied: scipy in /opt/conda/envs/Base/lib/python3.10/site-packages (from ripser) (1.10.1)\n",
      "Requirement already satisfied: scikit-learn in /opt/conda/envs/Base/lib/python3.10/site-packages (from ripser) (1.6.1)\n",
      "Requirement already satisfied: deprecated in /opt/conda/envs/Base/lib/python3.10/site-packages (from persim->ripser) (1.2.15)\n",
      "Requirement already satisfied: hopcroftkarp in /opt/conda/envs/Base/lib/python3.10/site-packages (from persim->ripser) (1.2.5)\n",
      "Requirement already satisfied: joblib in /opt/conda/envs/Base/lib/python3.10/site-packages (from persim->ripser) (1.4.2)\n",
      "Requirement already satisfied: matplotlib in /opt/conda/envs/Base/lib/python3.10/site-packages (from persim->ripser) (3.10.0)\n",
      "Requirement already satisfied: threadpoolctl>=3.1.0 in /opt/conda/envs/Base/lib/python3.10/site-packages (from scikit-learn->ripser) (3.5.0)\n",
      "Requirement already satisfied: wrapt<2,>=1.10 in /opt/conda/envs/Base/lib/python3.10/site-packages (from deprecated->persim->ripser) (1.17.0)\n",
      "Requirement already satisfied: contourpy>=1.0.1 in /opt/conda/envs/Base/lib/python3.10/site-packages (from matplotlib->persim->ripser) (1.3.1)\n",
      "Requirement already satisfied: cycler>=0.10 in /opt/conda/envs/Base/lib/python3.10/site-packages (from matplotlib->persim->ripser) (0.12.1)\n",
      "Requirement already satisfied: fonttools>=4.22.0 in /opt/conda/envs/Base/lib/python3.10/site-packages (from matplotlib->persim->ripser) (4.55.3)\n",
      "Requirement already satisfied: kiwisolver>=1.3.1 in /opt/conda/envs/Base/lib/python3.10/site-packages (from matplotlib->persim->ripser) (1.4.7)\n",
      "Requirement already satisfied: packaging>=20.0 in /opt/conda/envs/Base/lib/python3.10/site-packages (from matplotlib->persim->ripser) (24.2)\n",
      "Requirement already satisfied: pillow>=8 in /opt/conda/envs/Base/lib/python3.10/site-packages (from matplotlib->persim->ripser) (11.0.0)\n",
      "Requirement already satisfied: pyparsing>=2.3.1 in /opt/conda/envs/Base/lib/python3.10/site-packages (from matplotlib->persim->ripser) (3.2.0)\n",
      "Requirement already satisfied: python-dateutil>=2.7 in /opt/conda/envs/Base/lib/python3.10/site-packages (from matplotlib->persim->ripser) (2.9.0.post0)\n",
      "Requirement already satisfied: six>=1.5 in /opt/conda/envs/Base/lib/python3.10/site-packages (from python-dateutil>=2.7->matplotlib->persim->ripser) (1.17.0)\n"
     ]
    }
   ],
   "source": [
    "!pip install ripser"
   ]
  },
  {
   "cell_type": "code",
   "execution_count": 2,
   "id": "1303dfab-1a33-48bb-bb7d-478018ec225e",
   "metadata": {},
   "outputs": [],
   "source": [
    "from pymoo.problems import get_problem\n",
    "from tqdm import tqdm\n",
    "import pandas as pd\n",
    "from utils import *\n",
    "from pymoo.vendor.vendor_coco import COCOProblem\n",
    "import random\n",
    "import os\n",
    "import seaborn as sns\n",
    "import matplotlib.pyplot as plt\n",
    "import numpy as np\n",
    "import matplotlib.pyplot as plt\n",
    "from scipy import sparse\n",
    "import time\n",
    "import polars as pl\n",
    "from ripser import ripser\n",
    "from persim import plot_diagrams\n",
    "import seaborn as sns"
   ]
  },
  {
   "cell_type": "code",
   "execution_count": 3,
   "id": "0140f715-4636-4c76-be29-6e527a8da2a3",
   "metadata": {},
   "outputs": [],
   "source": [
    "def generate_points_on_line(start_point, end_point, num_points):\n",
    "    t_values = np.linspace(0, 1, num_points)\n",
    "    start_point = np.array(start_point)\n",
    "    end_point = np.array(end_point)\n",
    "    points_on_line = start_point + t_values[:, np.newaxis] * (end_point - start_point)\n",
    "    return points_on_line\n",
    "\n",
    "def diagram_points(x):\n",
    "    N = len(x)\n",
    "    I = np.arange(N-1)\n",
    "    J = np.arange(1, N)\n",
    "    V = np.maximum(x[0:-1], x[1::])\n",
    "    I = np.concatenate((I, np.arange(N)))\n",
    "    J = np.concatenate((J, np.arange(N)))\n",
    "    V = np.concatenate((V, x))\n",
    "    #Create the sparse distance matrix\n",
    "    D = sparse.coo_matrix((V, (I, J)), shape=(N, N)).tocsr()\n",
    "    dgm0 = ripser(D, maxdim=0, distance_matrix=True)['dgms'][0]\n",
    "    dgm0 = dgm0[dgm0[:, 1]-dgm0[:, 0] > 1e-3, :]\n",
    "    allgrid = np.unique(dgm0.flatten())\n",
    "    allgrid = allgrid[allgrid < np.inf]\n",
    "    xs = np.unique(dgm0[:, 0])\n",
    "    ys = np.unique(dgm0[:, 1])\n",
    "    ys = ys[ys < np.inf]\n",
    "    return xs, ys, dgm0"
   ]
  },
  {
   "cell_type": "code",
   "execution_count": 4,
   "id": "d0d9f49c-452f-4504-b36b-85f56e8d4508",
   "metadata": {},
   "outputs": [],
   "source": [
    "start = [-5, -5]\n",
    "end = [5, 5]\n",
    "#start = [-5, 5]\n",
    "#end = [5, -5]\n",
    "num_points = 1000\n",
    "dim = 2"
   ]
  },
  {
   "cell_type": "code",
   "execution_count": 5,
   "id": "19693472-23f9-4791-97ea-35db4dee69ad",
   "metadata": {},
   "outputs": [
    {
     "data": {
      "text/plain": [
       "array([[-5.        , -5.        ],\n",
       "       [-4.98998999, -4.98998999],\n",
       "       [-4.97997998, -4.97997998],\n",
       "       ...,\n",
       "       [ 4.97997998,  4.97997998],\n",
       "       [ 4.98998999,  4.98998999],\n",
       "       [ 5.        ,  5.        ]])"
      ]
     },
     "execution_count": 5,
     "metadata": {},
     "output_type": "execute_result"
    }
   ],
   "source": [
    "points = generate_points_on_line(start, end, num_points)\n",
    "points"
   ]
  },
  {
   "cell_type": "code",
   "execution_count": 6,
   "id": "0df99346-b2d8-4bae-8bfa-7202d25f0d8c",
   "metadata": {},
   "outputs": [
    {
     "data": {
      "text/html": [
       "<div><style>\n",
       ".dataframe > thead > tr,\n",
       ".dataframe > tbody > tr {\n",
       "  text-align: right;\n",
       "  white-space: pre-wrap;\n",
       "}\n",
       "</style>\n",
       "<small>shape: (360, 4)</small><table border=\"1\" class=\"dataframe\"><thead><tr><th>problem</th><th>instance</th><th>bar|count|log</th><th>bar|len|mean</th></tr><tr><td>i64</td><td>i64</td><td>f64</td><td>f64</td></tr></thead><tbody><tr><td>1</td><td>1</td><td>0.0</td><td>1.0</td></tr><tr><td>1</td><td>2</td><td>0.0</td><td>1.0</td></tr><tr><td>1</td><td>3</td><td>0.0</td><td>1.0</td></tr><tr><td>1</td><td>4</td><td>0.0</td><td>1.0</td></tr><tr><td>1</td><td>5</td><td>0.0</td><td>1.0</td></tr><tr><td>&hellip;</td><td>&hellip;</td><td>&hellip;</td><td>&hellip;</td></tr><tr><td>24</td><td>11</td><td>4.875197</td><td>0.278456</td></tr><tr><td>24</td><td>12</td><td>5.236442</td><td>0.357099</td></tr><tr><td>24</td><td>13</td><td>4.718499</td><td>0.196314</td></tr><tr><td>24</td><td>14</td><td>5.451038</td><td>0.263117</td></tr><tr><td>24</td><td>15</td><td>5.398163</td><td>0.309943</td></tr></tbody></table></div>"
      ],
      "text/plain": [
       "shape: (360, 4)\n",
       "┌─────────┬──────────┬───────────────┬──────────────┐\n",
       "│ problem ┆ instance ┆ bar|count|log ┆ bar|len|mean │\n",
       "│ ---     ┆ ---      ┆ ---           ┆ ---          │\n",
       "│ i64     ┆ i64      ┆ f64           ┆ f64          │\n",
       "╞═════════╪══════════╪═══════════════╪══════════════╡\n",
       "│ 1       ┆ 1        ┆ 0.0           ┆ 1.0          │\n",
       "│ 1       ┆ 2        ┆ 0.0           ┆ 1.0          │\n",
       "│ 1       ┆ 3        ┆ 0.0           ┆ 1.0          │\n",
       "│ 1       ┆ 4        ┆ 0.0           ┆ 1.0          │\n",
       "│ 1       ┆ 5        ┆ 0.0           ┆ 1.0          │\n",
       "│ …       ┆ …        ┆ …             ┆ …            │\n",
       "│ 24      ┆ 11       ┆ 4.875197      ┆ 0.278456     │\n",
       "│ 24      ┆ 12       ┆ 5.236442      ┆ 0.357099     │\n",
       "│ 24      ┆ 13       ┆ 4.718499      ┆ 0.196314     │\n",
       "│ 24      ┆ 14       ┆ 5.451038      ┆ 0.263117     │\n",
       "│ 24      ┆ 15       ┆ 5.398163      ┆ 0.309943     │\n",
       "└─────────┴──────────┴───────────────┴──────────────┘"
      ]
     },
     "execution_count": 6,
     "metadata": {},
     "output_type": "execute_result"
    }
   ],
   "source": [
    "features = []\n",
    "\n",
    "for problem_index in range(1, 25):\n",
    "    for instance_index in range(1, 16):\n",
    "        problem_name = f\"bbob-f{problem_index}-{instance_index}\"\n",
    "        problem = COCOProblem(problem_name, n_var=dim)\n",
    "        y = problem.evaluate(points).flatten()\n",
    "        y = (y - np.min(y)) / (np.max(y) - np.min(y))\n",
    "        _, _, dgm0 = diagram_points(y)\n",
    "        dgm0[np.isinf(dgm0)] = 1\n",
    "        #print(problem_index, instance_index, dgm0.shape[0])\n",
    "        data = {\n",
    "            'problem': problem_index,\n",
    "            'instance': instance_index,\n",
    "            'bar|count|log': np.log(dgm0.shape[0]),\n",
    "            'bar|len|mean': np.mean(dgm0[:, 1]-dgm0[:, 0]),\n",
    "            #'bar|len|median': np.median(dgm0[:, 1]-dgm0[:, 0]),\n",
    "            #'bar|len|quantile_25': np.quantile(dgm0[:, 1]-dgm0[:, 0], 0.25),\n",
    "            #'bar|len|quantile_75': np.quantile(dgm0[:, 1]-dgm0[:, 0], 0.75),\n",
    "            #'bar|len|quantile_05': np.quantile(dgm0[:, 1]-dgm0[:, 0], 0.05),\n",
    "            #'bar|len|quantile_95': np.quantile(dgm0[:, 1]-dgm0[:, 0], 0.95),\n",
    "            #'bar|1': np.quantile(dgm0[:, 1]-dgm0[:, 0], 0.1)/np.quantile(dgm0[:, 1]-dgm0[:, 0], 0.2),\n",
    "            #'bar|2': np.quantile(dgm0[:, 1]-dgm0[:, 0], 0.2)/np.quantile(dgm0[:, 1]-dgm0[:, 0], 0.3),\n",
    "            #'bar|3': np.quantile(dgm0[:, 1]-dgm0[:, 0], 0.3)/np.quantile(dgm0[:, 1]-dgm0[:, 0], 0.4),\n",
    "            #'bar|4': np.quantile(dgm0[:, 1]-dgm0[:, 0], 0.4)/np.quantile(dgm0[:, 1]-dgm0[:, 0], 0.5),\n",
    "            #'bar|5': np.quantile(dgm0[:, 1]-dgm0[:, 0], 0.5)/np.quantile(dgm0[:, 1]-dgm0[:, 0], 0.6),\n",
    "            #'bar|n1': np.quantile(dgm0[:, 0],0.05)-np.quantile(dgm0[:, 0],0.1),\n",
    "            #'bar|n2': np.quantile(dgm0[:, 0],0.1)-np.quantile(dgm0[:, 0],0.15),\n",
    "            #'bar|n3': np.quantile(dgm0[:, 0],0.15)-np.quantile(dgm0[:, 0],0.2),\n",
    "            #'bar|n4': np.quantile(dgm0[:, 0],0.2)-np.quantile(dgm0[:, 0],0.25),\n",
    "            #'bar|n5': np.quantile(dgm0[:, 0],0.25)-np.quantile(dgm0[:, 0],0.3),\n",
    "        }\n",
    "        features.append(data)\n",
    "        \n",
    "fdf = pl.DataFrame(features)\n",
    "fdf"
   ]
  },
  {
   "cell_type": "code",
   "execution_count": 7,
   "id": "2e00c5e3-59b9-4ecf-aa42-38308e10de77",
   "metadata": {},
   "outputs": [],
   "source": [
    "#np.quantile(dgm0[:, 1]-dgm0[:, 0], 0.1)/np.quantile(dgm0[:, 1]-dgm0[:, 0], 0.2)"
   ]
  },
  {
   "cell_type": "code",
   "execution_count": 8,
   "id": "a30ca759-fda9-43fd-8081-4ce9c449719e",
   "metadata": {},
   "outputs": [],
   "source": [
    "#np.quantile(dgm0[:, 1]-dgm0[:, 0], 0.2)"
   ]
  },
  {
   "cell_type": "code",
   "execution_count": 9,
   "id": "5793b7a9-f5e8-46f4-aa77-ff44073f268b",
   "metadata": {},
   "outputs": [
    {
     "data": {
      "text/html": [
       "<div><style>\n",
       ".dataframe > thead > tr,\n",
       ".dataframe > tbody > tr {\n",
       "  text-align: right;\n",
       "  white-space: pre-wrap;\n",
       "}\n",
       "</style>\n",
       "<small>shape: (14_160, 9)</small><table border=\"1\" class=\"dataframe\"><thead><tr><th>GA</th><th>PSO</th><th>DE</th><th>CMAES</th><th>ES</th><th>algorithm_run</th><th>problem</th><th>instance</th><th>optimum</th></tr><tr><td>f64</td><td>f64</td><td>f64</td><td>f64</td><td>f64</td><td>i64</td><td>i32</td><td>i32</td><td>f64</td></tr></thead><tbody><tr><td>79.480002</td><td>79.48</td><td>79.48</td><td>79.48</td><td>79.481463</td><td>0</td><td>1</td><td>1</td><td>79.48</td></tr><tr><td>79.480005</td><td>79.48</td><td>79.48</td><td>79.48</td><td>79.480588</td><td>1</td><td>1</td><td>1</td><td>79.48</td></tr><tr><td>79.480018</td><td>79.48</td><td>79.48</td><td>79.48</td><td>79.480885</td><td>2</td><td>1</td><td>1</td><td>79.48</td></tr><tr><td>79.480001</td><td>79.48</td><td>79.48</td><td>79.48</td><td>79.480074</td><td>3</td><td>1</td><td>1</td><td>79.48</td></tr><tr><td>79.480001</td><td>79.48</td><td>79.48</td><td>79.48</td><td>79.48349</td><td>4</td><td>1</td><td>1</td><td>79.48</td></tr><tr><td>&hellip;</td><td>&hellip;</td><td>&hellip;</td><td>&hellip;</td><td>&hellip;</td><td>&hellip;</td><td>&hellip;</td><td>&hellip;</td><td>&hellip;</td></tr><tr><td>165.237321</td><td>163.966211</td><td>165.145521</td><td>155.729046</td><td>161.44505</td><td>24</td><td>24</td><td>15</td><td>149.81</td></tr><tr><td>160.237609</td><td>164.695048</td><td>163.771926</td><td>157.201823</td><td>168.96747</td><td>25</td><td>24</td><td>15</td><td>149.81</td></tr><tr><td>166.914187</td><td>154.651195</td><td>162.012215</td><td>150.327537</td><td>165.863525</td><td>21</td><td>24</td><td>15</td><td>149.81</td></tr><tr><td>171.189342</td><td>158.807042</td><td>160.92443</td><td>153.69444</td><td>165.680863</td><td>29</td><td>24</td><td>15</td><td>149.81</td></tr><tr><td>159.286077</td><td>160.425352</td><td>161.760448</td><td>157.114915</td><td>170.143303</td><td>28</td><td>24</td><td>15</td><td>149.81</td></tr></tbody></table></div>"
      ],
      "text/plain": [
       "shape: (14_160, 9)\n",
       "┌────────────┬────────────┬────────────┬────────────┬───┬───────────┬─────────┬──────────┬─────────┐\n",
       "│ GA         ┆ PSO        ┆ DE         ┆ CMAES      ┆ … ┆ algorithm ┆ problem ┆ instance ┆ optimum │\n",
       "│ ---        ┆ ---        ┆ ---        ┆ ---        ┆   ┆ _run      ┆ ---     ┆ ---      ┆ ---     │\n",
       "│ f64        ┆ f64        ┆ f64        ┆ f64        ┆   ┆ ---       ┆ i32     ┆ i32      ┆ f64     │\n",
       "│            ┆            ┆            ┆            ┆   ┆ i64       ┆         ┆          ┆         │\n",
       "╞════════════╪════════════╪════════════╪════════════╪═══╪═══════════╪═════════╪══════════╪═════════╡\n",
       "│ 79.480002  ┆ 79.48      ┆ 79.48      ┆ 79.48      ┆ … ┆ 0         ┆ 1       ┆ 1        ┆ 79.48   │\n",
       "│ 79.480005  ┆ 79.48      ┆ 79.48      ┆ 79.48      ┆ … ┆ 1         ┆ 1       ┆ 1        ┆ 79.48   │\n",
       "│ 79.480018  ┆ 79.48      ┆ 79.48      ┆ 79.48      ┆ … ┆ 2         ┆ 1       ┆ 1        ┆ 79.48   │\n",
       "│ 79.480001  ┆ 79.48      ┆ 79.48      ┆ 79.48      ┆ … ┆ 3         ┆ 1       ┆ 1        ┆ 79.48   │\n",
       "│ 79.480001  ┆ 79.48      ┆ 79.48      ┆ 79.48      ┆ … ┆ 4         ┆ 1       ┆ 1        ┆ 79.48   │\n",
       "│ …          ┆ …          ┆ …          ┆ …          ┆ … ┆ …         ┆ …       ┆ …        ┆ …       │\n",
       "│ 165.237321 ┆ 163.966211 ┆ 165.145521 ┆ 155.729046 ┆ … ┆ 24        ┆ 24      ┆ 15       ┆ 149.81  │\n",
       "│ 160.237609 ┆ 164.695048 ┆ 163.771926 ┆ 157.201823 ┆ … ┆ 25        ┆ 24      ┆ 15       ┆ 149.81  │\n",
       "│ 166.914187 ┆ 154.651195 ┆ 162.012215 ┆ 150.327537 ┆ … ┆ 21        ┆ 24      ┆ 15       ┆ 149.81  │\n",
       "│ 171.189342 ┆ 158.807042 ┆ 160.92443  ┆ 153.69444  ┆ … ┆ 29        ┆ 24      ┆ 15       ┆ 149.81  │\n",
       "│ 159.286077 ┆ 160.425352 ┆ 161.760448 ┆ 157.114915 ┆ … ┆ 28        ┆ 24      ┆ 15       ┆ 149.81  │\n",
       "└────────────┴────────────┴────────────┴────────────┴───┴───────────┴─────────┴──────────┴─────────┘"
      ]
     },
     "execution_count": 9,
     "metadata": {},
     "output_type": "execute_result"
    }
   ],
   "source": [
    "save_dir = 'lio_problem'\n",
    "runs_dir = f'{save_dir}/runs'\n",
    "performance = pl.read_parquet(f'{runs_dir}/*')\n",
    "\n",
    "performance.sort(['problem', 'instance'])"
   ]
  },
  {
   "cell_type": "code",
   "execution_count": 10,
   "id": "aef85767-ac54-40e7-960b-293d9e538f83",
   "metadata": {},
   "outputs": [
    {
     "data": {
      "text/html": [
       "<div><style>\n",
       ".dataframe > thead > tr,\n",
       ".dataframe > tbody > tr {\n",
       "  text-align: right;\n",
       "  white-space: pre-wrap;\n",
       "}\n",
       "</style>\n",
       "<small>shape: (360, 8)</small><table border=\"1\" class=\"dataframe\"><thead><tr><th>problem</th><th>instance</th><th>GA</th><th>PSO</th><th>DE</th><th>CMAES</th><th>ES</th><th>algorithm_run</th></tr><tr><td>i64</td><td>i64</td><td>f64</td><td>f64</td><td>f64</td><td>f64</td><td>f64</td><td>f64</td></tr></thead><tbody><tr><td>1</td><td>1</td><td>4.0</td><td>2.125</td><td>1.625</td><td>2.25</td><td>5.0</td><td>49.5</td></tr><tr><td>1</td><td>2</td><td>4.0</td><td>2.16</td><td>1.9</td><td>1.94</td><td>5.0</td><td>49.5</td></tr><tr><td>1</td><td>3</td><td>4.0</td><td>2.2</td><td>1.716667</td><td>2.083333</td><td>5.0</td><td>14.5</td></tr><tr><td>1</td><td>4</td><td>4.0</td><td>2.05</td><td>1.75</td><td>2.2</td><td>5.0</td><td>14.5</td></tr><tr><td>1</td><td>5</td><td>4.0</td><td>2.316667</td><td>1.35</td><td>2.333333</td><td>5.0</td><td>14.5</td></tr><tr><td>&hellip;</td><td>&hellip;</td><td>&hellip;</td><td>&hellip;</td><td>&hellip;</td><td>&hellip;</td><td>&hellip;</td><td>&hellip;</td></tr><tr><td>24</td><td>11</td><td>3.9</td><td>2.3</td><td>3.166667</td><td>1.3</td><td>4.333333</td><td>14.5</td></tr><tr><td>24</td><td>12</td><td>3.0</td><td>2.533333</td><td>3.566667</td><td>1.533333</td><td>4.366667</td><td>14.5</td></tr><tr><td>24</td><td>13</td><td>3.733333</td><td>2.433333</td><td>3.2</td><td>1.4</td><td>4.233333</td><td>14.5</td></tr><tr><td>24</td><td>14</td><td>3.433333</td><td>2.066667</td><td>3.466667</td><td>1.633333</td><td>4.4</td><td>14.5</td></tr><tr><td>24</td><td>15</td><td>3.7</td><td>2.666667</td><td>3.033333</td><td>1.3</td><td>4.3</td><td>14.5</td></tr></tbody></table></div>"
      ],
      "text/plain": [
       "shape: (360, 8)\n",
       "┌─────────┬──────────┬──────────┬──────────┬──────────┬──────────┬──────────┬───────────────┐\n",
       "│ problem ┆ instance ┆ GA       ┆ PSO      ┆ DE       ┆ CMAES    ┆ ES       ┆ algorithm_run │\n",
       "│ ---     ┆ ---      ┆ ---      ┆ ---      ┆ ---      ┆ ---      ┆ ---      ┆ ---           │\n",
       "│ i64     ┆ i64      ┆ f64      ┆ f64      ┆ f64      ┆ f64      ┆ f64      ┆ f64           │\n",
       "╞═════════╪══════════╪══════════╪══════════╪══════════╪══════════╪══════════╪═══════════════╡\n",
       "│ 1       ┆ 1        ┆ 4.0      ┆ 2.125    ┆ 1.625    ┆ 2.25     ┆ 5.0      ┆ 49.5          │\n",
       "│ 1       ┆ 2        ┆ 4.0      ┆ 2.16     ┆ 1.9      ┆ 1.94     ┆ 5.0      ┆ 49.5          │\n",
       "│ 1       ┆ 3        ┆ 4.0      ┆ 2.2      ┆ 1.716667 ┆ 2.083333 ┆ 5.0      ┆ 14.5          │\n",
       "│ 1       ┆ 4        ┆ 4.0      ┆ 2.05     ┆ 1.75     ┆ 2.2      ┆ 5.0      ┆ 14.5          │\n",
       "│ 1       ┆ 5        ┆ 4.0      ┆ 2.316667 ┆ 1.35     ┆ 2.333333 ┆ 5.0      ┆ 14.5          │\n",
       "│ …       ┆ …        ┆ …        ┆ …        ┆ …        ┆ …        ┆ …        ┆ …             │\n",
       "│ 24      ┆ 11       ┆ 3.9      ┆ 2.3      ┆ 3.166667 ┆ 1.3      ┆ 4.333333 ┆ 14.5          │\n",
       "│ 24      ┆ 12       ┆ 3.0      ┆ 2.533333 ┆ 3.566667 ┆ 1.533333 ┆ 4.366667 ┆ 14.5          │\n",
       "│ 24      ┆ 13       ┆ 3.733333 ┆ 2.433333 ┆ 3.2      ┆ 1.4      ┆ 4.233333 ┆ 14.5          │\n",
       "│ 24      ┆ 14       ┆ 3.433333 ┆ 2.066667 ┆ 3.466667 ┆ 1.633333 ┆ 4.4      ┆ 14.5          │\n",
       "│ 24      ┆ 15       ┆ 3.7      ┆ 2.666667 ┆ 3.033333 ┆ 1.3      ┆ 4.3      ┆ 14.5          │\n",
       "└─────────┴──────────┴──────────┴──────────┴──────────┴──────────┴──────────┴───────────────┘"
      ]
     },
     "execution_count": 10,
     "metadata": {},
     "output_type": "execute_result"
    }
   ],
   "source": [
    "performance_ranks = get_ranks(performance).group_by(['problem','instance']).mean().with_columns([\n",
    "    pl.col(\"problem\").cast(pl.Int64),\n",
    "    pl.col(\"instance\").cast(pl.Int64)\n",
    "])\n",
    "performance_ranks = performance_ranks.sort(['problem', 'instance'])\n",
    "performance_ranks"
   ]
  },
  {
   "cell_type": "code",
   "execution_count": 11,
   "id": "ad90bd58-5209-441d-a42e-57a3fd775b6b",
   "metadata": {},
   "outputs": [
    {
     "data": {
      "text/html": [
       "<div><style>\n",
       ".dataframe > thead > tr,\n",
       ".dataframe > tbody > tr {\n",
       "  text-align: right;\n",
       "  white-space: pre-wrap;\n",
       "}\n",
       "</style>\n",
       "<small>shape: (360, 10)</small><table border=\"1\" class=\"dataframe\"><thead><tr><th>problem</th><th>instance</th><th>GA</th><th>PSO</th><th>DE</th><th>CMAES</th><th>ES</th><th>algorithm_run</th><th>bar|count|log</th><th>bar|len|mean</th></tr><tr><td>i64</td><td>i64</td><td>f64</td><td>f64</td><td>f64</td><td>f64</td><td>f64</td><td>f64</td><td>f64</td><td>f64</td></tr></thead><tbody><tr><td>1</td><td>1</td><td>4.0</td><td>2.125</td><td>1.625</td><td>2.25</td><td>5.0</td><td>49.5</td><td>0.0</td><td>1.0</td></tr><tr><td>1</td><td>2</td><td>4.0</td><td>2.16</td><td>1.9</td><td>1.94</td><td>5.0</td><td>49.5</td><td>0.0</td><td>1.0</td></tr><tr><td>1</td><td>3</td><td>4.0</td><td>2.2</td><td>1.716667</td><td>2.083333</td><td>5.0</td><td>14.5</td><td>0.0</td><td>1.0</td></tr><tr><td>1</td><td>4</td><td>4.0</td><td>2.05</td><td>1.75</td><td>2.2</td><td>5.0</td><td>14.5</td><td>0.0</td><td>1.0</td></tr><tr><td>1</td><td>5</td><td>4.0</td><td>2.316667</td><td>1.35</td><td>2.333333</td><td>5.0</td><td>14.5</td><td>0.0</td><td>1.0</td></tr><tr><td>&hellip;</td><td>&hellip;</td><td>&hellip;</td><td>&hellip;</td><td>&hellip;</td><td>&hellip;</td><td>&hellip;</td><td>&hellip;</td><td>&hellip;</td><td>&hellip;</td></tr><tr><td>24</td><td>11</td><td>3.9</td><td>2.3</td><td>3.166667</td><td>1.3</td><td>4.333333</td><td>14.5</td><td>4.875197</td><td>0.278456</td></tr><tr><td>24</td><td>12</td><td>3.0</td><td>2.533333</td><td>3.566667</td><td>1.533333</td><td>4.366667</td><td>14.5</td><td>5.236442</td><td>0.357099</td></tr><tr><td>24</td><td>13</td><td>3.733333</td><td>2.433333</td><td>3.2</td><td>1.4</td><td>4.233333</td><td>14.5</td><td>4.718499</td><td>0.196314</td></tr><tr><td>24</td><td>14</td><td>3.433333</td><td>2.066667</td><td>3.466667</td><td>1.633333</td><td>4.4</td><td>14.5</td><td>5.451038</td><td>0.263117</td></tr><tr><td>24</td><td>15</td><td>3.7</td><td>2.666667</td><td>3.033333</td><td>1.3</td><td>4.3</td><td>14.5</td><td>5.398163</td><td>0.309943</td></tr></tbody></table></div>"
      ],
      "text/plain": [
       "shape: (360, 10)\n",
       "┌─────────┬──────────┬──────────┬──────────┬───┬──────────┬─────────────┬─────────────┬────────────┐\n",
       "│ problem ┆ instance ┆ GA       ┆ PSO      ┆ … ┆ ES       ┆ algorithm_r ┆ bar|count|l ┆ bar|len|me │\n",
       "│ ---     ┆ ---      ┆ ---      ┆ ---      ┆   ┆ ---      ┆ un          ┆ og          ┆ an         │\n",
       "│ i64     ┆ i64      ┆ f64      ┆ f64      ┆   ┆ f64      ┆ ---         ┆ ---         ┆ ---        │\n",
       "│         ┆          ┆          ┆          ┆   ┆          ┆ f64         ┆ f64         ┆ f64        │\n",
       "╞═════════╪══════════╪══════════╪══════════╪═══╪══════════╪═════════════╪═════════════╪════════════╡\n",
       "│ 1       ┆ 1        ┆ 4.0      ┆ 2.125    ┆ … ┆ 5.0      ┆ 49.5        ┆ 0.0         ┆ 1.0        │\n",
       "│ 1       ┆ 2        ┆ 4.0      ┆ 2.16     ┆ … ┆ 5.0      ┆ 49.5        ┆ 0.0         ┆ 1.0        │\n",
       "│ 1       ┆ 3        ┆ 4.0      ┆ 2.2      ┆ … ┆ 5.0      ┆ 14.5        ┆ 0.0         ┆ 1.0        │\n",
       "│ 1       ┆ 4        ┆ 4.0      ┆ 2.05     ┆ … ┆ 5.0      ┆ 14.5        ┆ 0.0         ┆ 1.0        │\n",
       "│ 1       ┆ 5        ┆ 4.0      ┆ 2.316667 ┆ … ┆ 5.0      ┆ 14.5        ┆ 0.0         ┆ 1.0        │\n",
       "│ …       ┆ …        ┆ …        ┆ …        ┆ … ┆ …        ┆ …           ┆ …           ┆ …          │\n",
       "│ 24      ┆ 11       ┆ 3.9      ┆ 2.3      ┆ … ┆ 4.333333 ┆ 14.5        ┆ 4.875197    ┆ 0.278456   │\n",
       "│ 24      ┆ 12       ┆ 3.0      ┆ 2.533333 ┆ … ┆ 4.366667 ┆ 14.5        ┆ 5.236442    ┆ 0.357099   │\n",
       "│ 24      ┆ 13       ┆ 3.733333 ┆ 2.433333 ┆ … ┆ 4.233333 ┆ 14.5        ┆ 4.718499    ┆ 0.196314   │\n",
       "│ 24      ┆ 14       ┆ 3.433333 ┆ 2.066667 ┆ … ┆ 4.4      ┆ 14.5        ┆ 5.451038    ┆ 0.263117   │\n",
       "│ 24      ┆ 15       ┆ 3.7      ┆ 2.666667 ┆ … ┆ 4.3      ┆ 14.5        ┆ 5.398163    ┆ 0.309943   │\n",
       "└─────────┴──────────┴──────────┴──────────┴───┴──────────┴─────────────┴─────────────┴────────────┘"
      ]
     },
     "execution_count": 11,
     "metadata": {},
     "output_type": "execute_result"
    }
   ],
   "source": [
    "joined = performance_ranks.join(fdf, on=[\"problem\", \"instance\"], how=\"inner\")\n",
    "joined"
   ]
  },
  {
   "cell_type": "code",
   "execution_count": 12,
   "id": "1dc3fedb-1699-4725-aeec-f4fc8d3ee2e9",
   "metadata": {},
   "outputs": [
    {
     "name": "stdout",
     "output_type": "stream",
     "text": [
      "['bar|count|log', 'bar|len|mean']\n"
     ]
    }
   ],
   "source": [
    "def pairwise_error(true, pred):\n",
    "    algorithms = true.columns\n",
    "    false_pairs = 0\n",
    "    all_pairs = 0\n",
    "    for algo1 in algorithms:\n",
    "        for algo2 in algorithms:\n",
    "            if algo1==algo2:\n",
    "                continue\n",
    "            orders = ((true[algo1] < true[algo2]) != (pred[algo1] < pred[algo2])).to_numpy()\n",
    "            false_pairs += orders.sum()\n",
    "            all_pairs += len(orders)\n",
    "    return false_pairs/all_pairs\n",
    "\n",
    "def get_pred(model, X_train, y_train, X_test):\n",
    "    algos = y_train.columns\n",
    "    model.fit(X_train, y_train)\n",
    "    return pl.DataFrame(model.predict(X_test), schema=algorithms)\n",
    "\n",
    "def get_pred2(model, X_train, y_train, X_test):\n",
    "    algos = y_train.columns\n",
    "    predictions = []\n",
    "\n",
    "    for feature in X_train.columns:\n",
    "        model.fit(X_train[[feature]], y_train)\n",
    "        predictions.append(model.predict(X_test[[feature]]))\n",
    "\n",
    "    combined_predictions = sum(predictions) / len(predictions)\n",
    "    return pl.DataFrame(combined_predictions, schema=algos)\n",
    "\n",
    "algorithms=[\"GA\", \"PSO\", \"DE\", \"CMAES\", \"ES\"]\n",
    "selected_columns = [c for c in joined.columns if c.startswith('bar')]\n",
    "print(selected_columns)\n",
    "stats = []\n",
    "\n",
    "for run in range(4):\n",
    "    for problem_index in range(1, 25):\n",
    "        train_df, test_df = joined.filter(pl.col('problem')!=problem_index), joined.filter(pl.col('problem')==problem_index)\n",
    "\n",
    "        X_train = train_df[selected_columns]\n",
    "        y_train = train_df[algorithms]\n",
    "        X_test = test_df[selected_columns]\n",
    "        y_test = test_df[algorithms]\n",
    "\n",
    "        from sklearn.ensemble import RandomForestRegressor\n",
    "        from sklearn.feature_selection import SequentialFeatureSelector\n",
    "        from sklearn.pipeline import Pipeline\n",
    "        model = RandomForestRegressor(n_jobs=-1)\n",
    "        \n",
    "        #model = Pipeline([\n",
    "        #    ('feature_selection', SequentialFeatureSelector(\n",
    "        #        estimator=RandomForestRegressor(n_estimators=300, n_jobs=-1),\n",
    "        #        n_features_to_select=\"auto\",  # Automatically determine optimal number of features\n",
    "        #        direction='forward',  # Use forward feature selection\n",
    "        #        scoring='r2',  # Optimize for R² metric\n",
    "        #        cv=5)),  # Perform 5-fold cross-validation\n",
    "        #    ('regressor', RandomForestRegressor(n_estimators=300, n_jobs=-1))\n",
    "        #])\n",
    "        \n",
    "        pred = get_pred(model, X_train, y_train, X_test)\n",
    "        error = pairwise_error(y_test, pred)\n",
    "        stats.append({'error': error, 'model': f'{model.__class__.__name__}', 'out': problem_index, 'mode': 'LPO', 'run': run})\n",
    "\n",
    "        from sklearn.dummy import DummyRegressor\n",
    "        model = DummyRegressor()\n",
    "        pred = get_pred(model, X_train, y_train, X_test)\n",
    "        error = pairwise_error(y_test, pred)\n",
    "        stats.append({'error': error, 'model': f'{model.__class__.__name__}', 'out': problem_index, 'mode': 'LPO', 'run': run})"
   ]
  },
  {
   "cell_type": "code",
   "execution_count": 13,
   "id": "90a3fc65-a063-4618-9da0-c735216ef11c",
   "metadata": {},
   "outputs": [
    {
     "data": {
      "text/html": [
       "<div><style>\n",
       ".dataframe > thead > tr,\n",
       ".dataframe > tbody > tr {\n",
       "  text-align: right;\n",
       "  white-space: pre-wrap;\n",
       "}\n",
       "</style>\n",
       "<small>shape: (192, 5)</small><table border=\"1\" class=\"dataframe\"><thead><tr><th>error</th><th>model</th><th>out</th><th>mode</th><th>run</th></tr><tr><td>f64</td><td>str</td><td>i64</td><td>str</td><td>i64</td></tr></thead><tbody><tr><td>0.233333</td><td>&quot;RandomForestRegressor&quot;</td><td>1</td><td>&quot;LPO&quot;</td><td>0</td></tr><tr><td>0.233333</td><td>&quot;DummyRegressor&quot;</td><td>1</td><td>&quot;LPO&quot;</td><td>0</td></tr><tr><td>0.2</td><td>&quot;RandomForestRegressor&quot;</td><td>2</td><td>&quot;LPO&quot;</td><td>0</td></tr><tr><td>0.2</td><td>&quot;DummyRegressor&quot;</td><td>2</td><td>&quot;LPO&quot;</td><td>0</td></tr><tr><td>0.226667</td><td>&quot;RandomForestRegressor&quot;</td><td>3</td><td>&quot;LPO&quot;</td><td>0</td></tr><tr><td>&hellip;</td><td>&hellip;</td><td>&hellip;</td><td>&hellip;</td><td>&hellip;</td></tr><tr><td>0.64</td><td>&quot;DummyRegressor&quot;</td><td>22</td><td>&quot;LPO&quot;</td><td>3</td></tr><tr><td>0.19</td><td>&quot;RandomForestRegressor&quot;</td><td>23</td><td>&quot;LPO&quot;</td><td>3</td></tr><tr><td>0.283333</td><td>&quot;DummyRegressor&quot;</td><td>23</td><td>&quot;LPO&quot;</td><td>3</td></tr><tr><td>0.153333</td><td>&quot;RandomForestRegressor&quot;</td><td>24</td><td>&quot;LPO&quot;</td><td>3</td></tr><tr><td>0.026667</td><td>&quot;DummyRegressor&quot;</td><td>24</td><td>&quot;LPO&quot;</td><td>3</td></tr></tbody></table></div>"
      ],
      "text/plain": [
       "shape: (192, 5)\n",
       "┌──────────┬───────────────────────┬─────┬──────┬─────┐\n",
       "│ error    ┆ model                 ┆ out ┆ mode ┆ run │\n",
       "│ ---      ┆ ---                   ┆ --- ┆ ---  ┆ --- │\n",
       "│ f64      ┆ str                   ┆ i64 ┆ str  ┆ i64 │\n",
       "╞══════════╪═══════════════════════╪═════╪══════╪═════╡\n",
       "│ 0.233333 ┆ RandomForestRegressor ┆ 1   ┆ LPO  ┆ 0   │\n",
       "│ 0.233333 ┆ DummyRegressor        ┆ 1   ┆ LPO  ┆ 0   │\n",
       "│ 0.2      ┆ RandomForestRegressor ┆ 2   ┆ LPO  ┆ 0   │\n",
       "│ 0.2      ┆ DummyRegressor        ┆ 2   ┆ LPO  ┆ 0   │\n",
       "│ 0.226667 ┆ RandomForestRegressor ┆ 3   ┆ LPO  ┆ 0   │\n",
       "│ …        ┆ …                     ┆ …   ┆ …    ┆ …   │\n",
       "│ 0.64     ┆ DummyRegressor        ┆ 22  ┆ LPO  ┆ 3   │\n",
       "│ 0.19     ┆ RandomForestRegressor ┆ 23  ┆ LPO  ┆ 3   │\n",
       "│ 0.283333 ┆ DummyRegressor        ┆ 23  ┆ LPO  ┆ 3   │\n",
       "│ 0.153333 ┆ RandomForestRegressor ┆ 24  ┆ LPO  ┆ 3   │\n",
       "│ 0.026667 ┆ DummyRegressor        ┆ 24  ┆ LPO  ┆ 3   │\n",
       "└──────────┴───────────────────────┴─────┴──────┴─────┘"
      ]
     },
     "execution_count": 13,
     "metadata": {},
     "output_type": "execute_result"
    }
   ],
   "source": [
    "df = pl.DataFrame(stats)\n",
    "df"
   ]
  },
  {
   "cell_type": "code",
   "execution_count": 14,
   "id": "aef8f49d-5d01-49c8-8f8a-4c25ce0392d7",
   "metadata": {},
   "outputs": [
    {
     "data": {
      "text/html": [
       "<div><style>\n",
       ".dataframe > thead > tr,\n",
       ".dataframe > tbody > tr {\n",
       "  text-align: right;\n",
       "  white-space: pre-wrap;\n",
       "}\n",
       "</style>\n",
       "<small>shape: (2, 5)</small><table border=\"1\" class=\"dataframe\"><thead><tr><th>model</th><th>error</th><th>out</th><th>mode</th><th>run</th></tr><tr><td>str</td><td>f64</td><td>f64</td><td>str</td><td>f64</td></tr></thead><tbody><tr><td>&quot;DummyRegressor&quot;</td><td>0.305972</td><td>12.5</td><td>null</td><td>1.5</td></tr><tr><td>&quot;RandomForestRegressor&quot;</td><td>0.254028</td><td>12.5</td><td>null</td><td>1.5</td></tr></tbody></table></div>"
      ],
      "text/plain": [
       "shape: (2, 5)\n",
       "┌───────────────────────┬──────────┬──────┬──────┬─────┐\n",
       "│ model                 ┆ error    ┆ out  ┆ mode ┆ run │\n",
       "│ ---                   ┆ ---      ┆ ---  ┆ ---  ┆ --- │\n",
       "│ str                   ┆ f64      ┆ f64  ┆ str  ┆ f64 │\n",
       "╞═══════════════════════╪══════════╪══════╪══════╪═════╡\n",
       "│ DummyRegressor        ┆ 0.305972 ┆ 12.5 ┆ null ┆ 1.5 │\n",
       "│ RandomForestRegressor ┆ 0.254028 ┆ 12.5 ┆ null ┆ 1.5 │\n",
       "└───────────────────────┴──────────┴──────┴──────┴─────┘"
      ]
     },
     "execution_count": 14,
     "metadata": {},
     "output_type": "execute_result"
    }
   ],
   "source": [
    "df.group_by('model').mean()"
   ]
  },
  {
   "cell_type": "code",
   "execution_count": 15,
   "id": "10c76529-910c-4602-a51f-c5fbb266aaea",
   "metadata": {},
   "outputs": [
    {
     "data": {
      "text/plain": [
       "<Axes: xlabel='model', ylabel='error'>"
      ]
     },
     "execution_count": 15,
     "metadata": {},
     "output_type": "execute_result"
    },
    {
     "data": {
      "image/png": "[encoded data removed]",
      "text/plain": [
       "<Figure size 640x480 with 1 Axes>"
      ]
     },
     "metadata": {},
     "output_type": "display_data"
    }
   ],
   "source": [
    "sns.boxplot(data=df.to_pandas(), x=\"model\", y=\"error\")"
   ]
  },
  {
   "cell_type": "code",
   "execution_count": 16,
   "id": "30566d6d-5140-47af-b818-45c7c87a3d89",
   "metadata": {},
   "outputs": [],
   "source": [
    "v1 = df.filter(pl.col('model')=='RandomForestRegressor').group_by('out').mean().sort('out')['error'].to_numpy()"
   ]
  },
  {
   "cell_type": "code",
   "execution_count": 17,
   "id": "132b64ee-cf0c-4684-98c1-ab4b224ac2cf",
   "metadata": {},
   "outputs": [],
   "source": [
    "v2 = df.filter(pl.col('model')=='DummyRegressor').group_by('out').mean().sort('out')['error'].to_numpy()"
   ]
  },
  {
   "cell_type": "code",
   "execution_count": 20,
   "id": "b4eaec1d-90ea-4144-add7-a4a3d4cfe7ec",
   "metadata": {},
   "outputs": [
    {
     "data": {
      "image/png": "[encoded data removed]",
      "text/plain": [
       "<Figure size 640x480 with 1 Axes>"
      ]
     },
     "metadata": {},
     "output_type": "display_data"
    }
   ],
   "source": [
    "plt.plot(v1, label='rf')\n",
    "plt.plot(v2)\n",
    "plt.legend()\n",
    "plt.show()"
   ]
  },
  {
   "cell_type": "code",
   "execution_count": 19,
   "id": "a8e0df46-5758-404a-8a3b-dc3a35229eb4",
   "metadata": {},
   "outputs": [
    {
     "data": {
      "text/plain": [
       "array([0.23333333, 0.2       , 0.22666667, 0.14666667, 0.495     ,\n",
       "       0.14333333, 0.36      , 0.18      , 0.21333333, 0.29333333,\n",
       "       0.37333333, 0.09666667, 0.25      , 0.1       , 0.39666667,\n",
       "       0.06666667, 0.185     , 0.20833333, 0.11666667, 0.56333333,\n",
       "       0.49333333, 0.41      , 0.19      , 0.155     ])"
      ]
     },
     "execution_count": 19,
     "metadata": {},
     "output_type": "execute_result"
    }
   ],
   "source": [
    "v1"
   ]
  }
 ],
 "metadata": {
  "kernelspec": {
   "display_name": "Base",
   "language": "python",
   "name": "base"
  },
  "language_info": {
   "codemirror_mode": {
    "name": "ipython",
    "version": 3
   },
   "file_extension": ".py",
   "mimetype": "text/x-python",
   "name": "python",
   "nbconvert_exporter": "python",
   "pygments_lexer": "ipython3",
   "version": "3.10.16"
  }
 },
 "nbformat": 4,
 "nbformat_minor": 5
}
