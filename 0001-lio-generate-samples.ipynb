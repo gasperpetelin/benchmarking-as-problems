{
 "cells": [
  {
   "cell_type": "code",
   "execution_count": 1,
   "id": "9849822a-6423-4dc7-a7b8-3d3c68005a52",
   "metadata": {},
   "outputs": [],
   "source": [
    "from utils import *\n",
    "import os.path\n",
    "from scipy.stats import qmc\n",
    "from tqdm import tqdm\n",
    "from pymoo.operators.sampling.lhs import LHS\n",
    "import polars as pl"
   ]
  },
  {
   "cell_type": "code",
   "execution_count": 2,
   "id": "63a4f09f-4a60-4dcd-b0eb-834a24852c16",
   "metadata": {},
   "outputs": [],
   "source": [
    "save_dir = 'lio_problem'\n",
    "create_directory_if_not_exist(save_dir)"
   ]
  },
  {
   "cell_type": "code",
   "execution_count": 3,
   "id": "6baffd8b-9316-4e4f-914a-9840339d2fe1",
   "metadata": {},
   "outputs": [],
   "source": [
    "sample_size = 250 #times dimention\n",
    "problem_dim = 5"
   ]
  },
  {
   "cell_type": "code",
   "execution_count": null,
   "id": "334dcbbc-9c34-4340-9bbe-72a971071dac",
   "metadata": {},
   "outputs": [],
   "source": []
  },
  {
   "cell_type": "code",
   "execution_count": 4,
   "id": "3179acd1-621f-40e5-9559-19f1a1e8c39f",
   "metadata": {},
   "outputs": [],
   "source": [
    "suite = list(generate_problems(problem_dim))"
   ]
  },
  {
   "cell_type": "code",
   "execution_count": 5,
   "id": "074e4743-9a0d-4023-8f0b-1e0ff9ec3285",
   "metadata": {},
   "outputs": [],
   "source": [
    "file = f'{save_dir}/samples__dim_{problem_dim}__samplesize_{sample_size}.parquet'"
   ]
  },
  {
   "cell_type": "code",
   "execution_count": 6,
   "id": "8bd76f6e-f49a-4d17-acb7-b582a3d53362",
   "metadata": {},
   "outputs": [],
   "source": [
    "if os.path.isfile(file)==False:\n",
    "    data = {'problem': [], 'instance': [], 'y':[], 'optimum':[]}\n",
    "    \n",
    "    for problem in tqdm(suite):\n",
    "        sampling = LHS()\n",
    "        sampler = qmc.LatinHypercube(d=problem.n_var)\n",
    "        sample = sampler.random(n=sample_size*problem.n_var)\n",
    "        sample_scaled = qmc.scale(sample, problem.xl, problem.xu)\n",
    "        data['problem'].extend(len(sample_scaled)*[problem.id_function])\n",
    "        data['instance'].extend(len(sample_scaled)*[problem.id_instance])\n",
    "        #l = []\n",
    "        #for r in range(problem.dimension):\n",
    "        #    if f'x_{r}' not in data:\n",
    "        #        data[f'x_{r}'] = []\n",
    "        #    data[f'x_{r}'].extend(sample_scaled[:, r])\n",
    "        #for s in sample_scaled:\n",
    "        #    v = problem(s)\n",
    "        #    l.append(v)\n",
    "        #data['y'].extend(l)\n",
    "        #print(sample_scaled.shape)\n",
    "        for r in range(problem.n_var):\n",
    "            if f'x_{r}' not in data:\n",
    "                data[f'x_{r}'] = []\n",
    "            data[f'x_{r}'].extend(sample_scaled[:, r])\n",
    "        #print(problem.evaluate(sample_scaled).shape)\n",
    "        data['y'].extend(problem.evaluate(sample_scaled).flatten())\n",
    "        \n",
    "        opt = problem.evaluate(problem.pareto_set())[0, 0]\n",
    "        data['optimum'].extend(len(sample_scaled)*[opt])\n",
    "        \n",
    "        \n",
    "        \n",
    "        \n",
    "    df = pl.DataFrame(data)\n",
    "    df.write_parquet(file)\n",
    "else:\n",
    "    df = pl.read_parquet(file)"
   ]
  },
  {
   "cell_type": "code",
   "execution_count": 7,
   "id": "750769cc-15d6-43f2-ae85-9cdcc00119c7",
   "metadata": {},
   "outputs": [
    {
     "data": {
      "text/html": [
       "<div><style>\n",
       ".dataframe > thead > tr,\n",
       ".dataframe > tbody > tr {\n",
       "  text-align: right;\n",
       "  white-space: pre-wrap;\n",
       "}\n",
       "</style>\n",
       "<small>shape: (450_000, 9)</small><table border=\"1\" class=\"dataframe\"><thead><tr><th>problem</th><th>instance</th><th>y</th><th>optimum</th><th>x_0</th><th>x_1</th><th>x_2</th><th>x_3</th><th>x_4</th></tr><tr><td>i64</td><td>i64</td><td>f64</td><td>f64</td><td>f64</td><td>f64</td><td>f64</td><td>f64</td><td>f64</td></tr></thead><tbody><tr><td>1</td><td>1</td><td>183.443152</td><td>79.48</td><td>-3.149596</td><td>1.601646</td><td>4.805492</td><td>-2.859105</td><td>2.913973</td></tr><tr><td>1</td><td>1</td><td>137.493662</td><td>79.48</td><td>0.78446</td><td>1.718528</td><td>3.697858</td><td>2.556515</td><td>2.751843</td></tr><tr><td>1</td><td>1</td><td>111.218935</td><td>79.48</td><td>-0.651181</td><td>-0.647084</td><td>-1.350508</td><td>-3.267599</td><td>-4.495132</td></tr><tr><td>1</td><td>1</td><td>162.434749</td><td>79.48</td><td>-3.057518</td><td>-2.772905</td><td>4.3904</td><td>-4.642849</td><td>-2.411301</td></tr><tr><td>1</td><td>1</td><td>101.772582</td><td>79.48</td><td>1.708115</td><td>1.237669</td><td>-0.079004</td><td>2.538148</td><td>1.013913</td></tr><tr><td>&hellip;</td><td>&hellip;</td><td>&hellip;</td><td>&hellip;</td><td>&hellip;</td><td>&hellip;</td><td>&hellip;</td><td>&hellip;</td><td>&hellip;</td></tr><tr><td>24</td><td>15</td><td>373.042109</td><td>149.81</td><td>3.550095</td><td>-2.349579</td><td>0.610341</td><td>-4.475076</td><td>-4.671802</td></tr><tr><td>24</td><td>15</td><td>307.514824</td><td>149.81</td><td>-2.14731</td><td>-4.21336</td><td>-0.549176</td><td>-1.346791</td><td>-0.135708</td></tr><tr><td>24</td><td>15</td><td>314.330617</td><td>149.81</td><td>-4.200217</td><td>2.243036</td><td>-3.145434</td><td>-0.55592</td><td>-1.302764</td></tr><tr><td>24</td><td>15</td><td>290.496796</td><td>149.81</td><td>-3.610818</td><td>-0.501484</td><td>-2.538735</td><td>4.095798</td><td>0.147821</td></tr><tr><td>24</td><td>15</td><td>301.40487</td><td>149.81</td><td>-3.2968</td><td>-4.394388</td><td>2.68798</td><td>1.080968</td><td>-0.18128</td></tr></tbody></table></div>"
      ],
      "text/plain": [
       "shape: (450_000, 9)\n",
       "┌─────────┬──────────┬────────────┬─────────┬───┬───────────┬───────────┬───────────┬───────────┐\n",
       "│ problem ┆ instance ┆ y          ┆ optimum ┆ … ┆ x_1       ┆ x_2       ┆ x_3       ┆ x_4       │\n",
       "│ ---     ┆ ---      ┆ ---        ┆ ---     ┆   ┆ ---       ┆ ---       ┆ ---       ┆ ---       │\n",
       "│ i64     ┆ i64      ┆ f64        ┆ f64     ┆   ┆ f64       ┆ f64       ┆ f64       ┆ f64       │\n",
       "╞═════════╪══════════╪════════════╪═════════╪═══╪═══════════╪═══════════╪═══════════╪═══════════╡\n",
       "│ 1       ┆ 1        ┆ 183.443152 ┆ 79.48   ┆ … ┆ 1.601646  ┆ 4.805492  ┆ -2.859105 ┆ 2.913973  │\n",
       "│ 1       ┆ 1        ┆ 137.493662 ┆ 79.48   ┆ … ┆ 1.718528  ┆ 3.697858  ┆ 2.556515  ┆ 2.751843  │\n",
       "│ 1       ┆ 1        ┆ 111.218935 ┆ 79.48   ┆ … ┆ -0.647084 ┆ -1.350508 ┆ -3.267599 ┆ -4.495132 │\n",
       "│ 1       ┆ 1        ┆ 162.434749 ┆ 79.48   ┆ … ┆ -2.772905 ┆ 4.3904    ┆ -4.642849 ┆ -2.411301 │\n",
       "│ 1       ┆ 1        ┆ 101.772582 ┆ 79.48   ┆ … ┆ 1.237669  ┆ -0.079004 ┆ 2.538148  ┆ 1.013913  │\n",
       "│ …       ┆ …        ┆ …          ┆ …       ┆ … ┆ …         ┆ …         ┆ …         ┆ …         │\n",
       "│ 24      ┆ 15       ┆ 373.042109 ┆ 149.81  ┆ … ┆ -2.349579 ┆ 0.610341  ┆ -4.475076 ┆ -4.671802 │\n",
       "│ 24      ┆ 15       ┆ 307.514824 ┆ 149.81  ┆ … ┆ -4.21336  ┆ -0.549176 ┆ -1.346791 ┆ -0.135708 │\n",
       "│ 24      ┆ 15       ┆ 314.330617 ┆ 149.81  ┆ … ┆ 2.243036  ┆ -3.145434 ┆ -0.55592  ┆ -1.302764 │\n",
       "│ 24      ┆ 15       ┆ 290.496796 ┆ 149.81  ┆ … ┆ -0.501484 ┆ -2.538735 ┆ 4.095798  ┆ 0.147821  │\n",
       "│ 24      ┆ 15       ┆ 301.40487  ┆ 149.81  ┆ … ┆ -4.394388 ┆ 2.68798   ┆ 1.080968  ┆ -0.18128  │\n",
       "└─────────┴──────────┴────────────┴─────────┴───┴───────────┴───────────┴───────────┴───────────┘"
      ]
     },
     "execution_count": 7,
     "metadata": {},
     "output_type": "execute_result"
    }
   ],
   "source": [
    "df"
   ]
  }
 ],
 "metadata": {
  "kernelspec": {
   "display_name": "Base",
   "language": "python",
   "name": "base"
  },
  "language_info": {
   "codemirror_mode": {
    "name": "ipython",
    "version": 3
   },
   "file_extension": ".py",
   "mimetype": "text/x-python",
   "name": "python",
   "nbconvert_exporter": "python",
   "pygments_lexer": "ipython3",
   "version": "3.10.16"
  }
 },
 "nbformat": 4,
 "nbformat_minor": 5
}
