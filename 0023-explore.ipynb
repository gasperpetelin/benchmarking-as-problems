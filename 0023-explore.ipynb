{
 "cells": [
  {
   "cell_type": "code",
   "execution_count": 1,
   "id": "52759dc3-c399-4e4f-a352-dc553aca4071",
   "metadata": {},
   "outputs": [],
   "source": [
    "from utils import *\n",
    "from tqdm import tqdm\n",
    "from pymoo.vendor.vendor_coco import COCOProblem\n",
    "from pymoo.problems import get_problem\n",
    "import polars as pl"
   ]
  },
  {
   "cell_type": "code",
   "execution_count": null,
   "id": "3d644c71-4494-45c0-b425-af3afcc33f53",
   "metadata": {},
   "outputs": [],
   "source": []
  },
  {
   "cell_type": "code",
   "execution_count": 2,
   "id": "2f0bcb97-c4cc-440b-9f51-e1206008ae23",
   "metadata": {},
   "outputs": [],
   "source": [
    "save_dir = 'scale_2_problem'\n",
    "create_directory_if_not_exist(save_dir)"
   ]
  },
  {
   "cell_type": "code",
   "execution_count": 3,
   "id": "f5badc0f-f4a5-4b33-b4d5-2a681c0e14eb",
   "metadata": {},
   "outputs": [],
   "source": [
    "problem_dim = 5\n",
    "n_runs = 100\n",
    "n_evals = 1000\n",
    "sample_size = 250\n",
    "problem_dim = 5"
   ]
  },
  {
   "cell_type": "code",
   "execution_count": 4,
   "id": "0e57a346-f689-4d1d-92ec-90149ce6759b",
   "metadata": {},
   "outputs": [],
   "source": [
    "#suite = generate_problems(problem_dim, 300)"
   ]
  },
  {
   "cell_type": "code",
   "execution_count": 5,
   "id": "53be82ae-0e3a-4fa1-814e-4cd8b459a5b7",
   "metadata": {},
   "outputs": [],
   "source": [
    "#suite"
   ]
  },
  {
   "cell_type": "code",
   "execution_count": 6,
   "id": "d8df49be-9ad9-4685-a6c4-ab19ddfeecee",
   "metadata": {},
   "outputs": [],
   "source": [
    "runs_dir = f'{save_dir}/runs'\n",
    "create_directory_if_not_exist(runs_dir)"
   ]
  },
  {
   "cell_type": "code",
   "execution_count": null,
   "id": "a410e482-bbc8-4923-b5a4-f8fedb4e6944",
   "metadata": {},
   "outputs": [],
   "source": []
  },
  {
   "cell_type": "code",
   "execution_count": 7,
   "id": "5b5fb85e-4108-45d8-a779-337e3286f504",
   "metadata": {},
   "outputs": [
    {
     "data": {
      "text/html": [
       "<div><style>\n",
       ".dataframe > thead > tr,\n",
       ".dataframe > tbody > tr {\n",
       "  text-align: right;\n",
       "  white-space: pre-wrap;\n",
       "}\n",
       "</style>\n",
       "<small>shape: (14_160, 9)</small><table border=\"1\" class=\"dataframe\"><thead><tr><th>GA</th><th>PSO</th><th>DE</th><th>CMAES</th><th>ES</th><th>algorithm_run</th><th>problem</th><th>instance</th><th>optimum</th></tr><tr><td>f64</td><td>f64</td><td>f64</td><td>f64</td><td>f64</td><td>i64</td><td>i32</td><td>i32</td><td>f64</td></tr></thead><tbody><tr><td>79.480004</td><td>79.48</td><td>79.48</td><td>79.48</td><td>79.480384</td><td>0</td><td>1</td><td>1</td><td>79.48</td></tr><tr><td>79.480013</td><td>79.48</td><td>79.48</td><td>79.48</td><td>79.481348</td><td>1</td><td>1</td><td>1</td><td>79.48</td></tr><tr><td>79.480011</td><td>79.48</td><td>79.48</td><td>79.48</td><td>79.48013</td><td>2</td><td>1</td><td>1</td><td>79.48</td></tr><tr><td>79.480002</td><td>79.48</td><td>79.48</td><td>79.48</td><td>79.481059</td><td>3</td><td>1</td><td>1</td><td>79.48</td></tr><tr><td>79.480004</td><td>79.48</td><td>79.48</td><td>79.48</td><td>79.480959</td><td>4</td><td>1</td><td>1</td><td>79.48</td></tr><tr><td>&hellip;</td><td>&hellip;</td><td>&hellip;</td><td>&hellip;</td><td>&hellip;</td><td>&hellip;</td><td>&hellip;</td><td>&hellip;</td><td>&hellip;</td></tr><tr><td>165.237321</td><td>163.966211</td><td>165.145521</td><td>155.729046</td><td>161.44505</td><td>24</td><td>24</td><td>15</td><td>149.81</td></tr><tr><td>160.237609</td><td>164.695048</td><td>163.771926</td><td>157.201823</td><td>168.96747</td><td>25</td><td>24</td><td>15</td><td>149.81</td></tr><tr><td>166.914187</td><td>154.651195</td><td>162.012215</td><td>150.327537</td><td>165.863525</td><td>21</td><td>24</td><td>15</td><td>149.81</td></tr><tr><td>171.189342</td><td>158.807042</td><td>160.92443</td><td>153.69444</td><td>165.680863</td><td>29</td><td>24</td><td>15</td><td>149.81</td></tr><tr><td>159.286077</td><td>160.425352</td><td>161.760448</td><td>157.114915</td><td>170.143303</td><td>28</td><td>24</td><td>15</td><td>149.81</td></tr></tbody></table></div>"
      ],
      "text/plain": [
       "shape: (14_160, 9)\n",
       "┌────────────┬────────────┬────────────┬────────────┬───┬───────────┬─────────┬──────────┬─────────┐\n",
       "│ GA         ┆ PSO        ┆ DE         ┆ CMAES      ┆ … ┆ algorithm ┆ problem ┆ instance ┆ optimum │\n",
       "│ ---        ┆ ---        ┆ ---        ┆ ---        ┆   ┆ _run      ┆ ---     ┆ ---      ┆ ---     │\n",
       "│ f64        ┆ f64        ┆ f64        ┆ f64        ┆   ┆ ---       ┆ i32     ┆ i32      ┆ f64     │\n",
       "│            ┆            ┆            ┆            ┆   ┆ i64       ┆         ┆          ┆         │\n",
       "╞════════════╪════════════╪════════════╪════════════╪═══╪═══════════╪═════════╪══════════╪═════════╡\n",
       "│ 79.480004  ┆ 79.48      ┆ 79.48      ┆ 79.48      ┆ … ┆ 0         ┆ 1       ┆ 1        ┆ 79.48   │\n",
       "│ 79.480013  ┆ 79.48      ┆ 79.48      ┆ 79.48      ┆ … ┆ 1         ┆ 1       ┆ 1        ┆ 79.48   │\n",
       "│ 79.480011  ┆ 79.48      ┆ 79.48      ┆ 79.48      ┆ … ┆ 2         ┆ 1       ┆ 1        ┆ 79.48   │\n",
       "│ 79.480002  ┆ 79.48      ┆ 79.48      ┆ 79.48      ┆ … ┆ 3         ┆ 1       ┆ 1        ┆ 79.48   │\n",
       "│ 79.480004  ┆ 79.48      ┆ 79.48      ┆ 79.48      ┆ … ┆ 4         ┆ 1       ┆ 1        ┆ 79.48   │\n",
       "│ …          ┆ …          ┆ …          ┆ …          ┆ … ┆ …         ┆ …       ┆ …        ┆ …       │\n",
       "│ 165.237321 ┆ 163.966211 ┆ 165.145521 ┆ 155.729046 ┆ … ┆ 24        ┆ 24      ┆ 15       ┆ 149.81  │\n",
       "│ 160.237609 ┆ 164.695048 ┆ 163.771926 ┆ 157.201823 ┆ … ┆ 25        ┆ 24      ┆ 15       ┆ 149.81  │\n",
       "│ 166.914187 ┆ 154.651195 ┆ 162.012215 ┆ 150.327537 ┆ … ┆ 21        ┆ 24      ┆ 15       ┆ 149.81  │\n",
       "│ 171.189342 ┆ 158.807042 ┆ 160.92443  ┆ 153.69444  ┆ … ┆ 29        ┆ 24      ┆ 15       ┆ 149.81  │\n",
       "│ 159.286077 ┆ 160.425352 ┆ 161.760448 ┆ 157.114915 ┆ … ┆ 28        ┆ 24      ┆ 15       ┆ 149.81  │\n",
       "└────────────┴────────────┴────────────┴────────────┴───┴───────────┴─────────┴──────────┴─────────┘"
      ]
     },
     "execution_count": 7,
     "metadata": {},
     "output_type": "execute_result"
    }
   ],
   "source": [
    "P = pl.read_parquet(f'{runs_dir}/*').sort(['problem', 'instance'])\n",
    "P"
   ]
  },
  {
   "cell_type": "code",
   "execution_count": 8,
   "id": "bc2438bd-6d33-4b7c-86eb-d09fa000d170",
   "metadata": {},
   "outputs": [],
   "source": [
    "#P.group_by(['problem','instance']).count()"
   ]
  },
  {
   "cell_type": "code",
   "execution_count": 9,
   "id": "88092616-a31e-4c7c-ba09-069d813c1387",
   "metadata": {},
   "outputs": [
    {
     "data": {
      "text/html": [
       "<div><style>\n",
       ".dataframe > thead > tr,\n",
       ".dataframe > tbody > tr {\n",
       "  text-align: right;\n",
       "  white-space: pre-wrap;\n",
       "}\n",
       "</style>\n",
       "<small>shape: (450_000, 9)</small><table border=\"1\" class=\"dataframe\"><thead><tr><th>problem</th><th>instance</th><th>y</th><th>optimum</th><th>x_0</th><th>x_1</th><th>x_2</th><th>x_3</th><th>x_4</th></tr><tr><td>i64</td><td>i64</td><td>f64</td><td>f64</td><td>f64</td><td>f64</td><td>f64</td><td>f64</td><td>f64</td></tr></thead><tbody><tr><td>1</td><td>1</td><td>165.046834</td><td>79.48</td><td>-4.229127</td><td>2.787666</td><td>-4.49542</td><td>-0.453723</td><td>2.799324</td></tr><tr><td>1</td><td>1</td><td>145.549628</td><td>79.48</td><td>-3.550885</td><td>-4.083994</td><td>-2.119983</td><td>2.793942</td><td>3.669928</td></tr><tr><td>1</td><td>1</td><td>124.696057</td><td>79.48</td><td>3.069342</td><td>2.30582</td><td>0.784458</td><td>-2.835826</td><td>-3.263183</td></tr><tr><td>1</td><td>1</td><td>181.169573</td><td>79.48</td><td>4.311556</td><td>-3.766387</td><td>3.842537</td><td>-1.696492</td><td>3.984597</td></tr><tr><td>1</td><td>1</td><td>124.411867</td><td>79.48</td><td>2.756261</td><td>3.100243</td><td>-4.234954</td><td>4.753906</td><td>-2.211172</td></tr><tr><td>&hellip;</td><td>&hellip;</td><td>&hellip;</td><td>&hellip;</td><td>&hellip;</td><td>&hellip;</td><td>&hellip;</td><td>&hellip;</td><td>&hellip;</td></tr><tr><td>24</td><td>15</td><td>246.884869</td><td>149.81</td><td>1.347734</td><td>-2.153294</td><td>-1.176135</td><td>2.364704</td><td>-0.516795</td></tr><tr><td>24</td><td>15</td><td>372.082841</td><td>149.81</td><td>4.87877</td><td>1.051937</td><td>-1.893373</td><td>-4.335428</td><td>-4.617713</td></tr><tr><td>24</td><td>15</td><td>394.905955</td><td>149.81</td><td>-3.724222</td><td>-3.088483</td><td>4.794444</td><td>-3.299469</td><td>3.018012</td></tr><tr><td>24</td><td>15</td><td>290.740433</td><td>149.81</td><td>-3.341757</td><td>1.289167</td><td>3.695597</td><td>-1.210673</td><td>1.931059</td></tr><tr><td>24</td><td>15</td><td>312.846295</td><td>149.81</td><td>3.050991</td><td>-1.985001</td><td>-4.572971</td><td>-3.388513</td><td>-2.554724</td></tr></tbody></table></div>"
      ],
      "text/plain": [
       "shape: (450_000, 9)\n",
       "┌─────────┬──────────┬────────────┬─────────┬───┬───────────┬───────────┬───────────┬───────────┐\n",
       "│ problem ┆ instance ┆ y          ┆ optimum ┆ … ┆ x_1       ┆ x_2       ┆ x_3       ┆ x_4       │\n",
       "│ ---     ┆ ---      ┆ ---        ┆ ---     ┆   ┆ ---       ┆ ---       ┆ ---       ┆ ---       │\n",
       "│ i64     ┆ i64      ┆ f64        ┆ f64     ┆   ┆ f64       ┆ f64       ┆ f64       ┆ f64       │\n",
       "╞═════════╪══════════╪════════════╪═════════╪═══╪═══════════╪═══════════╪═══════════╪═══════════╡\n",
       "│ 1       ┆ 1        ┆ 165.046834 ┆ 79.48   ┆ … ┆ 2.787666  ┆ -4.49542  ┆ -0.453723 ┆ 2.799324  │\n",
       "│ 1       ┆ 1        ┆ 145.549628 ┆ 79.48   ┆ … ┆ -4.083994 ┆ -2.119983 ┆ 2.793942  ┆ 3.669928  │\n",
       "│ 1       ┆ 1        ┆ 124.696057 ┆ 79.48   ┆ … ┆ 2.30582   ┆ 0.784458  ┆ -2.835826 ┆ -3.263183 │\n",
       "│ 1       ┆ 1        ┆ 181.169573 ┆ 79.48   ┆ … ┆ -3.766387 ┆ 3.842537  ┆ -1.696492 ┆ 3.984597  │\n",
       "│ 1       ┆ 1        ┆ 124.411867 ┆ 79.48   ┆ … ┆ 3.100243  ┆ -4.234954 ┆ 4.753906  ┆ -2.211172 │\n",
       "│ …       ┆ …        ┆ …          ┆ …       ┆ … ┆ …         ┆ …         ┆ …         ┆ …         │\n",
       "│ 24      ┆ 15       ┆ 246.884869 ┆ 149.81  ┆ … ┆ -2.153294 ┆ -1.176135 ┆ 2.364704  ┆ -0.516795 │\n",
       "│ 24      ┆ 15       ┆ 372.082841 ┆ 149.81  ┆ … ┆ 1.051937  ┆ -1.893373 ┆ -4.335428 ┆ -4.617713 │\n",
       "│ 24      ┆ 15       ┆ 394.905955 ┆ 149.81  ┆ … ┆ -3.088483 ┆ 4.794444  ┆ -3.299469 ┆ 3.018012  │\n",
       "│ 24      ┆ 15       ┆ 290.740433 ┆ 149.81  ┆ … ┆ 1.289167  ┆ 3.695597  ┆ -1.210673 ┆ 1.931059  │\n",
       "│ 24      ┆ 15       ┆ 312.846295 ┆ 149.81  ┆ … ┆ -1.985001 ┆ -4.572971 ┆ -3.388513 ┆ -2.554724 │\n",
       "└─────────┴──────────┴────────────┴─────────┴───┴───────────┴───────────┴───────────┴───────────┘"
      ]
     },
     "execution_count": 9,
     "metadata": {},
     "output_type": "execute_result"
    }
   ],
   "source": [
    "S = pl.read_parquet(f'{save_dir}/samples__dim_{problem_dim}__samplesize_{sample_size}.parquet').sort(['problem', 'instance'])\n",
    "S"
   ]
  },
  {
   "cell_type": "code",
   "execution_count": 10,
   "id": "84e4b7a6-59a0-4d9c-b716-1e114a4b9cb6",
   "metadata": {},
   "outputs": [
    {
     "data": {
      "text/html": [
       "<div><style>\n",
       ".dataframe > thead > tr,\n",
       ".dataframe > tbody > tr {\n",
       "  text-align: right;\n",
       "  white-space: pre-wrap;\n",
       "}\n",
       "</style>\n",
       "<small>shape: (360, 3)</small><table border=\"1\" class=\"dataframe\"><thead><tr><th>problem</th><th>instance</th><th>y_max_min_diff</th></tr><tr><td>i64</td><td>i64</td><td>f64</td></tr></thead><tbody><tr><td>1</td><td>1</td><td>149.310152</td></tr><tr><td>1</td><td>2</td><td>239.340499</td></tr><tr><td>1</td><td>3</td><td>228.249082</td></tr><tr><td>1</td><td>4</td><td>210.016413</td></tr><tr><td>1</td><td>5</td><td>199.365774</td></tr><tr><td>&hellip;</td><td>&hellip;</td><td>&hellip;</td></tr><tr><td>24</td><td>11</td><td>256.010351</td></tr><tr><td>24</td><td>12</td><td>256.99983</td></tr><tr><td>24</td><td>13</td><td>333.7252</td></tr><tr><td>24</td><td>14</td><td>299.574407</td></tr><tr><td>24</td><td>15</td><td>279.255994</td></tr></tbody></table></div>"
      ],
      "text/plain": [
       "shape: (360, 3)\n",
       "┌─────────┬──────────┬────────────────┐\n",
       "│ problem ┆ instance ┆ y_max_min_diff │\n",
       "│ ---     ┆ ---      ┆ ---            │\n",
       "│ i64     ┆ i64      ┆ f64            │\n",
       "╞═════════╪══════════╪════════════════╡\n",
       "│ 1       ┆ 1        ┆ 149.310152     │\n",
       "│ 1       ┆ 2        ┆ 239.340499     │\n",
       "│ 1       ┆ 3        ┆ 228.249082     │\n",
       "│ 1       ┆ 4        ┆ 210.016413     │\n",
       "│ 1       ┆ 5        ┆ 199.365774     │\n",
       "│ …       ┆ …        ┆ …              │\n",
       "│ 24      ┆ 11       ┆ 256.010351     │\n",
       "│ 24      ┆ 12       ┆ 256.99983      │\n",
       "│ 24      ┆ 13       ┆ 333.7252       │\n",
       "│ 24      ┆ 14       ┆ 299.574407     │\n",
       "│ 24      ┆ 15       ┆ 279.255994     │\n",
       "└─────────┴──────────┴────────────────┘"
      ]
     },
     "execution_count": 10,
     "metadata": {},
     "output_type": "execute_result"
    }
   ],
   "source": [
    "F = S.group_by(['problem', 'instance']).agg([\n",
    "    (pl.col('y').max() - pl.col('y').min()).alias('y_max_min_diff')\n",
    "]).sort(['problem', 'instance'])\n",
    "F"
   ]
  },
  {
   "cell_type": "code",
   "execution_count": 11,
   "id": "88135082-ad9b-4b5f-b078-3b97831351e5",
   "metadata": {},
   "outputs": [
    {
     "data": {
      "text/html": [
       "<div><style>\n",
       ".dataframe > thead > tr,\n",
       ".dataframe > tbody > tr {\n",
       "  text-align: right;\n",
       "  white-space: pre-wrap;\n",
       "}\n",
       "</style>\n",
       "<small>shape: (360, 9)</small><table border=\"1\" class=\"dataframe\"><thead><tr><th>problem</th><th>instance</th><th>GA</th><th>PSO</th><th>DE</th><th>CMAES</th><th>ES</th><th>algorithm_run</th><th>optimum</th></tr><tr><td>i64</td><td>i64</td><td>f64</td><td>f64</td><td>f64</td><td>f64</td><td>f64</td><td>f64</td><td>f64</td></tr></thead><tbody><tr><td>1</td><td>1</td><td>0.000016</td><td>2.8848e-14</td><td>0.0</td><td>7.9581e-15</td><td>0.001136</td><td>49.5</td><td>79.48</td></tr><tr><td>1</td><td>2</td><td>0.000013</td><td>2.7853e-14</td><td>0.0</td><td>1.7053e-15</td><td>0.001047</td><td>49.5</td><td>394.48</td></tr><tr><td>1</td><td>3</td><td>0.000013</td><td>3.3159e-14</td><td>0.0</td><td>7.5791e-15</td><td>0.00092</td><td>14.5</td><td>-247.11</td></tr><tr><td>1</td><td>4</td><td>0.000013</td><td>1.8948e-14</td><td>0.0</td><td>8.5265e-15</td><td>0.001631</td><td>14.5</td><td>-152.04</td></tr><tr><td>1</td><td>5</td><td>0.000012</td><td>9.9476e-15</td><td>0.0</td><td>5.9212e-15</td><td>0.001467</td><td>14.5</td><td>-25.25</td></tr><tr><td>&hellip;</td><td>&hellip;</td><td>&hellip;</td><td>&hellip;</td><td>&hellip;</td><td>&hellip;</td><td>&hellip;</td><td>&hellip;</td><td>&hellip;</td></tr><tr><td>24</td><td>11</td><td>14.31429</td><td>9.360397</td><td>11.982249</td><td>6.805988</td><td>16.086218</td><td>14.5</td><td>326.65</td></tr><tr><td>24</td><td>12</td><td>11.846366</td><td>10.339549</td><td>12.413606</td><td>7.110512</td><td>15.602956</td><td>14.5</td><td>58.93</td></tr><tr><td>24</td><td>13</td><td>13.904399</td><td>10.006409</td><td>13.424855</td><td>6.835765</td><td>16.023624</td><td>14.5</td><td>45.9</td></tr><tr><td>24</td><td>14</td><td>12.899329</td><td>9.09279</td><td>12.857732</td><td>7.714248</td><td>16.050095</td><td>14.5</td><td>-102.23</td></tr><tr><td>24</td><td>15</td><td>14.153224</td><td>10.879473</td><td>12.433035</td><td>6.736862</td><td>16.19424</td><td>14.5</td><td>149.81</td></tr></tbody></table></div>"
      ],
      "text/plain": [
       "shape: (360, 9)\n",
       "┌─────────┬──────────┬───────────┬────────────┬───┬────────────┬───────────┬─────────────┬─────────┐\n",
       "│ problem ┆ instance ┆ GA        ┆ PSO        ┆ … ┆ CMAES      ┆ ES        ┆ algorithm_r ┆ optimum │\n",
       "│ ---     ┆ ---      ┆ ---       ┆ ---        ┆   ┆ ---        ┆ ---       ┆ un          ┆ ---     │\n",
       "│ i64     ┆ i64      ┆ f64       ┆ f64        ┆   ┆ f64        ┆ f64       ┆ ---         ┆ f64     │\n",
       "│         ┆          ┆           ┆            ┆   ┆            ┆           ┆ f64         ┆         │\n",
       "╞═════════╪══════════╪═══════════╪════════════╪═══╪════════════╪═══════════╪═════════════╪═════════╡\n",
       "│ 1       ┆ 1        ┆ 0.000016  ┆ 2.8848e-14 ┆ … ┆ 7.9581e-15 ┆ 0.001136  ┆ 49.5        ┆ 79.48   │\n",
       "│ 1       ┆ 2        ┆ 0.000013  ┆ 2.7853e-14 ┆ … ┆ 1.7053e-15 ┆ 0.001047  ┆ 49.5        ┆ 394.48  │\n",
       "│ 1       ┆ 3        ┆ 0.000013  ┆ 3.3159e-14 ┆ … ┆ 7.5791e-15 ┆ 0.00092   ┆ 14.5        ┆ -247.11 │\n",
       "│ 1       ┆ 4        ┆ 0.000013  ┆ 1.8948e-14 ┆ … ┆ 8.5265e-15 ┆ 0.001631  ┆ 14.5        ┆ -152.04 │\n",
       "│ 1       ┆ 5        ┆ 0.000012  ┆ 9.9476e-15 ┆ … ┆ 5.9212e-15 ┆ 0.001467  ┆ 14.5        ┆ -25.25  │\n",
       "│ …       ┆ …        ┆ …         ┆ …          ┆ … ┆ …          ┆ …         ┆ …           ┆ …       │\n",
       "│ 24      ┆ 11       ┆ 14.31429  ┆ 9.360397   ┆ … ┆ 6.805988   ┆ 16.086218 ┆ 14.5        ┆ 326.65  │\n",
       "│ 24      ┆ 12       ┆ 11.846366 ┆ 10.339549  ┆ … ┆ 7.110512   ┆ 15.602956 ┆ 14.5        ┆ 58.93   │\n",
       "│ 24      ┆ 13       ┆ 13.904399 ┆ 10.006409  ┆ … ┆ 6.835765   ┆ 16.023624 ┆ 14.5        ┆ 45.9    │\n",
       "│ 24      ┆ 14       ┆ 12.899329 ┆ 9.09279    ┆ … ┆ 7.714248   ┆ 16.050095 ┆ 14.5        ┆ -102.23 │\n",
       "│ 24      ┆ 15       ┆ 14.153224 ┆ 10.879473  ┆ … ┆ 6.736862   ┆ 16.19424  ┆ 14.5        ┆ 149.81  │\n",
       "└─────────┴──────────┴───────────┴────────────┴───┴────────────┴───────────┴─────────────┴─────────┘"
      ]
     },
     "execution_count": 11,
     "metadata": {},
     "output_type": "execute_result"
    }
   ],
   "source": [
    "precision = P.with_columns([\n",
    "    (pl.col('GA')-pl.col('optimum')).alias('GA'),\n",
    "    (pl.col('PSO')-pl.col('optimum')).alias('PSO'),\n",
    "    (pl.col('DE')-pl.col('optimum')).alias('DE'),\n",
    "    (pl.col('CMAES')-pl.col('optimum')).alias('CMAES'),\n",
    "    (pl.col('ES')-pl.col('optimum')).alias('ES')\n",
    "]).with_columns([\n",
    "    pl.col(\"problem\").cast(pl.Int64),\n",
    "    pl.col(\"instance\").cast(pl.Int64)\n",
    "])\n",
    "precision = precision.group_by(['problem','instance']).mean().with_columns([\n",
    "    pl.col(\"problem\").cast(pl.Int64),\n",
    "    pl.col(\"instance\").cast(pl.Int64)\n",
    "]).sort(['problem', 'instance'])\n",
    "precision"
   ]
  },
  {
   "cell_type": "code",
   "execution_count": 12,
   "id": "709c348c-8186-4aa6-83d2-cc6356abbf2b",
   "metadata": {},
   "outputs": [
    {
     "data": {
      "text/html": [
       "<div><style>\n",
       ".dataframe > thead > tr,\n",
       ".dataframe > tbody > tr {\n",
       "  text-align: right;\n",
       "  white-space: pre-wrap;\n",
       "}\n",
       "</style>\n",
       "<small>shape: (360, 8)</small><table border=\"1\" class=\"dataframe\"><thead><tr><th>problem</th><th>instance</th><th>GA</th><th>PSO</th><th>DE</th><th>CMAES</th><th>ES</th><th>algorithm_run</th></tr><tr><td>i64</td><td>i64</td><td>f64</td><td>f64</td><td>f64</td><td>f64</td><td>f64</td><td>f64</td></tr></thead><tbody><tr><td>1</td><td>1</td><td>4.0</td><td>2.22</td><td>1.615</td><td>2.165</td><td>5.0</td><td>49.5</td></tr><tr><td>1</td><td>2</td><td>4.0</td><td>2.16</td><td>1.9</td><td>1.94</td><td>5.0</td><td>49.5</td></tr><tr><td>1</td><td>3</td><td>4.0</td><td>2.2</td><td>1.716667</td><td>2.083333</td><td>5.0</td><td>14.5</td></tr><tr><td>1</td><td>4</td><td>4.0</td><td>2.05</td><td>1.75</td><td>2.2</td><td>5.0</td><td>14.5</td></tr><tr><td>1</td><td>5</td><td>4.0</td><td>2.316667</td><td>1.35</td><td>2.333333</td><td>5.0</td><td>14.5</td></tr><tr><td>&hellip;</td><td>&hellip;</td><td>&hellip;</td><td>&hellip;</td><td>&hellip;</td><td>&hellip;</td><td>&hellip;</td><td>&hellip;</td></tr><tr><td>24</td><td>11</td><td>3.9</td><td>2.3</td><td>3.166667</td><td>1.3</td><td>4.333333</td><td>14.5</td></tr><tr><td>24</td><td>12</td><td>3.0</td><td>2.533333</td><td>3.566667</td><td>1.533333</td><td>4.366667</td><td>14.5</td></tr><tr><td>24</td><td>13</td><td>3.733333</td><td>2.433333</td><td>3.2</td><td>1.4</td><td>4.233333</td><td>14.5</td></tr><tr><td>24</td><td>14</td><td>3.433333</td><td>2.066667</td><td>3.466667</td><td>1.633333</td><td>4.4</td><td>14.5</td></tr><tr><td>24</td><td>15</td><td>3.7</td><td>2.666667</td><td>3.033333</td><td>1.3</td><td>4.3</td><td>14.5</td></tr></tbody></table></div>"
      ],
      "text/plain": [
       "shape: (360, 8)\n",
       "┌─────────┬──────────┬──────────┬──────────┬──────────┬──────────┬──────────┬───────────────┐\n",
       "│ problem ┆ instance ┆ GA       ┆ PSO      ┆ DE       ┆ CMAES    ┆ ES       ┆ algorithm_run │\n",
       "│ ---     ┆ ---      ┆ ---      ┆ ---      ┆ ---      ┆ ---      ┆ ---      ┆ ---           │\n",
       "│ i64     ┆ i64      ┆ f64      ┆ f64      ┆ f64      ┆ f64      ┆ f64      ┆ f64           │\n",
       "╞═════════╪══════════╪══════════╪══════════╪══════════╪══════════╪══════════╪═══════════════╡\n",
       "│ 1       ┆ 1        ┆ 4.0      ┆ 2.22     ┆ 1.615    ┆ 2.165    ┆ 5.0      ┆ 49.5          │\n",
       "│ 1       ┆ 2        ┆ 4.0      ┆ 2.16     ┆ 1.9      ┆ 1.94     ┆ 5.0      ┆ 49.5          │\n",
       "│ 1       ┆ 3        ┆ 4.0      ┆ 2.2      ┆ 1.716667 ┆ 2.083333 ┆ 5.0      ┆ 14.5          │\n",
       "│ 1       ┆ 4        ┆ 4.0      ┆ 2.05     ┆ 1.75     ┆ 2.2      ┆ 5.0      ┆ 14.5          │\n",
       "│ 1       ┆ 5        ┆ 4.0      ┆ 2.316667 ┆ 1.35     ┆ 2.333333 ┆ 5.0      ┆ 14.5          │\n",
       "│ …       ┆ …        ┆ …        ┆ …        ┆ …        ┆ …        ┆ …        ┆ …             │\n",
       "│ 24      ┆ 11       ┆ 3.9      ┆ 2.3      ┆ 3.166667 ┆ 1.3      ┆ 4.333333 ┆ 14.5          │\n",
       "│ 24      ┆ 12       ┆ 3.0      ┆ 2.533333 ┆ 3.566667 ┆ 1.533333 ┆ 4.366667 ┆ 14.5          │\n",
       "│ 24      ┆ 13       ┆ 3.733333 ┆ 2.433333 ┆ 3.2      ┆ 1.4      ┆ 4.233333 ┆ 14.5          │\n",
       "│ 24      ┆ 14       ┆ 3.433333 ┆ 2.066667 ┆ 3.466667 ┆ 1.633333 ┆ 4.4      ┆ 14.5          │\n",
       "│ 24      ┆ 15       ┆ 3.7      ┆ 2.666667 ┆ 3.033333 ┆ 1.3      ┆ 4.3      ┆ 14.5          │\n",
       "└─────────┴──────────┴──────────┴──────────┴──────────┴──────────┴──────────┴───────────────┘"
      ]
     },
     "execution_count": 12,
     "metadata": {},
     "output_type": "execute_result"
    }
   ],
   "source": [
    "ranks = get_ranks(P).group_by(['problem','instance']).mean().with_columns([\n",
    "    pl.col(\"problem\").cast(pl.Int64),\n",
    "    pl.col(\"instance\").cast(pl.Int64)\n",
    "]).sort(['problem', 'instance'])\n",
    "ranks"
   ]
  },
  {
   "cell_type": "code",
   "execution_count": 13,
   "id": "94fea151-4d6e-4399-ba3c-a5450f1299ed",
   "metadata": {},
   "outputs": [
    {
     "data": {
      "text/html": [
       "<div><style>\n",
       ".dataframe > thead > tr,\n",
       ".dataframe > tbody > tr {\n",
       "  text-align: right;\n",
       "  white-space: pre-wrap;\n",
       "}\n",
       "</style>\n",
       "<small>shape: (360, 10)</small><table border=\"1\" class=\"dataframe\"><thead><tr><th>problem</th><th>instance</th><th>GA</th><th>PSO</th><th>DE</th><th>CMAES</th><th>ES</th><th>algorithm_run</th><th>optimum</th><th>y_max_min_diff</th></tr><tr><td>i64</td><td>i64</td><td>f64</td><td>f64</td><td>f64</td><td>f64</td><td>f64</td><td>f64</td><td>f64</td><td>f64</td></tr></thead><tbody><tr><td>1</td><td>1</td><td>0.000016</td><td>2.8848e-14</td><td>0.0</td><td>7.9581e-15</td><td>0.001136</td><td>49.5</td><td>79.48</td><td>149.310152</td></tr><tr><td>1</td><td>2</td><td>0.000013</td><td>2.7853e-14</td><td>0.0</td><td>1.7053e-15</td><td>0.001047</td><td>49.5</td><td>394.48</td><td>239.340499</td></tr><tr><td>1</td><td>3</td><td>0.000013</td><td>3.3159e-14</td><td>0.0</td><td>7.5791e-15</td><td>0.00092</td><td>14.5</td><td>-247.11</td><td>228.249082</td></tr><tr><td>1</td><td>4</td><td>0.000013</td><td>1.8948e-14</td><td>0.0</td><td>8.5265e-15</td><td>0.001631</td><td>14.5</td><td>-152.04</td><td>210.016413</td></tr><tr><td>1</td><td>5</td><td>0.000012</td><td>9.9476e-15</td><td>0.0</td><td>5.9212e-15</td><td>0.001467</td><td>14.5</td><td>-25.25</td><td>199.365774</td></tr><tr><td>&hellip;</td><td>&hellip;</td><td>&hellip;</td><td>&hellip;</td><td>&hellip;</td><td>&hellip;</td><td>&hellip;</td><td>&hellip;</td><td>&hellip;</td><td>&hellip;</td></tr><tr><td>24</td><td>11</td><td>14.31429</td><td>9.360397</td><td>11.982249</td><td>6.805988</td><td>16.086218</td><td>14.5</td><td>326.65</td><td>256.010351</td></tr><tr><td>24</td><td>12</td><td>11.846366</td><td>10.339549</td><td>12.413606</td><td>7.110512</td><td>15.602956</td><td>14.5</td><td>58.93</td><td>256.99983</td></tr><tr><td>24</td><td>13</td><td>13.904399</td><td>10.006409</td><td>13.424855</td><td>6.835765</td><td>16.023624</td><td>14.5</td><td>45.9</td><td>333.7252</td></tr><tr><td>24</td><td>14</td><td>12.899329</td><td>9.09279</td><td>12.857732</td><td>7.714248</td><td>16.050095</td><td>14.5</td><td>-102.23</td><td>299.574407</td></tr><tr><td>24</td><td>15</td><td>14.153224</td><td>10.879473</td><td>12.433035</td><td>6.736862</td><td>16.19424</td><td>14.5</td><td>149.81</td><td>279.255994</td></tr></tbody></table></div>"
      ],
      "text/plain": [
       "shape: (360, 10)\n",
       "┌─────────┬──────────┬───────────┬────────────┬───┬───────────┬─────────────┬─────────┬────────────┐\n",
       "│ problem ┆ instance ┆ GA        ┆ PSO        ┆ … ┆ ES        ┆ algorithm_r ┆ optimum ┆ y_max_min_ │\n",
       "│ ---     ┆ ---      ┆ ---       ┆ ---        ┆   ┆ ---       ┆ un          ┆ ---     ┆ diff       │\n",
       "│ i64     ┆ i64      ┆ f64       ┆ f64        ┆   ┆ f64       ┆ ---         ┆ f64     ┆ ---        │\n",
       "│         ┆          ┆           ┆            ┆   ┆           ┆ f64         ┆         ┆ f64        │\n",
       "╞═════════╪══════════╪═══════════╪════════════╪═══╪═══════════╪═════════════╪═════════╪════════════╡\n",
       "│ 1       ┆ 1        ┆ 0.000016  ┆ 2.8848e-14 ┆ … ┆ 0.001136  ┆ 49.5        ┆ 79.48   ┆ 149.310152 │\n",
       "│ 1       ┆ 2        ┆ 0.000013  ┆ 2.7853e-14 ┆ … ┆ 0.001047  ┆ 49.5        ┆ 394.48  ┆ 239.340499 │\n",
       "│ 1       ┆ 3        ┆ 0.000013  ┆ 3.3159e-14 ┆ … ┆ 0.00092   ┆ 14.5        ┆ -247.11 ┆ 228.249082 │\n",
       "│ 1       ┆ 4        ┆ 0.000013  ┆ 1.8948e-14 ┆ … ┆ 0.001631  ┆ 14.5        ┆ -152.04 ┆ 210.016413 │\n",
       "│ 1       ┆ 5        ┆ 0.000012  ┆ 9.9476e-15 ┆ … ┆ 0.001467  ┆ 14.5        ┆ -25.25  ┆ 199.365774 │\n",
       "│ …       ┆ …        ┆ …         ┆ …          ┆ … ┆ …         ┆ …           ┆ …       ┆ …          │\n",
       "│ 24      ┆ 11       ┆ 14.31429  ┆ 9.360397   ┆ … ┆ 16.086218 ┆ 14.5        ┆ 326.65  ┆ 256.010351 │\n",
       "│ 24      ┆ 12       ┆ 11.846366 ┆ 10.339549  ┆ … ┆ 15.602956 ┆ 14.5        ┆ 58.93   ┆ 256.99983  │\n",
       "│ 24      ┆ 13       ┆ 13.904399 ┆ 10.006409  ┆ … ┆ 16.023624 ┆ 14.5        ┆ 45.9    ┆ 333.7252   │\n",
       "│ 24      ┆ 14       ┆ 12.899329 ┆ 9.09279    ┆ … ┆ 16.050095 ┆ 14.5        ┆ -102.23 ┆ 299.574407 │\n",
       "│ 24      ┆ 15       ┆ 14.153224 ┆ 10.879473  ┆ … ┆ 16.19424  ┆ 14.5        ┆ 149.81  ┆ 279.255994 │\n",
       "└─────────┴──────────┴───────────┴────────────┴───┴───────────┴─────────────┴─────────┴────────────┘"
      ]
     },
     "execution_count": 13,
     "metadata": {},
     "output_type": "execute_result"
    }
   ],
   "source": [
    "prec_features = precision.join(F, on=['problem', 'instance'], how='inner')\n",
    "prec_features"
   ]
  },
  {
   "cell_type": "code",
   "execution_count": 14,
   "id": "a4b8cf6c-1434-46af-bc6f-dbd182a13774",
   "metadata": {},
   "outputs": [
    {
     "data": {
      "text/html": [
       "<div><style>\n",
       ".dataframe > thead > tr,\n",
       ".dataframe > tbody > tr {\n",
       "  text-align: right;\n",
       "  white-space: pre-wrap;\n",
       "}\n",
       "</style>\n",
       "<small>shape: (360, 9)</small><table border=\"1\" class=\"dataframe\"><thead><tr><th>problem</th><th>instance</th><th>GA</th><th>PSO</th><th>DE</th><th>CMAES</th><th>ES</th><th>algorithm_run</th><th>y_max_min_diff</th></tr><tr><td>i64</td><td>i64</td><td>f64</td><td>f64</td><td>f64</td><td>f64</td><td>f64</td><td>f64</td><td>f64</td></tr></thead><tbody><tr><td>1</td><td>1</td><td>4.0</td><td>2.22</td><td>1.615</td><td>2.165</td><td>5.0</td><td>49.5</td><td>149.310152</td></tr><tr><td>1</td><td>2</td><td>4.0</td><td>2.16</td><td>1.9</td><td>1.94</td><td>5.0</td><td>49.5</td><td>239.340499</td></tr><tr><td>1</td><td>3</td><td>4.0</td><td>2.2</td><td>1.716667</td><td>2.083333</td><td>5.0</td><td>14.5</td><td>228.249082</td></tr><tr><td>1</td><td>4</td><td>4.0</td><td>2.05</td><td>1.75</td><td>2.2</td><td>5.0</td><td>14.5</td><td>210.016413</td></tr><tr><td>1</td><td>5</td><td>4.0</td><td>2.316667</td><td>1.35</td><td>2.333333</td><td>5.0</td><td>14.5</td><td>199.365774</td></tr><tr><td>&hellip;</td><td>&hellip;</td><td>&hellip;</td><td>&hellip;</td><td>&hellip;</td><td>&hellip;</td><td>&hellip;</td><td>&hellip;</td><td>&hellip;</td></tr><tr><td>24</td><td>11</td><td>3.9</td><td>2.3</td><td>3.166667</td><td>1.3</td><td>4.333333</td><td>14.5</td><td>256.010351</td></tr><tr><td>24</td><td>12</td><td>3.0</td><td>2.533333</td><td>3.566667</td><td>1.533333</td><td>4.366667</td><td>14.5</td><td>256.99983</td></tr><tr><td>24</td><td>13</td><td>3.733333</td><td>2.433333</td><td>3.2</td><td>1.4</td><td>4.233333</td><td>14.5</td><td>333.7252</td></tr><tr><td>24</td><td>14</td><td>3.433333</td><td>2.066667</td><td>3.466667</td><td>1.633333</td><td>4.4</td><td>14.5</td><td>299.574407</td></tr><tr><td>24</td><td>15</td><td>3.7</td><td>2.666667</td><td>3.033333</td><td>1.3</td><td>4.3</td><td>14.5</td><td>279.255994</td></tr></tbody></table></div>"
      ],
      "text/plain": [
       "shape: (360, 9)\n",
       "┌─────────┬──────────┬──────────┬──────────┬───┬──────────┬──────────┬──────────────┬──────────────┐\n",
       "│ problem ┆ instance ┆ GA       ┆ PSO      ┆ … ┆ CMAES    ┆ ES       ┆ algorithm_ru ┆ y_max_min_di │\n",
       "│ ---     ┆ ---      ┆ ---      ┆ ---      ┆   ┆ ---      ┆ ---      ┆ n            ┆ ff           │\n",
       "│ i64     ┆ i64      ┆ f64      ┆ f64      ┆   ┆ f64      ┆ f64      ┆ ---          ┆ ---          │\n",
       "│         ┆          ┆          ┆          ┆   ┆          ┆          ┆ f64          ┆ f64          │\n",
       "╞═════════╪══════════╪══════════╪══════════╪═══╪══════════╪══════════╪══════════════╪══════════════╡\n",
       "│ 1       ┆ 1        ┆ 4.0      ┆ 2.22     ┆ … ┆ 2.165    ┆ 5.0      ┆ 49.5         ┆ 149.310152   │\n",
       "│ 1       ┆ 2        ┆ 4.0      ┆ 2.16     ┆ … ┆ 1.94     ┆ 5.0      ┆ 49.5         ┆ 239.340499   │\n",
       "│ 1       ┆ 3        ┆ 4.0      ┆ 2.2      ┆ … ┆ 2.083333 ┆ 5.0      ┆ 14.5         ┆ 228.249082   │\n",
       "│ 1       ┆ 4        ┆ 4.0      ┆ 2.05     ┆ … ┆ 2.2      ┆ 5.0      ┆ 14.5         ┆ 210.016413   │\n",
       "│ 1       ┆ 5        ┆ 4.0      ┆ 2.316667 ┆ … ┆ 2.333333 ┆ 5.0      ┆ 14.5         ┆ 199.365774   │\n",
       "│ …       ┆ …        ┆ …        ┆ …        ┆ … ┆ …        ┆ …        ┆ …            ┆ …            │\n",
       "│ 24      ┆ 11       ┆ 3.9      ┆ 2.3      ┆ … ┆ 1.3      ┆ 4.333333 ┆ 14.5         ┆ 256.010351   │\n",
       "│ 24      ┆ 12       ┆ 3.0      ┆ 2.533333 ┆ … ┆ 1.533333 ┆ 4.366667 ┆ 14.5         ┆ 256.99983    │\n",
       "│ 24      ┆ 13       ┆ 3.733333 ┆ 2.433333 ┆ … ┆ 1.4      ┆ 4.233333 ┆ 14.5         ┆ 333.7252     │\n",
       "│ 24      ┆ 14       ┆ 3.433333 ┆ 2.066667 ┆ … ┆ 1.633333 ┆ 4.4      ┆ 14.5         ┆ 299.574407   │\n",
       "│ 24      ┆ 15       ┆ 3.7      ┆ 2.666667 ┆ … ┆ 1.3      ┆ 4.3      ┆ 14.5         ┆ 279.255994   │\n",
       "└─────────┴──────────┴──────────┴──────────┴───┴──────────┴──────────┴──────────────┴──────────────┘"
      ]
     },
     "execution_count": 14,
     "metadata": {},
     "output_type": "execute_result"
    }
   ],
   "source": [
    "rank_features = ranks.join(F, on=['problem', 'instance'], how='inner')\n",
    "rank_features"
   ]
  },
  {
   "cell_type": "code",
   "execution_count": 15,
   "id": "1e10353f-71c6-4a3c-b41a-2fbcd0bc5912",
   "metadata": {},
   "outputs": [
    {
     "name": "stderr",
     "output_type": "stream",
     "text": [
      "/opt/conda/envs/Base/lib/python3.10/site-packages/joblib/externals/loky/backend/fork_exec.py:38: RuntimeWarning: Using fork() can cause Polars to deadlock in the child process.\n",
      "In addition, using fork() with Python in general is a recipe for mysterious\n",
      "deadlocks and crashes.\n",
      "\n",
      "The most likely reason you are seeing this error is because you are using the\n",
      "multiprocessing module on Linux, which uses fork() by default. This will be\n",
      "fixed in Python 3.14. Until then, you want to use the \"spawn\" context instead.\n",
      "\n",
      "See https://docs.pola.rs/user-guide/misc/multiprocessing/ for details.\n",
      "\n",
      "If you really know what your doing, you can silence this warning with the warning module\n",
      "or by setting POLARS_ALLOW_FORKING_THREAD=1.\n",
      "\n",
      "  pid = os.fork()\n"
     ]
    },
    {
     "name": "stdout",
     "output_type": "stream",
     "text": [
      "13.124930431489073 1.3879270669692194 798.9179389887111\n",
      "8649.214863152389 6071.535959502093 768.4237945260876\n",
      "11.485098390589494 8.838314696397585 706.7926768404411\n",
      "11.178901418554378 13.726199754087883 699.9298064701761\n",
      "0.02516516365441221 1.0428228424320853 794.4899534011226\n",
      "18.297933625783195 55.063905127194424 793.6710926801554\n",
      "33.685056894069525 5.232462162722156 773.4725793345827\n",
      "24.092066687728778 2.608683717394386 715.2953771287494\n",
      "29.634636907611185 30.518109453019104 601.9611388287734\n",
      "333815.9221329268 322544.71115382423 344080.790092325\n",
      "221001.60455036318 47874.91534672289 236.8839741360558\n",
      "103836.62823769115 92937.13613904489 32381.001443383597\n",
      "31.230488814275827 43.63151388639527 485.50016860990047\n",
      "9.81184081687137 6.5986724805950745 798.7845039514085\n",
      "38.38582834049798 36.82796590430756 439.71350844679574\n",
      "57.74923613720654 1.5392516405109489 707.07719408693\n",
      "6.348785271586297 3.834142370553761 787.8461733841228\n",
      "11.399696612175333 3.58311211260092 753.1780692131049\n",
      "23.71538808144249 3.3792534390089486 760.7600148557289\n",
      "6.69881882582809 4.254657352230894 773.8368147054928\n",
      "1.6389987914634907 1.7541773478503067 746.6437678328405\n",
      "2.1862463450923473 7.04991993299586 730.910687970174\n",
      "4.676282931361081 0.8736161742218043 744.9866968446433\n",
      "118.49716509668299 134.10659387498782 284.4305354968184\n"
     ]
    }
   ],
   "source": [
    "from sklearn.ensemble import RandomForestRegressor\n",
    "from sklearn.metrics import mean_absolute_error, mean_squared_error\n",
    "from sklearn.dummy import DummyRegressor\n",
    "from sklearn.linear_model import LinearRegression\n",
    "from sklearn.ensemble import HistGradientBoostingRegressor\n",
    "from sklearn.multioutput import MultiOutputRegressor\n",
    "\n",
    "algorithms=[\"GA\", \"PSO\", \"DE\", \"CMAES\", \"ES\"]\n",
    "\n",
    "data = []\n",
    "error_metric = mean_squared_error\n",
    "\n",
    "for problem_index in range(1, 25):\n",
    "    train_df, test_df = prec_features.filter(pl.col('problem')!=problem_index), prec_features.filter(pl.col('problem')==problem_index)\n",
    "\n",
    "    X_train = train_df[['y_max_min_diff']]\n",
    "    Y_train = train_df[algorithms]\n",
    "    X_test = test_df[['y_max_min_diff']]\n",
    "    Y_test = test_df[algorithms]\n",
    "\n",
    "    model = RandomForestRegressor(n_jobs=-1)\n",
    "    model.fit(X_train, Y_train)\n",
    "    pred = model.predict(X_test)\n",
    "    error_rf = error_metric(pred, Y_test)\n",
    "\n",
    "    model = MultiOutputRegressor(HistGradientBoostingRegressor(monotonic_cst=[1]), n_jobs=-1)\n",
    "    model.fit(X_train, Y_train)\n",
    "    pred = model.predict(X_test)\n",
    "    error_lr = error_metric(pred, Y_test)\n",
    "\n",
    "    model = DummyRegressor()\n",
    "    model.fit(X_train, Y_train)\n",
    "    pred = model.predict(X_test)\n",
    "    error_dm = error_metric(pred, Y_test)\n",
    "    print(error_rf, error_lr, error_dm)\n",
    "\n",
    "    data.append({'model': 'rf', 'error': error_rf, 'problem': problem_index})\n",
    "    # data.append({'model': 'lr', 'error': error_lr, 'problem': problem_index})\n",
    "    data.append({'model': 'dummy', 'error': error_dm, 'problem': problem_index})"
   ]
  },
  {
   "cell_type": "code",
   "execution_count": 16,
   "id": "b75b7c34-0371-410a-9533-c2ee07cd4146",
   "metadata": {},
   "outputs": [
    {
     "data": {
      "image/png": "[encoded data removed]",
      "text/plain": [
       "<Figure size 640x480 with 1 Axes>"
      ]
     },
     "metadata": {},
     "output_type": "display_data"
    }
   ],
   "source": [
    "import seaborn as sns\n",
    "import matplotlib.pyplot as plt\n",
    "\n",
    "df_prec = pl.DataFrame(data)\n",
    "\n",
    "sns.boxplot(\n",
    "    data=df_prec.to_pandas(), x=\"model\", y=\"error\", hue=\"model\", width=.6, palette=\"vlag\"\n",
    ")\n",
    "plt.yscale('log')\n",
    "sns.stripplot(data=df_prec.to_pandas(), x=\"model\", y=\"error\", size=4, color=\".3\")\n",
    "plt.savefig(f'figures/lpo_precision.pdf', bbox_inches='tight', pad_inches=0)"
   ]
  },
  {
   "cell_type": "code",
   "execution_count": 17,
   "id": "aaa1043b-52db-459d-acc1-e2233729e7b4",
   "metadata": {},
   "outputs": [
    {
     "data": {
      "text/html": [
       "<div><style>\n",
       ".dataframe > thead > tr,\n",
       ".dataframe > tbody > tr {\n",
       "  text-align: right;\n",
       "  white-space: pre-wrap;\n",
       "}\n",
       "</style>\n",
       "<small>shape: (48, 3)</small><table border=\"1\" class=\"dataframe\"><thead><tr><th>model</th><th>error</th><th>problem</th></tr><tr><td>str</td><td>f64</td><td>i64</td></tr></thead><tbody><tr><td>&quot;rf&quot;</td><td>13.12493</td><td>1</td></tr><tr><td>&quot;dummy&quot;</td><td>798.917939</td><td>1</td></tr><tr><td>&quot;rf&quot;</td><td>8649.214863</td><td>2</td></tr><tr><td>&quot;dummy&quot;</td><td>768.423795</td><td>2</td></tr><tr><td>&quot;rf&quot;</td><td>11.485098</td><td>3</td></tr><tr><td>&hellip;</td><td>&hellip;</td><td>&hellip;</td></tr><tr><td>&quot;dummy&quot;</td><td>730.910688</td><td>22</td></tr><tr><td>&quot;rf&quot;</td><td>4.676283</td><td>23</td></tr><tr><td>&quot;dummy&quot;</td><td>744.986697</td><td>23</td></tr><tr><td>&quot;rf&quot;</td><td>118.497165</td><td>24</td></tr><tr><td>&quot;dummy&quot;</td><td>284.430535</td><td>24</td></tr></tbody></table></div>"
      ],
      "text/plain": [
       "shape: (48, 3)\n",
       "┌───────┬─────────────┬─────────┐\n",
       "│ model ┆ error       ┆ problem │\n",
       "│ ---   ┆ ---         ┆ ---     │\n",
       "│ str   ┆ f64         ┆ i64     │\n",
       "╞═══════╪═════════════╪═════════╡\n",
       "│ rf    ┆ 13.12493    ┆ 1       │\n",
       "│ dummy ┆ 798.917939  ┆ 1       │\n",
       "│ rf    ┆ 8649.214863 ┆ 2       │\n",
       "│ dummy ┆ 768.423795  ┆ 2       │\n",
       "│ rf    ┆ 11.485098   ┆ 3       │\n",
       "│ …     ┆ …           ┆ …       │\n",
       "│ dummy ┆ 730.910688  ┆ 22      │\n",
       "│ rf    ┆ 4.676283    ┆ 23      │\n",
       "│ dummy ┆ 744.986697  ┆ 23      │\n",
       "│ rf    ┆ 118.497165  ┆ 24      │\n",
       "│ dummy ┆ 284.430535  ┆ 24      │\n",
       "└───────┴─────────────┴─────────┘"
      ]
     },
     "execution_count": 17,
     "metadata": {},
     "output_type": "execute_result"
    }
   ],
   "source": [
    "df_prec"
   ]
  },
  {
   "cell_type": "code",
   "execution_count": 18,
   "id": "467d478a-9db1-4295-862b-c32f7ace7480",
   "metadata": {},
   "outputs": [
    {
     "name": "stdout",
     "output_type": "stream",
     "text": [
      "[13.124930431489073, 8649.214863152389, 11.485098390589494, 11.178901418554378, 0.02516516365441221, 18.297933625783195, 33.685056894069525, 24.092066687728778, 29.634636907611185, 333815.9221329268, 221001.60455036318, 103836.62823769115, 31.230488814275827, 9.81184081687137, 38.38582834049798, 57.74923613720654, 6.348785271586297, 11.399696612175333, 23.71538808144249, 6.69881882582809, 1.6389987914634907, 2.1862463450923473, 4.676282931361081, 118.49716509668299]\n",
      "[798.9179389887111, 768.4237945260876, 706.7926768404411, 699.9298064701761, 794.4899534011226, 793.6710926801554, 773.4725793345827, 715.2953771287494, 601.9611388287734, 344080.790092325, 236.8839741360558, 32381.001443383597, 485.50016860990047, 798.7845039514085, 439.71350844679574, 707.07719408693, 787.8461733841228, 753.1780692131049, 760.7600148557289, 773.8368147054928, 746.6437678328405, 730.910687970174, 744.9866968446433, 284.4305354968184]\n"
     ]
    }
   ],
   "source": [
    "rfe = df_prec.filter(pl.col('model')=='rf').sort('problem')['error'].to_list()\n",
    "dfe = df_prec.filter(pl.col('model')=='dummy').sort('problem')['error'].to_list()\n",
    "print(rfe)\n",
    "print(dfe)"
   ]
  },
  {
   "cell_type": "code",
   "execution_count": 19,
   "id": "98628103-27d2-49e0-be3a-4a6b6e77a3b7",
   "metadata": {},
   "outputs": [
    {
     "name": "stdout",
     "output_type": "stream",
     "text": [
      "Wilcoxon signed-rank test statistic: 68.0\n",
      "P-value: 0.017870306968688965\n",
      "Reject the null hypothesis: Significant difference between distributions.\n"
     ]
    }
   ],
   "source": [
    "import numpy as np\n",
    "from scipy.stats import wilcoxon\n",
    "\n",
    "data1 = rfe\n",
    "data2 = dfe\n",
    "\n",
    "stat, p_value = wilcoxon(data1, data2)\n",
    "\n",
    "print(\"Wilcoxon signed-rank test statistic:\", stat)\n",
    "print(\"P-value:\", p_value)\n",
    "\n",
    "alpha = 0.05\n",
    "if p_value < alpha:\n",
    "    print(\"Reject the null hypothesis: Significant difference between distributions.\")\n",
    "else:\n",
    "    print(\"Fail to reject the null hypothesis: No significant difference between distributions.\")"
   ]
  },
  {
   "cell_type": "code",
   "execution_count": null,
   "id": "820059af-d390-4ccb-95c5-087ef6fb9878",
   "metadata": {},
   "outputs": [],
   "source": []
  },
  {
   "cell_type": "code",
   "execution_count": 20,
   "id": "f0841762-e1e7-479c-aaf5-077318b75231",
   "metadata": {},
   "outputs": [],
   "source": [
    "#for problem_instance_index in prec_features['instance'].unique().to_list():\n",
    "#    print()"
   ]
  },
  {
   "cell_type": "code",
   "execution_count": 21,
   "id": "7a307209-21be-440c-8451-3bd74ddfa7e4",
   "metadata": {},
   "outputs": [],
   "source": [
    "def pairwise_error(true, pred):\n",
    "    algorithms = true.columns\n",
    "    false_pairs = 0\n",
    "    all_pairs = 0\n",
    "    for algo1 in algorithms:\n",
    "        for algo2 in algorithms:\n",
    "            if algo1==algo2:\n",
    "                continue\n",
    "            orders = ((true[algo1] < true[algo2]) != (pred[algo1] < pred[algo2])).to_numpy()\n",
    "            false_pairs += orders.sum()\n",
    "            all_pairs += len(orders)\n",
    "    return false_pairs/all_pairs\n",
    "\n",
    "data = []\n",
    "\n",
    "def tran_test_model(model, X_train, Y_train, X_test):\n",
    "    model.fit(X_train, Y_train)\n",
    "    pred = model.predict(X_test)\n",
    "    return pl.DataFrame(pred, schema=Y_train.columns)\n",
    "\n",
    "for problem_index in range(1, 25):\n",
    "    train_df, test_df = prec_features.filter(pl.col('problem')!=problem_index), prec_features.filter(pl.col('problem')==problem_index)\n",
    "    train_df_rank, test_df_rank = rank_features.filter(pl.col('problem')!=problem_index), rank_features.filter(pl.col('problem')==problem_index)\n",
    "\n",
    "    X_train = train_df[['y_max_min_diff']]\n",
    "    Y_train = train_df[algorithms]\n",
    "    X_test = test_df[['y_max_min_diff']]\n",
    "    Y_test = test_df[algorithms]\n",
    "    \n",
    "    Y_train_rank = train_df_rank[algorithms]\n",
    "    Y_test_rank = test_df_rank[algorithms]\n",
    "    \n",
    "    pred_prec_rf = tran_test_model(RandomForestRegressor(n_jobs=-1), X_train, Y_train, X_test)\n",
    "    error_prec_rf = pairwise_error(Y_test_rank, pred_prec_rf)\n",
    "    \n",
    "    pred_rank_rf = tran_test_model(RandomForestRegressor(n_jobs=-1), X_train, Y_train_rank, X_test)\n",
    "    error_rank_rf = pairwise_error(Y_test_rank, pred_rank_rf)\n",
    "    \n",
    "    pred_prec_dummy = tran_test_model(DummyRegressor(), X_train, Y_train, X_test)\n",
    "    error_prec_dummy = pairwise_error(Y_test_rank, pred_prec_dummy) \n",
    "    \n",
    "    pred_rank_dummy = tran_test_model(DummyRegressor(), X_train, Y_train_rank, X_test)\n",
    "    error_rank_dummy = pairwise_error(Y_test_rank, pred_rank_dummy) \n",
    "    \n",
    "    model_rf_ranks = RandomForestRegressor(n_jobs=-1)\n",
    "    model_rf_ranks.fit(X_train, Y_train_rank)\n",
    "    pred_rf_ranks = model_rf_ranks.predict(X_test)\n",
    "    pred_rf_ranks = pl.DataFrame(pred_rf_ranks, schema=Y_train.columns)\n",
    "    pre_rf_ranks = pairwise_error(Y_test_rank, pred_rf_ranks)\n",
    "\n",
    "    data.append({'model': 'rf-prec', 'error': error_prec_rf, 'problem': problem_index})\n",
    "    data.append({'model': 'dummy-prec', 'error': error_prec_dummy, 'problem': problem_index})\n",
    "    data.append({'model': 'dummy-rank', 'error': error_rank_dummy, 'problem': problem_index})\n",
    "    data.append({'model': 'rf-rank', 'error': error_rank_rf, 'problem': problem_index})"
   ]
  },
  {
   "cell_type": "code",
   "execution_count": 22,
   "id": "f1f00f13-6e07-452f-8c47-74cd2c721b88",
   "metadata": {},
   "outputs": [
    {
     "data": {
      "text/plain": [
       "<Axes: xlabel='model', ylabel='error'>"
      ]
     },
     "execution_count": 22,
     "metadata": {},
     "output_type": "execute_result"
    },
    {
     "data": {
      "image/png": "[encoded data removed]",
      "text/plain": [
       "<Figure size 640x480 with 1 Axes>"
      ]
     },
     "metadata": {},
     "output_type": "display_data"
    }
   ],
   "source": [
    "import seaborn as sns\n",
    "import matplotlib.pyplot as plt\n",
    "\n",
    "df_rank = pl.DataFrame(data)\n",
    "\n",
    "sns.boxplot(\n",
    "    data=df_rank.to_pandas(), x=\"model\", y=\"error\", hue=\"model\", width=.6, palette=\"vlag\"\n",
    ")\n",
    "sns.stripplot(data=df_rank.to_pandas(), x=\"model\", y=\"error\", size=4, color=\".3\")\n",
    "#plt.savefig(f'figures/lpo_precision.pdf', bbox_inches='tight', pad_inches=0)"
   ]
  },
  {
   "cell_type": "code",
   "execution_count": 46,
   "id": "2f82d54e-fa38-411e-a716-1d70f9d492c3",
   "metadata": {},
   "outputs": [],
   "source": [
    "#df_rank"
   ]
  },
  {
   "cell_type": "code",
   "execution_count": 24,
   "id": "cacf39b4-240c-4597-ac16-8624d1e3d9c5",
   "metadata": {},
   "outputs": [],
   "source": [
    "rf_prec = df_rank.filter(pl.col('model')=='rf-prec').sort('problem')['error'].to_list()\n",
    "dummy_prec = df_rank.filter(pl.col('model')=='dummy-prec').sort('problem')['error'].to_list()\n",
    "rf_rank = df_rank.filter(pl.col('model')=='rf-rank').sort('problem')['error'].to_list()\n",
    "dummy_rank = df_rank.filter(pl.col('model')=='dummy-rank').sort('problem')['error'].to_list()\n",
    "# print(rf_prec)\n",
    "# print(dummy_prec)\n",
    "# print(rf_rank)\n",
    "# print(dummy_rank)"
   ]
  },
  {
   "cell_type": "code",
   "execution_count": 25,
   "id": "4d7df760-7d95-4339-a9dc-4b995553871c",
   "metadata": {},
   "outputs": [
    {
     "name": "stdout",
     "output_type": "stream",
     "text": [
      "Friedman test statistic: 1.675324675324687\n",
      "P-value: 0.6424335466070137\n",
      "Fail to reject the null hypothesis: No significant differences between distributions.\n"
     ]
    }
   ],
   "source": [
    "from scipy.stats import friedmanchisquare\n",
    "\n",
    "# Ensure all distributions have the same length (each corresponds to the same problems)\n",
    "assert len(rf_prec) == len(dummy_prec) == len(rf_rank) == len(dummy_rank), \"All distributions must have the same length.\"\n",
    "\n",
    "# Perform the Friedman test\n",
    "stat, p_value = friedmanchisquare(rf_prec, dummy_prec, rf_rank, dummy_rank)\n",
    "\n",
    "# Print the results\n",
    "print(\"Friedman test statistic:\", stat)\n",
    "print(\"P-value:\", p_value)\n",
    "\n",
    "# Interpretation\n",
    "alpha = 0.05\n",
    "if p_value < alpha:\n",
    "    print(\"Reject the null hypothesis: At least one distribution is significantly different.\")\n",
    "else:\n",
    "    print(\"Fail to reject the null hypothesis: No significant differences between distributions.\")"
   ]
  },
  {
   "cell_type": "code",
   "execution_count": null,
   "id": "85faafd0-1c99-49d0-9b74-803d42c667a2",
   "metadata": {},
   "outputs": [],
   "source": [
    "#rf-precision, mean-precision, rf-rank, mean-rank"
   ]
  },
  {
   "cell_type": "code",
   "execution_count": 60,
   "id": "1d3ddd26-a54e-4ba9-95b7-b18d12031d97",
   "metadata": {},
   "outputs": [
    {
     "data": {
      "image/png": "[encoded data removed]",
      "text/plain": [
       "<Figure size 800x400 with 2 Axes>"
      ]
     },
     "metadata": {},
     "output_type": "display_data"
    }
   ],
   "source": [
    "width_ratios = [0.3, 0.7]\n",
    "\n",
    "sns.set_style(\"whitegrid\")\n",
    "sns.set_palette(\"gray\")\n",
    "\n",
    "fig, (ax1, ax2) = plt.subplots(1, 2, gridspec_kw={'width_ratios': width_ratios}, figsize=(8, 4))\n",
    "\n",
    "pddf_prec = df_prec.to_pandas()\n",
    "pddf_prec['model'] = pddf_prec['model'].map({'rf': 'rf-precision', 'dummy': 'mean-precision'})\n",
    "sns.boxplot(\n",
    "    data=pddf_prec, x=\"model\", y=\"error\", width=.6, ax=ax1, showfliers=False, linewidth=1.5, color=\"lightgray\"\n",
    ")\n",
    "ax1.set_yscale('log')\n",
    "sns.stripplot(data=pddf_prec, x=\"model\", y=\"error\", size=4, color=\".3\", ax=ax1)\n",
    "ax1.set_ylabel(\"MSE of target precision\")\n",
    "\n",
    "\n",
    "pddf_rank = df_rank.to_pandas()\n",
    "pddf_rank['model'] = pddf_rank['model'].map({\n",
    "    'rf-prec': 'rf-precision', \n",
    "    'dummy-prec': 'mean-precision',\n",
    "    'rf-rank': 'rf-rank', \n",
    "    'dummy-rank': 'mean-rank',\n",
    "})\n",
    "sns.boxplot(\n",
    "    data=pddf_rank, x=\"model\", y=\"error\", width=.6, ax=ax2, showfliers=False, linewidth=1.5, color=\"lightgray\"\n",
    ")\n",
    "sns.stripplot(data=pddf_rank, x=\"model\", y=\"error\", size=4, color=\".3\", ax=ax2)\n",
    "ax2.set_ylabel(\"PRE\")\n",
    "\n",
    "ax1.grid(True)\n",
    "ax2.grid(True)\n",
    "ax1.set_xlabel('Meta-model')\n",
    "ax2.set_xlabel('Meta-model')\n",
    "ax1.tick_params(axis='x', labelrotation=20)\n",
    "ax2.tick_params(axis='x', labelrotation=20)\n",
    "ax2.set_title('Meta-models PRE accuracy')\n",
    "ax1.set_title('Meta-models MSE')\n",
    "\n",
    "plt.savefig(f'figures/lpo_precision_pre.pdf', bbox_inches='tight', pad_inches=0)"
   ]
  },
  {
   "cell_type": "code",
   "execution_count": null,
   "id": "e7af18ca-ad3d-49af-8155-240353ea20a9",
   "metadata": {},
   "outputs": [],
   "source": []
  },
  {
   "cell_type": "code",
   "execution_count": 28,
   "id": "3303afba-0875-40cd-826d-219ca9e9bb27",
   "metadata": {},
   "outputs": [],
   "source": [
    "#X_test.head(5)"
   ]
  },
  {
   "cell_type": "code",
   "execution_count": 29,
   "id": "b46b13c8-1f60-4a74-bd7f-9143f56e396d",
   "metadata": {},
   "outputs": [],
   "source": [
    "#v = pl.DataFrame({'y_max_min_diff': np.logspace(1, 12, num=100)})"
   ]
  },
  {
   "cell_type": "code",
   "execution_count": 30,
   "id": "79481b2c-251b-4ba8-91e3-b9c9f9d6c879",
   "metadata": {},
   "outputs": [],
   "source": [
    "#L = model.predict(v)"
   ]
  },
  {
   "cell_type": "code",
   "execution_count": 31,
   "id": "82783084-02b9-41e1-af79-13b5d00f946d",
   "metadata": {},
   "outputs": [],
   "source": [
    "#plt.plot(L[:, 3])\n",
    "#plt.xscale('log')\n",
    "#plt.yscale('log')"
   ]
  },
  {
   "cell_type": "code",
   "execution_count": 32,
   "id": "2c2459a9-234f-466d-81a8-85aa1170a7e3",
   "metadata": {},
   "outputs": [],
   "source": [
    "#import seaborn as sns\n",
    "#import matplotlib.pyplot as plt\n",
    "#\n",
    "#sns.scatterplot(data=prec_features.to_pandas(), x='GA', y='y_max_min_diff')\n",
    "#plt.xscale('log')\n",
    "#plt.yscale('log')"
   ]
  },
  {
   "cell_type": "code",
   "execution_count": 33,
   "id": "864f5d12-2995-4c62-a9f2-806a84645624",
   "metadata": {},
   "outputs": [],
   "source": [
    "#v1 = list(Y_train['CMAES'])\n",
    "#v2 = list(X_train['y_max_min_diff'])\n",
    "#plt.scatter(v1, v2)\n",
    "#plt.xscale('log')\n",
    "#plt.yscale('log')\n",
    "#\n",
    "#v1 = list(Y_test['CMAES'])\n",
    "#v2 = list(X_test['y_max_min_diff'])\n",
    "#plt.scatter(v1, v2)"
   ]
  },
  {
   "cell_type": "code",
   "execution_count": 34,
   "id": "ab0349f0-bbd2-433e-86c9-a7015b666034",
   "metadata": {},
   "outputs": [],
   "source": [
    "#model = HistGradientBoostingRegressor()#loss='absolute_error')\n",
    "#model.fit(X_train[['y_max_min_diff']], Y_train['CMAES'])"
   ]
  },
  {
   "cell_type": "code",
   "execution_count": null,
   "id": "233a7549-069d-4a01-a02b-2647bb5d81b2",
   "metadata": {},
   "outputs": [],
   "source": []
  },
  {
   "cell_type": "code",
   "execution_count": 35,
   "id": "5e5bc9fc-9272-4e82-8de1-7b27d4987ecd",
   "metadata": {},
   "outputs": [],
   "source": [
    "#h = np.logspace(1, 14, num=100)\n",
    "#v = pl.DataFrame({'y_max_min_diff': h})\n",
    "#l = model.predict(v)\n",
    "#l"
   ]
  },
  {
   "cell_type": "code",
   "execution_count": 36,
   "id": "f8187b5c-3139-41ca-a40a-65909496977d",
   "metadata": {},
   "outputs": [],
   "source": [
    "#plt.plot(h, l)\n",
    "#\n",
    "#v2 = list(Y_train['CMAES'])\n",
    "#v1 = list(X_train['y_max_min_diff'])\n",
    "#plt.scatter(v1, v2)\n",
    "#\n",
    "#\n",
    "#v2 = list(Y_test['CMAES'])\n",
    "#v1 = list(X_test['y_max_min_diff'])\n",
    "#plt.scatter(v1, v2)\n",
    "#\n",
    "#plt.xscale('log')\n",
    "#plt.yscale('log')"
   ]
  }
 ],
 "metadata": {
  "kernelspec": {
   "display_name": "Base",
   "language": "python",
   "name": "base"
  },
  "language_info": {
   "codemirror_mode": {
    "name": "ipython",
    "version": 3
   },
   "file_extension": ".py",
   "mimetype": "text/x-python",
   "name": "python",
   "nbconvert_exporter": "python",
   "pygments_lexer": "ipython3",
   "version": "3.10.16"
  }
 },
 "nbformat": 4,
 "nbformat_minor": 5
}
