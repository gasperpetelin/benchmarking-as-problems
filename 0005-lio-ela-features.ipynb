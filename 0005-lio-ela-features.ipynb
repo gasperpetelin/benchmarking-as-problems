{
 "cells": [
  {
   "cell_type": "code",
   "execution_count": 1,
   "id": "508e16f7-3fc4-4f3d-8980-935b1f10a15f",
   "metadata": {},
   "outputs": [
    {
     "name": "stdout",
     "output_type": "stream",
     "text": [
      "Requirement already satisfied: pflacco in /opt/conda/envs/Base/lib/python3.10/site-packages (1.2.2)\n",
      "Requirement already satisfied: numpy~=1.24.3 in /opt/conda/envs/Base/lib/python3.10/site-packages (from pflacco) (1.24.4)\n",
      "Requirement already satisfied: scikit-learn~=1.2.2 in /opt/conda/envs/Base/lib/python3.10/site-packages (from pflacco) (1.2.2)\n",
      "Requirement already satisfied: pyDOE~=0.3.8 in /opt/conda/envs/Base/lib/python3.10/site-packages (from pflacco) (0.3.8)\n",
      "Requirement already satisfied: scipy~=1.10.1 in /opt/conda/envs/Base/lib/python3.10/site-packages (from pflacco) (1.10.1)\n",
      "Requirement already satisfied: pandas<2.1.0,>=1.2.1 in /opt/conda/envs/Base/lib/python3.10/site-packages (from pflacco) (2.0.3)\n",
      "Requirement already satisfied: numdifftools~=0.9.40 in /opt/conda/envs/Base/lib/python3.10/site-packages (from pflacco) (0.9.41)\n",
      "Requirement already satisfied: SALib~=1.4.5 in /opt/conda/envs/Base/lib/python3.10/site-packages (from pflacco) (1.4.8)\n",
      "Requirement already satisfied: python-dateutil>=2.8.2 in /opt/conda/envs/Base/lib/python3.10/site-packages (from pandas<2.1.0,>=1.2.1->pflacco) (2.9.0.post0)\n",
      "Requirement already satisfied: pytz>=2020.1 in /opt/conda/envs/Base/lib/python3.10/site-packages (from pandas<2.1.0,>=1.2.1->pflacco) (2024.1)\n",
      "Requirement already satisfied: tzdata>=2022.1 in /opt/conda/envs/Base/lib/python3.10/site-packages (from pandas<2.1.0,>=1.2.1->pflacco) (2024.2)\n",
      "Requirement already satisfied: matplotlib>=3.2.2 in /opt/conda/envs/Base/lib/python3.10/site-packages (from SALib~=1.4.5->pflacco) (3.10.0)\n",
      "Requirement already satisfied: multiprocess in /opt/conda/envs/Base/lib/python3.10/site-packages (from SALib~=1.4.5->pflacco) (0.70.17)\n",
      "Requirement already satisfied: joblib>=1.1.1 in /opt/conda/envs/Base/lib/python3.10/site-packages (from scikit-learn~=1.2.2->pflacco) (1.4.2)\n",
      "Requirement already satisfied: threadpoolctl>=2.0.0 in /opt/conda/envs/Base/lib/python3.10/site-packages (from scikit-learn~=1.2.2->pflacco) (3.5.0)\n",
      "Requirement already satisfied: contourpy>=1.0.1 in /opt/conda/envs/Base/lib/python3.10/site-packages (from matplotlib>=3.2.2->SALib~=1.4.5->pflacco) (1.3.1)\n",
      "Requirement already satisfied: cycler>=0.10 in /opt/conda/envs/Base/lib/python3.10/site-packages (from matplotlib>=3.2.2->SALib~=1.4.5->pflacco) (0.12.1)\n",
      "Requirement already satisfied: fonttools>=4.22.0 in /opt/conda/envs/Base/lib/python3.10/site-packages (from matplotlib>=3.2.2->SALib~=1.4.5->pflacco) (4.55.3)\n",
      "Requirement already satisfied: kiwisolver>=1.3.1 in /opt/conda/envs/Base/lib/python3.10/site-packages (from matplotlib>=3.2.2->SALib~=1.4.5->pflacco) (1.4.7)\n",
      "Requirement already satisfied: packaging>=20.0 in /opt/conda/envs/Base/lib/python3.10/site-packages (from matplotlib>=3.2.2->SALib~=1.4.5->pflacco) (24.2)\n",
      "Requirement already satisfied: pillow>=8 in /opt/conda/envs/Base/lib/python3.10/site-packages (from matplotlib>=3.2.2->SALib~=1.4.5->pflacco) (11.0.0)\n",
      "Requirement already satisfied: pyparsing>=2.3.1 in /opt/conda/envs/Base/lib/python3.10/site-packages (from matplotlib>=3.2.2->SALib~=1.4.5->pflacco) (3.2.0)\n",
      "Requirement already satisfied: six>=1.5 in /opt/conda/envs/Base/lib/python3.10/site-packages (from python-dateutil>=2.8.2->pandas<2.1.0,>=1.2.1->pflacco) (1.17.0)\n",
      "Requirement already satisfied: dill>=0.3.9 in /opt/conda/envs/Base/lib/python3.10/site-packages (from multiprocess->SALib~=1.4.5->pflacco) (0.3.9)\n"
     ]
    }
   ],
   "source": [
    "!pip install pflacco"
   ]
  },
  {
   "cell_type": "code",
   "execution_count": 2,
   "id": "8e4dd213-c1a1-4391-a6de-10ed9d443995",
   "metadata": {},
   "outputs": [],
   "source": [
    "from utils import *\n",
    "import os.path\n",
    "from scipy.stats import qmc\n",
    "from tqdm import tqdm\n",
    "import polars as pl"
   ]
  },
  {
   "cell_type": "code",
   "execution_count": 3,
   "id": "ef49d005-f64a-4c01-9544-1b57fd002262",
   "metadata": {},
   "outputs": [],
   "source": [
    "save_dir = 'lio_problem'\n",
    "create_directory_if_not_exist(save_dir)"
   ]
  },
  {
   "cell_type": "code",
   "execution_count": 4,
   "id": "4b28883a-2827-4415-94f5-26c187874a1b",
   "metadata": {},
   "outputs": [],
   "source": [
    "sample_size = 250 #times dimention\n",
    "problem_dim = 5"
   ]
  },
  {
   "cell_type": "code",
   "execution_count": 5,
   "id": "954f2494-0092-48d0-b690-99e7733e6fb9",
   "metadata": {},
   "outputs": [],
   "source": [
    "from pflacco.classical_ela_features import *"
   ]
  },
  {
   "cell_type": "code",
   "execution_count": 6,
   "id": "9bd7a239-c6f1-4af6-8cc0-35c85c3fee58",
   "metadata": {},
   "outputs": [],
   "source": [
    "sample_file_norm = f'{save_dir}/samples__dim_{problem_dim}__samplesize_{sample_size}.norm.parquet'"
   ]
  },
  {
   "cell_type": "code",
   "execution_count": 7,
   "id": "eb785ee8-d5f8-4a36-a748-9037cb2429cb",
   "metadata": {},
   "outputs": [],
   "source": [
    "df = pl.scan_parquet(sample_file_norm).collect()"
   ]
  },
  {
   "cell_type": "code",
   "execution_count": 8,
   "id": "51339da3-f009-4ca5-9354-00f76ea3ce78",
   "metadata": {},
   "outputs": [
    {
     "data": {
      "text/html": [
       "<div><style>\n",
       ".dataframe > thead > tr,\n",
       ".dataframe > tbody > tr {\n",
       "  text-align: right;\n",
       "  white-space: pre-wrap;\n",
       "}\n",
       "</style>\n",
       "<small>shape: (450_000, 9)</small><table border=\"1\" class=\"dataframe\"><thead><tr><th>problem</th><th>instance</th><th>y</th><th>optimum</th><th>x_0</th><th>x_1</th><th>x_2</th><th>x_3</th><th>x_4</th></tr><tr><td>i64</td><td>i64</td><td>f64</td><td>f64</td><td>f64</td><td>f64</td><td>f64</td><td>f64</td><td>f64</td></tr></thead><tbody><tr><td>1</td><td>1</td><td>0.577262</td><td>79.48</td><td>-3.149596</td><td>1.601646</td><td>4.805492</td><td>-2.859105</td><td>2.913973</td></tr><tr><td>1</td><td>1</td><td>0.318008</td><td>79.48</td><td>0.78446</td><td>1.718528</td><td>3.697858</td><td>2.556515</td><td>2.751843</td></tr><tr><td>1</td><td>1</td><td>0.169762</td><td>79.48</td><td>-0.651181</td><td>-0.647084</td><td>-1.350508</td><td>-3.267599</td><td>-4.495132</td></tr><tr><td>1</td><td>1</td><td>0.458729</td><td>79.48</td><td>-3.057518</td><td>-2.772905</td><td>4.3904</td><td>-4.642849</td><td>-2.411301</td></tr><tr><td>1</td><td>1</td><td>0.116464</td><td>79.48</td><td>1.708115</td><td>1.237669</td><td>-0.079004</td><td>2.538148</td><td>1.013913</td></tr><tr><td>&hellip;</td><td>&hellip;</td><td>&hellip;</td><td>&hellip;</td><td>&hellip;</td><td>&hellip;</td><td>&hellip;</td><td>&hellip;</td><td>&hellip;</td></tr><tr><td>24</td><td>15</td><td>0.705769</td><td>149.81</td><td>3.550095</td><td>-2.349579</td><td>0.610341</td><td>-4.475076</td><td>-4.671802</td></tr><tr><td>24</td><td>15</td><td>0.460143</td><td>149.81</td><td>-2.14731</td><td>-4.21336</td><td>-0.549176</td><td>-1.346791</td><td>-0.135708</td></tr><tr><td>24</td><td>15</td><td>0.485692</td><td>149.81</td><td>-4.200217</td><td>2.243036</td><td>-3.145434</td><td>-0.55592</td><td>-1.302764</td></tr><tr><td>24</td><td>15</td><td>0.396352</td><td>149.81</td><td>-3.610818</td><td>-0.501484</td><td>-2.538735</td><td>4.095798</td><td>0.147821</td></tr><tr><td>24</td><td>15</td><td>0.43724</td><td>149.81</td><td>-3.2968</td><td>-4.394388</td><td>2.68798</td><td>1.080968</td><td>-0.18128</td></tr></tbody></table></div>"
      ],
      "text/plain": [
       "shape: (450_000, 9)\n",
       "┌─────────┬──────────┬──────────┬─────────┬───┬───────────┬───────────┬───────────┬───────────┐\n",
       "│ problem ┆ instance ┆ y        ┆ optimum ┆ … ┆ x_1       ┆ x_2       ┆ x_3       ┆ x_4       │\n",
       "│ ---     ┆ ---      ┆ ---      ┆ ---     ┆   ┆ ---       ┆ ---       ┆ ---       ┆ ---       │\n",
       "│ i64     ┆ i64      ┆ f64      ┆ f64     ┆   ┆ f64       ┆ f64       ┆ f64       ┆ f64       │\n",
       "╞═════════╪══════════╪══════════╪═════════╪═══╪═══════════╪═══════════╪═══════════╪═══════════╡\n",
       "│ 1       ┆ 1        ┆ 0.577262 ┆ 79.48   ┆ … ┆ 1.601646  ┆ 4.805492  ┆ -2.859105 ┆ 2.913973  │\n",
       "│ 1       ┆ 1        ┆ 0.318008 ┆ 79.48   ┆ … ┆ 1.718528  ┆ 3.697858  ┆ 2.556515  ┆ 2.751843  │\n",
       "│ 1       ┆ 1        ┆ 0.169762 ┆ 79.48   ┆ … ┆ -0.647084 ┆ -1.350508 ┆ -3.267599 ┆ -4.495132 │\n",
       "│ 1       ┆ 1        ┆ 0.458729 ┆ 79.48   ┆ … ┆ -2.772905 ┆ 4.3904    ┆ -4.642849 ┆ -2.411301 │\n",
       "│ 1       ┆ 1        ┆ 0.116464 ┆ 79.48   ┆ … ┆ 1.237669  ┆ -0.079004 ┆ 2.538148  ┆ 1.013913  │\n",
       "│ …       ┆ …        ┆ …        ┆ …       ┆ … ┆ …         ┆ …         ┆ …         ┆ …         │\n",
       "│ 24      ┆ 15       ┆ 0.705769 ┆ 149.81  ┆ … ┆ -2.349579 ┆ 0.610341  ┆ -4.475076 ┆ -4.671802 │\n",
       "│ 24      ┆ 15       ┆ 0.460143 ┆ 149.81  ┆ … ┆ -4.21336  ┆ -0.549176 ┆ -1.346791 ┆ -0.135708 │\n",
       "│ 24      ┆ 15       ┆ 0.485692 ┆ 149.81  ┆ … ┆ 2.243036  ┆ -3.145434 ┆ -0.55592  ┆ -1.302764 │\n",
       "│ 24      ┆ 15       ┆ 0.396352 ┆ 149.81  ┆ … ┆ -0.501484 ┆ -2.538735 ┆ 4.095798  ┆ 0.147821  │\n",
       "│ 24      ┆ 15       ┆ 0.43724  ┆ 149.81  ┆ … ┆ -4.394388 ┆ 2.68798   ┆ 1.080968  ┆ -0.18128  │\n",
       "└─────────┴──────────┴──────────┴─────────┴───┴───────────┴───────────┴───────────┴───────────┘"
      ]
     },
     "execution_count": 8,
     "metadata": {},
     "output_type": "execute_result"
    }
   ],
   "source": [
    "df"
   ]
  },
  {
   "cell_type": "code",
   "execution_count": 9,
   "id": "24edc427-46b3-41d9-ad7e-8a95bdec1826",
   "metadata": {},
   "outputs": [],
   "source": [
    "ela_save_dir = f'{save_dir}/ela'\n",
    "create_directory_if_not_exist(ela_save_dir)"
   ]
  },
  {
   "cell_type": "code",
   "execution_count": null,
   "id": "d4c3df09-e902-4248-a92a-e98d6ec2097a",
   "metadata": {},
   "outputs": [],
   "source": []
  },
  {
   "cell_type": "code",
   "execution_count": null,
   "id": "078818c4-21a3-4b81-bead-cf0f38f4d158",
   "metadata": {},
   "outputs": [],
   "source": []
  },
  {
   "cell_type": "code",
   "execution_count": 10,
   "id": "59fcacce-f88d-44fe-b735-2293bdf56767",
   "metadata": {},
   "outputs": [
    {
     "name": "stderr",
     "output_type": "stream",
     "text": [
      "100%|██████████| 360/360 [00:00<00:00, 27140.28it/s]\n"
     ]
    }
   ],
   "source": [
    "for r in tqdm(df.select(['problem', 'instance']).unique().sort(['instance']).rows(named=True)):\n",
    "    instance = r['instance']\n",
    "    problem = r['problem']\n",
    "    save_file = f'{ela_save_dir}/p_{problem}__i_{instance}.parquet'\n",
    "    \n",
    "    if os.path.exists(save_file):\n",
    "        continue\n",
    "    \n",
    "    sdf = df.filter(pl.col('problem')==problem).filter(pl.col('instance')==instance)\n",
    "    X = sdf.select(['x_0', 'x_1', 'x_2', 'x_3', 'x_4']).to_numpy()\n",
    "    y = sdf['y'].to_numpy()\n",
    "    \n",
    "    methods = [\n",
    "        calculate_cm_angle, \n",
    "        calculate_cm_conv, \n",
    "        calculate_cm_grad, \n",
    "        calculate_dispersion, \n",
    "        calculate_ela_conv, \n",
    "        calculate_ela_curvate, \n",
    "        calculate_ela_distribution, \n",
    "        calculate_ela_level, \n",
    "        calculate_ela_local, \n",
    "        calculate_ela_meta, \n",
    "        calculate_information_content, \n",
    "        calculate_limo, \n",
    "        calculate_nbc, \n",
    "        calculate_pca, \n",
    "    ]\n",
    "\n",
    "    features = {}\n",
    "    for method in methods:\n",
    "        try:\n",
    "            fe = method(X, y)\n",
    "            features.update(fe)\n",
    "        except:\n",
    "            #print('try with bounds', method)\n",
    "            try:\n",
    "                fe = method(X, y, lower_bound=-5, upper_bound=5)\n",
    "                features.update(fe)\n",
    "            except:\n",
    "                pass\n",
    "\n",
    "    features['problem'] = problem\n",
    "    features['instance'] = instance\n",
    "    \n",
    "    l = features\n",
    "    features = pl.DataFrame([features])\n",
    "    features = features.with_columns([\n",
    "        pl.col('*').cast(pl.Float64)\n",
    "    ]).with_columns([\n",
    "        pl.col('problem').cast(pl.Int64),  # Keep 'problem' as Int64\n",
    "        pl.col('instance').cast(pl.Int64)  # Keep 'instance' as Int64\n",
    "    ])\n",
    "    #print(problem, features.shape)\n",
    "    if features.shape != (1, 94):\n",
    "        print(problem, features.shape, l)\n",
    "    else:\n",
    "        features.write_parquet(save_file)"
   ]
  },
  {
   "cell_type": "code",
   "execution_count": 11,
   "id": "3df6ccbb-1c33-4558-9993-f3be239e55f8",
   "metadata": {},
   "outputs": [],
   "source": [
    "#pl.scan_parquet(f'{ela_save_dir}/*').collect()"
   ]
  }
 ],
 "metadata": {
  "kernelspec": {
   "display_name": "Base",
   "language": "python",
   "name": "base"
  },
  "language_info": {
   "codemirror_mode": {
    "name": "ipython",
    "version": 3
   },
   "file_extension": ".py",
   "mimetype": "text/x-python",
   "name": "python",
   "nbconvert_exporter": "python",
   "pygments_lexer": "ipython3",
   "version": "3.10.16"
  }
 },
 "nbformat": 4,
 "nbformat_minor": 5
}
