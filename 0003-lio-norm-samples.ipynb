{
 "cells": [
  {
   "cell_type": "code",
   "execution_count": 1,
   "id": "9849822a-6423-4dc7-a7b8-3d3c68005a52",
   "metadata": {},
   "outputs": [],
   "source": [
    "from utils import *\n",
    "import os.path\n",
    "from scipy.stats import qmc\n",
    "from tqdm import tqdm\n",
    "from pymoo.operators.sampling.lhs import LHS\n",
    "import polars as pl"
   ]
  },
  {
   "cell_type": "code",
   "execution_count": 2,
   "id": "fe07ab6c-1f49-43c1-90ef-d2a099bca1f1",
   "metadata": {},
   "outputs": [],
   "source": [
    "def norm_y(df):\n",
    "    df = df.with_columns([\n",
    "        (pl.col('y') - pl.col('y').min()).over(['problem', 'instance']).alias('y_min_max_norm')\n",
    "    ]).with_columns([\n",
    "        (pl.col('y_min_max_norm') / pl.col('y_min_max_norm').max()).over(['problem', 'instance']).alias('y')\n",
    "    ]).drop('y_min_max_norm')\n",
    "    return df"
   ]
  },
  {
   "cell_type": "code",
   "execution_count": 3,
   "id": "63a4f09f-4a60-4dcd-b0eb-834a24852c16",
   "metadata": {},
   "outputs": [],
   "source": [
    "save_dir = 'lio_problem'\n",
    "create_directory_if_not_exist(save_dir)"
   ]
  },
  {
   "cell_type": "code",
   "execution_count": 4,
   "id": "6baffd8b-9316-4e4f-914a-9840339d2fe1",
   "metadata": {},
   "outputs": [],
   "source": [
    "sample_size = 250 #times dimention\n",
    "problem_dim = 5"
   ]
  },
  {
   "cell_type": "code",
   "execution_count": 5,
   "id": "074e4743-9a0d-4023-8f0b-1e0ff9ec3285",
   "metadata": {},
   "outputs": [],
   "source": [
    "file = f'{save_dir}/samples__dim_{problem_dim}__samplesize_{sample_size}.parquet'"
   ]
  },
  {
   "cell_type": "code",
   "execution_count": 6,
   "id": "8bd76f6e-f49a-4d17-acb7-b582a3d53362",
   "metadata": {},
   "outputs": [],
   "source": [
    "df = pl.scan_parquet(file).collect()"
   ]
  },
  {
   "cell_type": "code",
   "execution_count": 7,
   "id": "2322dadc-4597-455a-92a6-e53fc8ac555a",
   "metadata": {},
   "outputs": [
    {
     "data": {
      "text/html": [
       "<div><style>\n",
       ".dataframe > thead > tr,\n",
       ".dataframe > tbody > tr {\n",
       "  text-align: right;\n",
       "  white-space: pre-wrap;\n",
       "}\n",
       "</style>\n",
       "<small>shape: (450_000, 9)</small><table border=\"1\" class=\"dataframe\"><thead><tr><th>problem</th><th>instance</th><th>y</th><th>optimum</th><th>x_0</th><th>x_1</th><th>x_2</th><th>x_3</th><th>x_4</th></tr><tr><td>i64</td><td>i64</td><td>f64</td><td>f64</td><td>f64</td><td>f64</td><td>f64</td><td>f64</td><td>f64</td></tr></thead><tbody><tr><td>1</td><td>1</td><td>183.443152</td><td>79.48</td><td>-3.149596</td><td>1.601646</td><td>4.805492</td><td>-2.859105</td><td>2.913973</td></tr><tr><td>1</td><td>1</td><td>137.493662</td><td>79.48</td><td>0.78446</td><td>1.718528</td><td>3.697858</td><td>2.556515</td><td>2.751843</td></tr><tr><td>1</td><td>1</td><td>111.218935</td><td>79.48</td><td>-0.651181</td><td>-0.647084</td><td>-1.350508</td><td>-3.267599</td><td>-4.495132</td></tr><tr><td>1</td><td>1</td><td>162.434749</td><td>79.48</td><td>-3.057518</td><td>-2.772905</td><td>4.3904</td><td>-4.642849</td><td>-2.411301</td></tr><tr><td>1</td><td>1</td><td>101.772582</td><td>79.48</td><td>1.708115</td><td>1.237669</td><td>-0.079004</td><td>2.538148</td><td>1.013913</td></tr><tr><td>&hellip;</td><td>&hellip;</td><td>&hellip;</td><td>&hellip;</td><td>&hellip;</td><td>&hellip;</td><td>&hellip;</td><td>&hellip;</td><td>&hellip;</td></tr><tr><td>24</td><td>15</td><td>373.042109</td><td>149.81</td><td>3.550095</td><td>-2.349579</td><td>0.610341</td><td>-4.475076</td><td>-4.671802</td></tr><tr><td>24</td><td>15</td><td>307.514824</td><td>149.81</td><td>-2.14731</td><td>-4.21336</td><td>-0.549176</td><td>-1.346791</td><td>-0.135708</td></tr><tr><td>24</td><td>15</td><td>314.330617</td><td>149.81</td><td>-4.200217</td><td>2.243036</td><td>-3.145434</td><td>-0.55592</td><td>-1.302764</td></tr><tr><td>24</td><td>15</td><td>290.496796</td><td>149.81</td><td>-3.610818</td><td>-0.501484</td><td>-2.538735</td><td>4.095798</td><td>0.147821</td></tr><tr><td>24</td><td>15</td><td>301.40487</td><td>149.81</td><td>-3.2968</td><td>-4.394388</td><td>2.68798</td><td>1.080968</td><td>-0.18128</td></tr></tbody></table></div>"
      ],
      "text/plain": [
       "shape: (450_000, 9)\n",
       "┌─────────┬──────────┬────────────┬─────────┬───┬───────────┬───────────┬───────────┬───────────┐\n",
       "│ problem ┆ instance ┆ y          ┆ optimum ┆ … ┆ x_1       ┆ x_2       ┆ x_3       ┆ x_4       │\n",
       "│ ---     ┆ ---      ┆ ---        ┆ ---     ┆   ┆ ---       ┆ ---       ┆ ---       ┆ ---       │\n",
       "│ i64     ┆ i64      ┆ f64        ┆ f64     ┆   ┆ f64       ┆ f64       ┆ f64       ┆ f64       │\n",
       "╞═════════╪══════════╪════════════╪═════════╪═══╪═══════════╪═══════════╪═══════════╪═══════════╡\n",
       "│ 1       ┆ 1        ┆ 183.443152 ┆ 79.48   ┆ … ┆ 1.601646  ┆ 4.805492  ┆ -2.859105 ┆ 2.913973  │\n",
       "│ 1       ┆ 1        ┆ 137.493662 ┆ 79.48   ┆ … ┆ 1.718528  ┆ 3.697858  ┆ 2.556515  ┆ 2.751843  │\n",
       "│ 1       ┆ 1        ┆ 111.218935 ┆ 79.48   ┆ … ┆ -0.647084 ┆ -1.350508 ┆ -3.267599 ┆ -4.495132 │\n",
       "│ 1       ┆ 1        ┆ 162.434749 ┆ 79.48   ┆ … ┆ -2.772905 ┆ 4.3904    ┆ -4.642849 ┆ -2.411301 │\n",
       "│ 1       ┆ 1        ┆ 101.772582 ┆ 79.48   ┆ … ┆ 1.237669  ┆ -0.079004 ┆ 2.538148  ┆ 1.013913  │\n",
       "│ …       ┆ …        ┆ …          ┆ …       ┆ … ┆ …         ┆ …         ┆ …         ┆ …         │\n",
       "│ 24      ┆ 15       ┆ 373.042109 ┆ 149.81  ┆ … ┆ -2.349579 ┆ 0.610341  ┆ -4.475076 ┆ -4.671802 │\n",
       "│ 24      ┆ 15       ┆ 307.514824 ┆ 149.81  ┆ … ┆ -4.21336  ┆ -0.549176 ┆ -1.346791 ┆ -0.135708 │\n",
       "│ 24      ┆ 15       ┆ 314.330617 ┆ 149.81  ┆ … ┆ 2.243036  ┆ -3.145434 ┆ -0.55592  ┆ -1.302764 │\n",
       "│ 24      ┆ 15       ┆ 290.496796 ┆ 149.81  ┆ … ┆ -0.501484 ┆ -2.538735 ┆ 4.095798  ┆ 0.147821  │\n",
       "│ 24      ┆ 15       ┆ 301.40487  ┆ 149.81  ┆ … ┆ -4.394388 ┆ 2.68798   ┆ 1.080968  ┆ -0.18128  │\n",
       "└─────────┴──────────┴────────────┴─────────┴───┴───────────┴───────────┴───────────┴───────────┘"
      ]
     },
     "execution_count": 7,
     "metadata": {},
     "output_type": "execute_result"
    }
   ],
   "source": [
    "df"
   ]
  },
  {
   "cell_type": "code",
   "execution_count": 8,
   "id": "f00e93b4-3583-478c-987f-22d8fb906a73",
   "metadata": {},
   "outputs": [],
   "source": [
    "save_file = f'{save_dir}/samples__dim_{problem_dim}__samplesize_{sample_size}.norm.parquet'"
   ]
  },
  {
   "cell_type": "code",
   "execution_count": 9,
   "id": "f8e11981-c7c3-4a19-b199-fc2ca942c5b2",
   "metadata": {},
   "outputs": [
    {
     "data": {
      "text/html": [
       "<div><style>\n",
       ".dataframe > thead > tr,\n",
       ".dataframe > tbody > tr {\n",
       "  text-align: right;\n",
       "  white-space: pre-wrap;\n",
       "}\n",
       "</style>\n",
       "<small>shape: (450_000, 9)</small><table border=\"1\" class=\"dataframe\"><thead><tr><th>problem</th><th>instance</th><th>y</th><th>optimum</th><th>x_0</th><th>x_1</th><th>x_2</th><th>x_3</th><th>x_4</th></tr><tr><td>i64</td><td>i64</td><td>f64</td><td>f64</td><td>f64</td><td>f64</td><td>f64</td><td>f64</td><td>f64</td></tr></thead><tbody><tr><td>1</td><td>1</td><td>0.577262</td><td>79.48</td><td>-3.149596</td><td>1.601646</td><td>4.805492</td><td>-2.859105</td><td>2.913973</td></tr><tr><td>1</td><td>1</td><td>0.318008</td><td>79.48</td><td>0.78446</td><td>1.718528</td><td>3.697858</td><td>2.556515</td><td>2.751843</td></tr><tr><td>1</td><td>1</td><td>0.169762</td><td>79.48</td><td>-0.651181</td><td>-0.647084</td><td>-1.350508</td><td>-3.267599</td><td>-4.495132</td></tr><tr><td>1</td><td>1</td><td>0.458729</td><td>79.48</td><td>-3.057518</td><td>-2.772905</td><td>4.3904</td><td>-4.642849</td><td>-2.411301</td></tr><tr><td>1</td><td>1</td><td>0.116464</td><td>79.48</td><td>1.708115</td><td>1.237669</td><td>-0.079004</td><td>2.538148</td><td>1.013913</td></tr><tr><td>&hellip;</td><td>&hellip;</td><td>&hellip;</td><td>&hellip;</td><td>&hellip;</td><td>&hellip;</td><td>&hellip;</td><td>&hellip;</td><td>&hellip;</td></tr><tr><td>24</td><td>15</td><td>0.705769</td><td>149.81</td><td>3.550095</td><td>-2.349579</td><td>0.610341</td><td>-4.475076</td><td>-4.671802</td></tr><tr><td>24</td><td>15</td><td>0.460143</td><td>149.81</td><td>-2.14731</td><td>-4.21336</td><td>-0.549176</td><td>-1.346791</td><td>-0.135708</td></tr><tr><td>24</td><td>15</td><td>0.485692</td><td>149.81</td><td>-4.200217</td><td>2.243036</td><td>-3.145434</td><td>-0.55592</td><td>-1.302764</td></tr><tr><td>24</td><td>15</td><td>0.396352</td><td>149.81</td><td>-3.610818</td><td>-0.501484</td><td>-2.538735</td><td>4.095798</td><td>0.147821</td></tr><tr><td>24</td><td>15</td><td>0.43724</td><td>149.81</td><td>-3.2968</td><td>-4.394388</td><td>2.68798</td><td>1.080968</td><td>-0.18128</td></tr></tbody></table></div>"
      ],
      "text/plain": [
       "shape: (450_000, 9)\n",
       "┌─────────┬──────────┬──────────┬─────────┬───┬───────────┬───────────┬───────────┬───────────┐\n",
       "│ problem ┆ instance ┆ y        ┆ optimum ┆ … ┆ x_1       ┆ x_2       ┆ x_3       ┆ x_4       │\n",
       "│ ---     ┆ ---      ┆ ---      ┆ ---     ┆   ┆ ---       ┆ ---       ┆ ---       ┆ ---       │\n",
       "│ i64     ┆ i64      ┆ f64      ┆ f64     ┆   ┆ f64       ┆ f64       ┆ f64       ┆ f64       │\n",
       "╞═════════╪══════════╪══════════╪═════════╪═══╪═══════════╪═══════════╪═══════════╪═══════════╡\n",
       "│ 1       ┆ 1        ┆ 0.577262 ┆ 79.48   ┆ … ┆ 1.601646  ┆ 4.805492  ┆ -2.859105 ┆ 2.913973  │\n",
       "│ 1       ┆ 1        ┆ 0.318008 ┆ 79.48   ┆ … ┆ 1.718528  ┆ 3.697858  ┆ 2.556515  ┆ 2.751843  │\n",
       "│ 1       ┆ 1        ┆ 0.169762 ┆ 79.48   ┆ … ┆ -0.647084 ┆ -1.350508 ┆ -3.267599 ┆ -4.495132 │\n",
       "│ 1       ┆ 1        ┆ 0.458729 ┆ 79.48   ┆ … ┆ -2.772905 ┆ 4.3904    ┆ -4.642849 ┆ -2.411301 │\n",
       "│ 1       ┆ 1        ┆ 0.116464 ┆ 79.48   ┆ … ┆ 1.237669  ┆ -0.079004 ┆ 2.538148  ┆ 1.013913  │\n",
       "│ …       ┆ …        ┆ …        ┆ …       ┆ … ┆ …         ┆ …         ┆ …         ┆ …         │\n",
       "│ 24      ┆ 15       ┆ 0.705769 ┆ 149.81  ┆ … ┆ -2.349579 ┆ 0.610341  ┆ -4.475076 ┆ -4.671802 │\n",
       "│ 24      ┆ 15       ┆ 0.460143 ┆ 149.81  ┆ … ┆ -4.21336  ┆ -0.549176 ┆ -1.346791 ┆ -0.135708 │\n",
       "│ 24      ┆ 15       ┆ 0.485692 ┆ 149.81  ┆ … ┆ 2.243036  ┆ -3.145434 ┆ -0.55592  ┆ -1.302764 │\n",
       "│ 24      ┆ 15       ┆ 0.396352 ┆ 149.81  ┆ … ┆ -0.501484 ┆ -2.538735 ┆ 4.095798  ┆ 0.147821  │\n",
       "│ 24      ┆ 15       ┆ 0.43724  ┆ 149.81  ┆ … ┆ -4.394388 ┆ 2.68798   ┆ 1.080968  ┆ -0.18128  │\n",
       "└─────────┴──────────┴──────────┴─────────┴───┴───────────┴───────────┴───────────┴───────────┘"
      ]
     },
     "execution_count": 9,
     "metadata": {},
     "output_type": "execute_result"
    }
   ],
   "source": [
    "df = norm_y(df.lazy()).collect()\n",
    "df"
   ]
  },
  {
   "cell_type": "code",
   "execution_count": 10,
   "id": "cda4f1aa-d651-427c-9a46-5e368e71cfa3",
   "metadata": {},
   "outputs": [],
   "source": [
    "df.write_parquet(save_file)"
   ]
  }
 ],
 "metadata": {
  "kernelspec": {
   "display_name": "Base",
   "language": "python",
   "name": "base"
  },
  "language_info": {
   "codemirror_mode": {
    "name": "ipython",
    "version": 3
   },
   "file_extension": ".py",
   "mimetype": "text/x-python",
   "name": "python",
   "nbconvert_exporter": "python",
   "pygments_lexer": "ipython3",
   "version": "3.10.16"
  }
 },
 "nbformat": 4,
 "nbformat_minor": 5
}
