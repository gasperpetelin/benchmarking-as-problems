{
 "cells": [
  {
   "cell_type": "code",
   "execution_count": 1,
   "id": "9849822a-6423-4dc7-a7b8-3d3c68005a52",
   "metadata": {},
   "outputs": [],
   "source": [
    "from utils import *\n",
    "import os.path\n",
    "from scipy.stats import qmc\n",
    "from tqdm import tqdm\n",
    "from pymoo.operators.sampling.lhs import LHS\n",
    "import polars as pl"
   ]
  },
  {
   "cell_type": "code",
   "execution_count": 2,
   "id": "106a0321-b691-4519-a2af-827b8023cbb1",
   "metadata": {},
   "outputs": [],
   "source": [
    "def get_functions(seed=42, n_transforms=300):\n",
    "    def power16(y):\n",
    "        return np.power(y, 1/6)\n",
    "    \n",
    "    def power13(y):\n",
    "        return np.power(y, 1/3)\n",
    "    \n",
    "    def power12(y):\n",
    "        return np.power(y, 1/2)\n",
    "    \n",
    "    def power2(y):\n",
    "        return np.power(y, 2)\n",
    "    \n",
    "    def power3(y):\n",
    "        return np.power(y, 3)\n",
    "    \n",
    "    def quantile_25(y):\n",
    "        return np.quantile(y, 0.25)\n",
    "    \n",
    "    def quantile_75(y):\n",
    "        return np.quantile(y, 0.75)\n",
    "    \n",
    "    def quantile_05(y):\n",
    "        return np.quantile(y, 0.05)\n",
    "    \n",
    "    def quantile_95(y):\n",
    "        return np.quantile(y, 0.95)\n",
    "    \n",
    "    scalars = [0.2, 0.3, 0.5, 0.7, 1, 2, 3, 5, 7, 9]\n",
    "    transforms = [np.sin, np.cos, power16, power13, power12, power2, np.log1p]\n",
    "    aggs = [np.mean, np.median, np.std, quantile_25, quantile_75, quantile_05, quantile_95]\n",
    "    \n",
    "    np.random.seed(seed)\n",
    "    generated_names = set()\n",
    "    \n",
    "    for _ in range(n_transforms):\n",
    "        while True:\n",
    "            scalar = np.random.choice(scalars)\n",
    "            transform = np.random.choice(transforms)\n",
    "            agg = np.random.choice(aggs)\n",
    "            \n",
    "            name = f's_{scalar}__t_{transform.__name__}__a_{agg.__name__}'\n",
    "            \n",
    "            if name not in generated_names:\n",
    "                generated_names.add(name)  # Add the new name to the set\n",
    "                break  # Exit the loop when a unique name is generated\n",
    "        \n",
    "        def return_f(y, scalar=scalar, transform=transform, agg=agg):\n",
    "            #y = group.struct.field(\"y\").to_numpy()\n",
    "            return agg(transform(scalar * y))\n",
    "        \n",
    "        yield name, return_f\n",
    "        \n",
    "        \n",
    "#for name, fun in get_functions():\n",
    "#    print(name)"
   ]
  },
  {
   "cell_type": "code",
   "execution_count": 3,
   "id": "66a2a998-2d2e-4532-8bfd-6170ae7b59e3",
   "metadata": {},
   "outputs": [],
   "source": [
    "save_dir = 'lio_problem'\n",
    "create_directory_if_not_exist(save_dir)"
   ]
  },
  {
   "cell_type": "code",
   "execution_count": 4,
   "id": "71e5fb06-8db6-433a-9d52-6d124664f7a2",
   "metadata": {},
   "outputs": [],
   "source": [
    "sample_size = 250 #times dimention\n",
    "problem_dim = 5"
   ]
  },
  {
   "cell_type": "code",
   "execution_count": 5,
   "id": "1098a704-5d03-4db9-8ab4-5a87e7c59ab1",
   "metadata": {},
   "outputs": [],
   "source": [
    "sample_file_norm = f'{save_dir}/samples__dim_{problem_dim}__samplesize_{sample_size}.norm.parquet'"
   ]
  },
  {
   "cell_type": "code",
   "execution_count": 6,
   "id": "c53ebdaf-d93d-41cb-8081-f6630aa47621",
   "metadata": {},
   "outputs": [],
   "source": [
    "df = pl.scan_parquet(sample_file_norm).collect()"
   ]
  },
  {
   "cell_type": "code",
   "execution_count": 7,
   "id": "85f2d465-a923-43ed-bc9e-6648c5bcffba",
   "metadata": {},
   "outputs": [
    {
     "data": {
      "text/html": [
       "<div><style>\n",
       ".dataframe > thead > tr,\n",
       ".dataframe > tbody > tr {\n",
       "  text-align: right;\n",
       "  white-space: pre-wrap;\n",
       "}\n",
       "</style>\n",
       "<small>shape: (450_000, 9)</small><table border=\"1\" class=\"dataframe\"><thead><tr><th>problem</th><th>instance</th><th>y</th><th>optimum</th><th>x_0</th><th>x_1</th><th>x_2</th><th>x_3</th><th>x_4</th></tr><tr><td>i64</td><td>i64</td><td>f64</td><td>f64</td><td>f64</td><td>f64</td><td>f64</td><td>f64</td><td>f64</td></tr></thead><tbody><tr><td>1</td><td>1</td><td>0.577262</td><td>79.48</td><td>-3.149596</td><td>1.601646</td><td>4.805492</td><td>-2.859105</td><td>2.913973</td></tr><tr><td>1</td><td>1</td><td>0.318008</td><td>79.48</td><td>0.78446</td><td>1.718528</td><td>3.697858</td><td>2.556515</td><td>2.751843</td></tr><tr><td>1</td><td>1</td><td>0.169762</td><td>79.48</td><td>-0.651181</td><td>-0.647084</td><td>-1.350508</td><td>-3.267599</td><td>-4.495132</td></tr><tr><td>1</td><td>1</td><td>0.458729</td><td>79.48</td><td>-3.057518</td><td>-2.772905</td><td>4.3904</td><td>-4.642849</td><td>-2.411301</td></tr><tr><td>1</td><td>1</td><td>0.116464</td><td>79.48</td><td>1.708115</td><td>1.237669</td><td>-0.079004</td><td>2.538148</td><td>1.013913</td></tr><tr><td>&hellip;</td><td>&hellip;</td><td>&hellip;</td><td>&hellip;</td><td>&hellip;</td><td>&hellip;</td><td>&hellip;</td><td>&hellip;</td><td>&hellip;</td></tr><tr><td>24</td><td>15</td><td>0.705769</td><td>149.81</td><td>3.550095</td><td>-2.349579</td><td>0.610341</td><td>-4.475076</td><td>-4.671802</td></tr><tr><td>24</td><td>15</td><td>0.460143</td><td>149.81</td><td>-2.14731</td><td>-4.21336</td><td>-0.549176</td><td>-1.346791</td><td>-0.135708</td></tr><tr><td>24</td><td>15</td><td>0.485692</td><td>149.81</td><td>-4.200217</td><td>2.243036</td><td>-3.145434</td><td>-0.55592</td><td>-1.302764</td></tr><tr><td>24</td><td>15</td><td>0.396352</td><td>149.81</td><td>-3.610818</td><td>-0.501484</td><td>-2.538735</td><td>4.095798</td><td>0.147821</td></tr><tr><td>24</td><td>15</td><td>0.43724</td><td>149.81</td><td>-3.2968</td><td>-4.394388</td><td>2.68798</td><td>1.080968</td><td>-0.18128</td></tr></tbody></table></div>"
      ],
      "text/plain": [
       "shape: (450_000, 9)\n",
       "┌─────────┬──────────┬──────────┬─────────┬───┬───────────┬───────────┬───────────┬───────────┐\n",
       "│ problem ┆ instance ┆ y        ┆ optimum ┆ … ┆ x_1       ┆ x_2       ┆ x_3       ┆ x_4       │\n",
       "│ ---     ┆ ---      ┆ ---      ┆ ---     ┆   ┆ ---       ┆ ---       ┆ ---       ┆ ---       │\n",
       "│ i64     ┆ i64      ┆ f64      ┆ f64     ┆   ┆ f64       ┆ f64       ┆ f64       ┆ f64       │\n",
       "╞═════════╪══════════╪══════════╪═════════╪═══╪═══════════╪═══════════╪═══════════╪═══════════╡\n",
       "│ 1       ┆ 1        ┆ 0.577262 ┆ 79.48   ┆ … ┆ 1.601646  ┆ 4.805492  ┆ -2.859105 ┆ 2.913973  │\n",
       "│ 1       ┆ 1        ┆ 0.318008 ┆ 79.48   ┆ … ┆ 1.718528  ┆ 3.697858  ┆ 2.556515  ┆ 2.751843  │\n",
       "│ 1       ┆ 1        ┆ 0.169762 ┆ 79.48   ┆ … ┆ -0.647084 ┆ -1.350508 ┆ -3.267599 ┆ -4.495132 │\n",
       "│ 1       ┆ 1        ┆ 0.458729 ┆ 79.48   ┆ … ┆ -2.772905 ┆ 4.3904    ┆ -4.642849 ┆ -2.411301 │\n",
       "│ 1       ┆ 1        ┆ 0.116464 ┆ 79.48   ┆ … ┆ 1.237669  ┆ -0.079004 ┆ 2.538148  ┆ 1.013913  │\n",
       "│ …       ┆ …        ┆ …        ┆ …       ┆ … ┆ …         ┆ …         ┆ …         ┆ …         │\n",
       "│ 24      ┆ 15       ┆ 0.705769 ┆ 149.81  ┆ … ┆ -2.349579 ┆ 0.610341  ┆ -4.475076 ┆ -4.671802 │\n",
       "│ 24      ┆ 15       ┆ 0.460143 ┆ 149.81  ┆ … ┆ -4.21336  ┆ -0.549176 ┆ -1.346791 ┆ -0.135708 │\n",
       "│ 24      ┆ 15       ┆ 0.485692 ┆ 149.81  ┆ … ┆ 2.243036  ┆ -3.145434 ┆ -0.55592  ┆ -1.302764 │\n",
       "│ 24      ┆ 15       ┆ 0.396352 ┆ 149.81  ┆ … ┆ -0.501484 ┆ -2.538735 ┆ 4.095798  ┆ 0.147821  │\n",
       "│ 24      ┆ 15       ┆ 0.43724  ┆ 149.81  ┆ … ┆ -4.394388 ┆ 2.68798   ┆ 1.080968  ┆ -0.18128  │\n",
       "└─────────┴──────────┴──────────┴─────────┴───┴───────────┴───────────┴───────────┴───────────┘"
      ]
     },
     "execution_count": 7,
     "metadata": {},
     "output_type": "execute_result"
    }
   ],
   "source": [
    "df"
   ]
  },
  {
   "cell_type": "code",
   "execution_count": 8,
   "id": "90ee1181-0806-4540-b7ba-5e14eae015a6",
   "metadata": {},
   "outputs": [],
   "source": [
    "ela_save_dir = f'{save_dir}/dummy'\n",
    "create_directory_if_not_exist(ela_save_dir)"
   ]
  },
  {
   "cell_type": "code",
   "execution_count": 9,
   "id": "2f18d379-4fab-4ca4-a69c-6479b2d9cff7",
   "metadata": {},
   "outputs": [],
   "source": [
    "methods = list(get_functions())\n",
    "#methods"
   ]
  },
  {
   "cell_type": "code",
   "execution_count": null,
   "id": "8493b2f0-c41f-42b8-8ad3-afbd045f538d",
   "metadata": {},
   "outputs": [],
   "source": []
  },
  {
   "cell_type": "code",
   "execution_count": 10,
   "id": "3c18a1d6-4061-4a16-8a0e-96068915c360",
   "metadata": {},
   "outputs": [
    {
     "name": "stderr",
     "output_type": "stream",
     "text": [
      "100%|██████████| 360/360 [00:00<00:00, 79655.49it/s]\n"
     ]
    }
   ],
   "source": [
    "for r in tqdm(df.select(['problem', 'instance']).unique().sort(['instance']).rows(named=True)):\n",
    "    instance = r['instance']\n",
    "    problem = r['problem']\n",
    "    save_file = f'{ela_save_dir}/p_{problem}__i_{instance}.parquet'\n",
    "    \n",
    "    if os.path.exists(save_file):\n",
    "        continue\n",
    "    \n",
    "    sdf = df.filter(pl.col('problem')==problem).filter(pl.col('instance')==instance)\n",
    "    y = sdf['y'].to_numpy()\n",
    "    \n",
    "    features = {}\n",
    "    for mname, method in methods:\n",
    "        fe = method(y)\n",
    "        features[mname]= fe\n",
    "\n",
    "    features['problem'] = problem\n",
    "    features['instance'] = instance\n",
    "    \n",
    "    l = features\n",
    "    features = pl.DataFrame([features])\n",
    "    features = features.with_columns([\n",
    "        pl.col('*').cast(pl.Float64)\n",
    "    ]).with_columns([\n",
    "        pl.col('problem').cast(pl.Int64),  # Keep 'problem' as Int64\n",
    "        pl.col('instance').cast(pl.Int64)  # Keep 'instance' as Int64\n",
    "    ])\n",
    "\n",
    "    features.write_parquet(save_file)"
   ]
  },
  {
   "cell_type": "code",
   "execution_count": null,
   "id": "72d3be46-dc1d-4b33-92fc-4c772b5fa7a7",
   "metadata": {},
   "outputs": [],
   "source": []
  },
  {
   "cell_type": "code",
   "execution_count": null,
   "id": "654cae80-7459-4f06-ac13-2fd57d3f2226",
   "metadata": {},
   "outputs": [],
   "source": []
  },
  {
   "cell_type": "code",
   "execution_count": 11,
   "id": "6c1f0497-761c-4952-aade-252e35c18d73",
   "metadata": {},
   "outputs": [
    {
     "ename": "NameError",
     "evalue": "name 'Sdsd' is not defined",
     "output_type": "error",
     "traceback": [
      "\u001b[0;31m---------------------------------------------------------------------------\u001b[0m",
      "\u001b[0;31mNameError\u001b[0m                                 Traceback (most recent call last)",
      "Cell \u001b[0;32mIn[11], line 1\u001b[0m\n\u001b[0;32m----> 1\u001b[0m sdsdf\u001b[38;5;241m=\u001b[39m\u001b[43mSdsd\u001b[49m\n",
      "\u001b[0;31mNameError\u001b[0m: name 'Sdsd' is not defined"
     ]
    }
   ],
   "source": [
    "sdsdf=Sdsd"
   ]
  },
  {
   "cell_type": "code",
   "execution_count": null,
   "id": "0594077b-7aaa-41ec-917c-f77f956d9dd2",
   "metadata": {},
   "outputs": [],
   "source": [
    "def dummy_features(df):\n",
    "    def y_sin_mean(group):\n",
    "        y = group.struct.field(\"y\").to_numpy()\n",
    "        return np.sin(y).mean()\n",
    "\n",
    "    def y_cos_mean(group):\n",
    "        y = group.struct.field(\"y\").to_numpy()\n",
    "        return np.cos(y).mean()\n",
    "\n",
    "    def y_3_sin_mean(group):\n",
    "        y = group.struct.field(\"y\").to_numpy()\n",
    "        return np.sin(3*y).mean()\n",
    "\n",
    "    def y_3_cos_mean(group):\n",
    "        y = group.struct.field(\"y\").to_numpy()\n",
    "        return np.cos(3*y).mean()\n",
    "\n",
    "    def y_5_sin_mean(group):\n",
    "        y = group.struct.field(\"y\").to_numpy()\n",
    "        return np.sin(5*y).mean()\n",
    "\n",
    "    def y_5_cos_mean(group):\n",
    "        y = group.struct.field(\"y\").to_numpy()\n",
    "        return np.cos(5*y).mean()\n",
    "\n",
    "    def y_7_sin_mean(group):\n",
    "        y = group.struct.field(\"y\").to_numpy()\n",
    "        return np.sin(7*y).mean()\n",
    "\n",
    "    def y_7_cos_mean(group):\n",
    "        y = group.struct.field(\"y\").to_numpy()\n",
    "        return np.cos(7*y).mean()\n",
    "\n",
    "    def y_pow_1_6_mean(group):\n",
    "        y = group.struct.field(\"y\").to_numpy()\n",
    "        return np.power(y, 1/6).mean()\n",
    "\n",
    "    def y_pow_1_5_mean(group):\n",
    "        y = group.struct.field(\"y\").to_numpy()\n",
    "        return np.power(y, 1/5).mean()\n",
    "\n",
    "    def y_pow_1_4_mean(group):\n",
    "        y = group.struct.field(\"y\").to_numpy()\n",
    "        return np.power(y, 1/4).mean()\n",
    "\n",
    "    def y_pow_1_3_mean(group):\n",
    "        y = group.struct.field(\"y\").to_numpy()\n",
    "        return np.power(y, 1/3).mean()\n",
    "\n",
    "    def y_pow_1_2_mean(group):\n",
    "        y = group.struct.field(\"y\").to_numpy()\n",
    "        return np.power(y, 1/2).mean()\n",
    "\n",
    "    def y_pow_1_6_std(group):\n",
    "        y = group.struct.field(\"y\").to_numpy()\n",
    "        return np.power(y, 1/6).std()\n",
    "\n",
    "    def y_pow_1_5_std(group):\n",
    "        y = group.struct.field(\"y\").to_numpy()\n",
    "        return np.power(y, 1/5).std()\n",
    "\n",
    "    def y_pow_1_4_std(group):\n",
    "        y = group.struct.field(\"y\").to_numpy()\n",
    "        return np.power(y, 1/4).std()\n",
    "\n",
    "    def y_pow_1_3_std(group):\n",
    "        y = group.struct.field(\"y\").to_numpy()\n",
    "        return np.power(y, 1/3).std()\n",
    "\n",
    "    def y_pow_1_2_std(group):\n",
    "        y = group.struct.field(\"y\").to_numpy()\n",
    "        return np.power(y, 1/2).std()\n",
    "    \n",
    "    def y_9_sin_mean(group):\n",
    "        y = group.struct.field(\"y\").to_numpy()\n",
    "        return np.sin(9*y).mean()\n",
    "\n",
    "    def y_9_cos_mean(group):\n",
    "        y = group.struct.field(\"y\").to_numpy()\n",
    "        return np.cos(9*y).mean()\n",
    "\n",
    "    def y_11_sin_mean(group):\n",
    "        y = group.struct.field(\"y\").to_numpy()\n",
    "        return np.sin(11*y).mean()\n",
    "\n",
    "    def y_11_cos_mean(group):\n",
    "        y = group.struct.field(\"y\").to_numpy()\n",
    "        return np.cos(11*y).mean()\n",
    "\n",
    "    def y_exp_mean(group):\n",
    "        y = group.struct.field(\"y\").to_numpy()\n",
    "        return np.exp(y).mean()\n",
    "\n",
    "    def y_exp_std(group):\n",
    "        y = group.struct.field(\"y\").to_numpy()\n",
    "        return np.exp(y).std()\n",
    "\n",
    "    def y_exp_inv_mean(group):\n",
    "        y = group.struct.field(\"y\").to_numpy()\n",
    "        return np.exp(-y).mean()\n",
    "\n",
    "    def y_exp_inv_std(group):\n",
    "        y = group.struct.field(\"y\").to_numpy()\n",
    "        return np.exp(-y).std()\n",
    "\n",
    "    def y_log1p_mean(group):\n",
    "        y = group.struct.field(\"y\").to_numpy()\n",
    "        return np.log1p(y).mean()\n",
    "\n",
    "    def y_log1p_std(group):\n",
    "        y = group.struct.field(\"y\").to_numpy()\n",
    "        return np.log1p(y).std()\n",
    "\n",
    "    def y_pow_2_mean(group):\n",
    "        y = group.struct.field(\"y\").to_numpy()\n",
    "        return np.power(y, 2).mean()\n",
    "\n",
    "    def y_pow_3_mean(group):\n",
    "        y = group.struct.field(\"y\").to_numpy()\n",
    "        return np.power(y, 3).mean()\n",
    "\n",
    "    def y_pow_4_mean(group):\n",
    "        y = group.struct.field(\"y\").to_numpy()\n",
    "        return np.power(y, 4).mean()\n",
    "\n",
    "    def y_pow_5_std(group):\n",
    "        y = group.struct.field(\"y\").to_numpy()\n",
    "        return np.power(y, 5).std()\n",
    "    \n",
    "    \n",
    "\n",
    "    #feature_funks = [\n",
    "    #    y_sin_mean, \n",
    "    #    y_cos_mean, \n",
    "    #    y_3_sin_mean, \n",
    "    #    y_3_cos_mean, \n",
    "    #    y_5_sin_mean, \n",
    "    #    y_5_cos_mean, \n",
    "    #    y_7_sin_mean, \n",
    "    #    y_7_cos_mean,\n",
    "    #    y_pow_1_6_mean,\n",
    "    #    y_pow_1_5_mean,\n",
    "    #    y_pow_1_4_mean,\n",
    "    #    y_pow_1_3_mean,\n",
    "    #    y_pow_1_2_mean,\n",
    "    #    y_pow_1_6_std,\n",
    "    #    y_pow_1_5_std,\n",
    "    #    y_pow_1_4_std,\n",
    "    #    y_pow_1_3_std,\n",
    "    #    y_pow_1_2_std,\n",
    "    #    \n",
    "    #    y_9_sin_mean,\n",
    "    #    y_9_cos_mean,\n",
    "    #    y_11_sin_mean,\n",
    "    #    y_11_cos_mean,\n",
    "    #    y_exp_mean,\n",
    "    #    y_exp_std,\n",
    "    #    y_exp_inv_mean,\n",
    "    #    y_exp_inv_std,\n",
    "    #    y_log1p_mean,\n",
    "    #    y_log1p_std,\n",
    "    #    y_pow_2_mean,\n",
    "    #    y_pow_3_mean,\n",
    "    #    y_pow_4_mean,\n",
    "    #    y_pow_5_std,\n",
    "    #]\n",
    "\n",
    "    cols = [pl.col(\"y\"), pl.col(\"x_0\"), pl.col(\"x_1\"), pl.col(\"x_2\"), pl.col(\"x_3\"), pl.col(\"x_4\")]\n",
    "    #opps = [pl.struct(cols).map_elements(f, return_dtype=pl.Float64).alias(f.__name__) for f in feature_funks]\n",
    "\n",
    "    opps = []\n",
    "    for n, f in get_functions():\n",
    "        opps.append(pl.struct(cols).map_elements(f, return_dtype=pl.Float64).alias(n))\n",
    "    \n",
    "    features = df.group_by([\"problem\", \"instance\"]).agg(opps).sort(['problem', 'instance'])\n",
    "    return features"
   ]
  },
  {
   "cell_type": "code",
   "execution_count": null,
   "id": "63a4f09f-4a60-4dcd-b0eb-834a24852c16",
   "metadata": {},
   "outputs": [],
   "source": [
    "save_dir = 'lio_problem'\n",
    "create_directory_if_not_exist(save_dir)"
   ]
  },
  {
   "cell_type": "code",
   "execution_count": null,
   "id": "6baffd8b-9316-4e4f-914a-9840339d2fe1",
   "metadata": {},
   "outputs": [],
   "source": [
    "sample_size = 250 #times dimention\n",
    "problem_dim = 5"
   ]
  },
  {
   "cell_type": "code",
   "execution_count": null,
   "id": "3513dd80-de6b-41db-92ae-37ecb0588066",
   "metadata": {},
   "outputs": [],
   "source": [
    "sample_file_norm = f'{save_dir}/samples__dim_{problem_dim}__samplesize_{sample_size}.norm.parquet'\n",
    "sample_file_norm_dummy = f'{save_dir}/samples__dim_{problem_dim}__samplesize_{sample_size}.dummy.norm.parquet'"
   ]
  },
  {
   "cell_type": "code",
   "execution_count": null,
   "id": "9dafa0d9-acd2-4a28-bba3-5d537637c049",
   "metadata": {},
   "outputs": [],
   "source": [
    "df = pl.scan_parquet(sample_file_norm).collect()\n",
    "df = df.filter(pl.col('instance')<=100)\n",
    "df"
   ]
  },
  {
   "cell_type": "code",
   "execution_count": null,
   "id": "0b03c43c-8baf-4c1f-9705-a271c49c8fe9",
   "metadata": {},
   "outputs": [],
   "source": [
    "#sf=sdfs"
   ]
  },
  {
   "cell_type": "code",
   "execution_count": null,
   "id": "910177e1-3121-49ef-8df9-08282ba131da",
   "metadata": {},
   "outputs": [],
   "source": [
    "features = df.pipe(dummy_features)\n",
    "features.write_parquet(sample_file_norm_dummy)"
   ]
  },
  {
   "cell_type": "code",
   "execution_count": null,
   "id": "5313af11-22eb-4f8e-ac43-56189a042e93",
   "metadata": {},
   "outputs": [],
   "source": [
    "sdf=sdf"
   ]
  },
  {
   "cell_type": "code",
   "execution_count": null,
   "id": "074e4743-9a0d-4023-8f0b-1e0ff9ec3285",
   "metadata": {},
   "outputs": [],
   "source": [
    "sample_file = f'{save_dir}/samples__dim_{problem_dim}__samplesize_{sample_size}.parquet'\n",
    "sample_file_dummy = f'{save_dir}/samples__dim_{problem_dim}__samplesize_{sample_size}.dummy.parquet'"
   ]
  },
  {
   "cell_type": "code",
   "execution_count": null,
   "id": "57ac58c8-207b-4154-b7f5-1de62a4457cc",
   "metadata": {},
   "outputs": [],
   "source": [
    "df = pl.scan_parquet(sample_file).collect()\n",
    "print(df)"
   ]
  },
  {
   "cell_type": "code",
   "execution_count": null,
   "id": "9fe27093-0858-4c8f-af2e-c47b213d1357",
   "metadata": {},
   "outputs": [],
   "source": [
    "features = df.pipe(dummy_features)\n",
    "features.write_parquet(sample_file_dummy)"
   ]
  },
  {
   "cell_type": "code",
   "execution_count": null,
   "id": "186c6c97-7060-48a7-bd0c-95bfd4f9c721",
   "metadata": {},
   "outputs": [],
   "source": []
  },
  {
   "cell_type": "code",
   "execution_count": null,
   "id": "939e1cd6-1ad7-4f6a-8ec8-4b7efb9d1841",
   "metadata": {},
   "outputs": [],
   "source": []
  },
  {
   "cell_type": "code",
   "execution_count": null,
   "id": "704c10af-5c45-41df-9626-1d4da5d9605b",
   "metadata": {},
   "outputs": [],
   "source": []
  },
  {
   "cell_type": "code",
   "execution_count": null,
   "id": "1c84d3e9-80d4-4d2e-af61-01d589999e82",
   "metadata": {},
   "outputs": [],
   "source": []
  },
  {
   "cell_type": "code",
   "execution_count": null,
   "id": "df89eb56-0b4c-4e3d-ad06-83a803a87700",
   "metadata": {},
   "outputs": [],
   "source": []
  },
  {
   "cell_type": "code",
   "execution_count": null,
   "id": "2022a991-824d-4b15-b6d4-783b759a5b38",
   "metadata": {},
   "outputs": [],
   "source": [
    "asdf=asdf"
   ]
  },
  {
   "cell_type": "code",
   "execution_count": null,
   "id": "3384f49a-7412-4606-9b17-45e9e3354eab",
   "metadata": {},
   "outputs": [],
   "source": [
    "from sklearn.model_selection import train_test_split\n",
    "from sklearn.ensemble import RandomForestClassifier\n",
    "from sklearn.metrics import accuracy_score"
   ]
  },
  {
   "cell_type": "code",
   "execution_count": null,
   "id": "30601dca-b83d-4418-aebc-fb5360fad7af",
   "metadata": {},
   "outputs": [],
   "source": [
    "X = features.select([f.__name__ for f in feature_funks]).to_numpy()\n",
    "y = features['problem'].to_numpy()"
   ]
  },
  {
   "cell_type": "code",
   "execution_count": null,
   "id": "9aace89f-975b-4d5e-a0f5-50591d4a3db5",
   "metadata": {},
   "outputs": [],
   "source": [
    "X_train, X_test, y_train, y_test = train_test_split(X, y, test_size=0.2)\n",
    "\n",
    "# Initialize the RandomForestClassifier\n",
    "rf = RandomForestClassifier(n_jobs=-1)\n",
    "\n",
    "# Train the RandomForest model\n",
    "rf.fit(X_train, y_train)\n",
    "\n",
    "# Make predictions on the test set\n",
    "y_pred = rf.predict(X_test)\n",
    "\n",
    "# Calculate accuracy\n",
    "accuracy = accuracy_score(y_test, y_pred)\n",
    "\n",
    "print(f\"Model accuracy: {accuracy:.2f}\")"
   ]
  }
 ],
 "metadata": {
  "kernelspec": {
   "display_name": "Base",
   "language": "python",
   "name": "base"
  },
  "language_info": {
   "codemirror_mode": {
    "name": "ipython",
    "version": 3
   },
   "file_extension": ".py",
   "mimetype": "text/x-python",
   "name": "python",
   "nbconvert_exporter": "python",
   "pygments_lexer": "ipython3",
   "version": "3.10.16"
  }
 },
 "nbformat": 4,
 "nbformat_minor": 5
}
