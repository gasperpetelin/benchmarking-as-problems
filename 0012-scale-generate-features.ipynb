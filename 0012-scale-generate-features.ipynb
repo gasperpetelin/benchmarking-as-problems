{
 "cells": [
  {
   "cell_type": "code",
   "execution_count": 1,
   "id": "9849822a-6423-4dc7-a7b8-3d3c68005a52",
   "metadata": {},
   "outputs": [],
   "source": [
    "from utils import *\n",
    "import os.path\n",
    "from scipy.stats import qmc\n",
    "from tqdm import tqdm\n",
    "from pymoo.operators.sampling.lhs import LHS\n",
    "import polars as pl"
   ]
  },
  {
   "cell_type": "code",
   "execution_count": 2,
   "id": "63a4f09f-4a60-4dcd-b0eb-834a24852c16",
   "metadata": {},
   "outputs": [],
   "source": [
    "save_dir = 'scale_problem'\n",
    "create_directory_if_not_exist(save_dir)"
   ]
  },
  {
   "cell_type": "code",
   "execution_count": 3,
   "id": "6baffd8b-9316-4e4f-914a-9840339d2fe1",
   "metadata": {},
   "outputs": [],
   "source": [
    "problem_dim = 5\n",
    "n_runs = 30\n",
    "n_evals = 1000\n",
    "seed=42\n",
    "n_instance_reapets = 3"
   ]
  },
  {
   "cell_type": "code",
   "execution_count": 4,
   "id": "5e96eccd-fa2c-48ba-a8aa-f805d2e51e1a",
   "metadata": {},
   "outputs": [
    {
     "data": {
      "text/html": [
       "<div><style>\n",
       ".dataframe > thead > tr,\n",
       ".dataframe > tbody > tr {\n",
       "  text-align: right;\n",
       "  white-space: pre-wrap;\n",
       "}\n",
       "</style>\n",
       "<small>shape: (135_000_000, 9)</small><table border=\"1\" class=\"dataframe\"><thead><tr><th>problem</th><th>instance</th><th>y</th><th>scale</th><th>x_0</th><th>x_1</th><th>x_2</th><th>x_3</th><th>x_4</th></tr><tr><td>i64</td><td>i64</td><td>f64</td><td>f64</td><td>f64</td><td>f64</td><td>f64</td><td>f64</td><td>f64</td></tr></thead><tbody><tr><td>1</td><td>1</td><td>6.060719</td><td>0.041858</td><td>-4.296427</td><td>-3.104281</td><td>-0.192616</td><td>-0.673033</td><td>3.131601</td></tr><tr><td>1</td><td>1</td><td>6.126361</td><td>0.041858</td><td>4.528078</td><td>-3.067798</td><td>2.361273</td><td>0.416028</td><td>3.076782</td></tr><tr><td>1</td><td>1</td><td>3.877255</td><td>0.041858</td><td>-1.140813</td><td>-3.502411</td><td>-2.387861</td><td>1.560439</td><td>-1.006926</td></tr><tr><td>1</td><td>1</td><td>6.632123</td><td>0.041858</td><td>2.961459</td><td>2.547677</td><td>-0.053763</td><td>2.266459</td><td>4.891365</td></tr><tr><td>1</td><td>1</td><td>4.10911</td><td>0.041858</td><td>-2.809439</td><td>-0.757153</td><td>-0.830928</td><td>0.079946</td><td>-0.28717</td></tr><tr><td>&hellip;</td><td>&hellip;</td><td>&hellip;</td><td>&hellip;</td><td>&hellip;</td><td>&hellip;</td><td>&hellip;</td><td>&hellip;</td><td>&hellip;</td></tr><tr><td>24</td><td>15</td><td>7190.788579</td><td>29.199993</td><td>4.132589</td><td>1.248377</td><td>-1.640549</td><td>3.33526</td><td>-1.551975</td></tr><tr><td>24</td><td>15</td><td>8519.918924</td><td>29.199993</td><td>4.488035</td><td>2.981614</td><td>-3.87305</td><td>3.56724</td><td>-0.802508</td></tr><tr><td>24</td><td>15</td><td>8824.975638</td><td>29.199993</td><td>-3.955833</td><td>-1.963122</td><td>2.818195</td><td>-2.607644</td><td>-3.413899</td></tr><tr><td>24</td><td>15</td><td>7418.696193</td><td>29.199993</td><td>1.954649</td><td>-0.399579</td><td>-0.371989</td><td>2.164068</td><td>-3.200616</td></tr><tr><td>24</td><td>15</td><td>9413.71993</td><td>29.199993</td><td>1.80159</td><td>1.318844</td><td>1.307564</td><td>3.828147</td><td>-3.400366</td></tr></tbody></table></div>"
      ],
      "text/plain": [
       "shape: (135_000_000, 9)\n",
       "┌─────────┬──────────┬─────────────┬───────────┬───┬───────────┬───────────┬───────────┬───────────┐\n",
       "│ problem ┆ instance ┆ y           ┆ scale     ┆ … ┆ x_1       ┆ x_2       ┆ x_3       ┆ x_4       │\n",
       "│ ---     ┆ ---      ┆ ---         ┆ ---       ┆   ┆ ---       ┆ ---       ┆ ---       ┆ ---       │\n",
       "│ i64     ┆ i64      ┆ f64         ┆ f64       ┆   ┆ f64       ┆ f64       ┆ f64       ┆ f64       │\n",
       "╞═════════╪══════════╪═════════════╪═══════════╪═══╪═══════════╪═══════════╪═══════════╪═══════════╡\n",
       "│ 1       ┆ 1        ┆ 6.060719    ┆ 0.041858  ┆ … ┆ -3.104281 ┆ -0.192616 ┆ -0.673033 ┆ 3.131601  │\n",
       "│ 1       ┆ 1        ┆ 6.126361    ┆ 0.041858  ┆ … ┆ -3.067798 ┆ 2.361273  ┆ 0.416028  ┆ 3.076782  │\n",
       "│ 1       ┆ 1        ┆ 3.877255    ┆ 0.041858  ┆ … ┆ -3.502411 ┆ -2.387861 ┆ 1.560439  ┆ -1.006926 │\n",
       "│ 1       ┆ 1        ┆ 6.632123    ┆ 0.041858  ┆ … ┆ 2.547677  ┆ -0.053763 ┆ 2.266459  ┆ 4.891365  │\n",
       "│ 1       ┆ 1        ┆ 4.10911     ┆ 0.041858  ┆ … ┆ -0.757153 ┆ -0.830928 ┆ 0.079946  ┆ -0.28717  │\n",
       "│ …       ┆ …        ┆ …           ┆ …         ┆ … ┆ …         ┆ …         ┆ …         ┆ …         │\n",
       "│ 24      ┆ 15       ┆ 7190.788579 ┆ 29.199993 ┆ … ┆ 1.248377  ┆ -1.640549 ┆ 3.33526   ┆ -1.551975 │\n",
       "│ 24      ┆ 15       ┆ 8519.918924 ┆ 29.199993 ┆ … ┆ 2.981614  ┆ -3.87305  ┆ 3.56724   ┆ -0.802508 │\n",
       "│ 24      ┆ 15       ┆ 8824.975638 ┆ 29.199993 ┆ … ┆ -1.963122 ┆ 2.818195  ┆ -2.607644 ┆ -3.413899 │\n",
       "│ 24      ┆ 15       ┆ 7418.696193 ┆ 29.199993 ┆ … ┆ -0.399579 ┆ -0.371989 ┆ 2.164068  ┆ -3.200616 │\n",
       "│ 24      ┆ 15       ┆ 9413.71993  ┆ 29.199993 ┆ … ┆ 1.318844  ┆ 1.307564  ┆ 3.828147  ┆ -3.400366 │\n",
       "└─────────┴──────────┴─────────────┴───────────┴───┴───────────┴───────────┴───────────┴───────────┘"
      ]
     },
     "execution_count": 4,
     "metadata": {},
     "output_type": "execute_result"
    }
   ],
   "source": [
    "df = pl.read_parquet(f'{save_dir}/*.parquet')\n",
    "df"
   ]
  },
  {
   "cell_type": "code",
   "execution_count": 5,
   "id": "5c64e941-cfb1-4dca-8c92-2d821eb50d1d",
   "metadata": {},
   "outputs": [],
   "source": [
    "ela_save_dir = f'{save_dir}/dummy'\n",
    "create_directory_if_not_exist(ela_save_dir)"
   ]
  },
  {
   "cell_type": "code",
   "execution_count": null,
   "id": "c8b8c4de-060f-4828-abdf-433db84d2ada",
   "metadata": {},
   "outputs": [
    {
     "name": "stderr",
     "output_type": "stream",
     "text": [
      " 47%|████▋     | 50254/108000 [4:53:12<6:01:38,  2.66it/s] "
     ]
    }
   ],
   "source": [
    "for r in tqdm(df.select(['problem', 'instance', 'scale']).unique().sort(['instance']).rows(named=True)):\n",
    "    instance = r['instance']\n",
    "    problem = r['problem']\n",
    "    scale = r['scale']\n",
    "    save_file = f'{ela_save_dir}/p_{problem}__i_{instance}__s_{scale}.parquet'\n",
    "    \n",
    "    #if os.path.exists(save_file):\n",
    "    #    continue\n",
    "        \n",
    "    sdf = df.lazy().filter(pl.col('problem')==problem).filter(pl.col('instance')==instance).filter(pl.col('scale')==scale).collect()\n",
    "    y = sdf['y'].to_numpy()\n",
    "    \n",
    "    features = {}\n",
    "    features['y_max_minus_min'] = np.abs(y.max()-y.min())\n",
    "    # print(y.shape, features)\n",
    "    \n",
    "    features['problem'] = problem\n",
    "    features['instance'] = instance\n",
    "    features['scale'] = scale\n",
    "    \n",
    "    features = pl.DataFrame([features])\n",
    "    features = features.with_columns([\n",
    "        pl.col('*').cast(pl.Float64)\n",
    "    ]).with_columns([\n",
    "        pl.col('problem').cast(pl.Int64),  # Keep 'problem' as Int64\n",
    "        pl.col('instance').cast(pl.Int64)  # Keep 'instance' as Int64\n",
    "    ])\n",
    "    \n",
    "    features.write_parquet(save_file)"
   ]
  },
  {
   "cell_type": "code",
   "execution_count": null,
   "id": "de2069a7-d7de-4977-988d-47d4503724e0",
   "metadata": {},
   "outputs": [],
   "source": []
  },
  {
   "cell_type": "code",
   "execution_count": null,
   "id": "2240006c-f4f9-425e-b68a-b49409bd5fe3",
   "metadata": {},
   "outputs": [],
   "source": []
  },
  {
   "cell_type": "code",
   "execution_count": null,
   "id": "6446c87c-b81b-453b-b611-5e3a5c824179",
   "metadata": {},
   "outputs": [],
   "source": [
    "dfg=dfg"
   ]
  },
  {
   "cell_type": "code",
   "execution_count": null,
   "id": "e8a2e9ed-0c50-4bdb-af59-79e83d415b9e",
   "metadata": {},
   "outputs": [],
   "source": [
    "#suite = list(generate_scaled_problems(problem_dim=problem_dim, seed=seed, n_runs=n_instance_reapets))"
   ]
  },
  {
   "cell_type": "code",
   "execution_count": null,
   "id": "39ecf46c-07f9-412a-b0f9-d161f4d6d80f",
   "metadata": {},
   "outputs": [],
   "source": [
    "#sdfsdf=sdf"
   ]
  },
  {
   "cell_type": "code",
   "execution_count": null,
   "id": "5bb56c1f-bd41-4ee9-b29b-2178c6a0ef55",
   "metadata": {},
   "outputs": [],
   "source": [
    "#runs_dir = f'{save_dir}/runs'\n",
    "#create_directory_if_not_exist(runs_dir)"
   ]
  },
  {
   "cell_type": "code",
   "execution_count": null,
   "id": "c7041314-7d87-4593-b0ed-ea74ce7e6ffd",
   "metadata": {},
   "outputs": [],
   "source": [
    "for problem in tqdm(suite):\n",
    "    file_path = f'{runs_dir}/p_{problem.id_function}__i_{problem.id_instance}__d_{problem_dim}__fe_{n_evals}__scale_{problem.scale}.parquet'\n",
    "    \n",
    "    if os.path.exists(file_path):\n",
    "        continue\n",
    "    \n",
    "    #optimum = problem.final_target_fvalue1*scalar\n",
    "    #print(optimum)\n",
    "    #pw = COCOProblemWrapperScale(problem, scalar)\n",
    "    \n",
    "    opt = problem.evaluate(problem.pareto_set())[0, 0]\n",
    "    pdf = pl.DataFrame(run_algorithms(problem, n_runs=n_runs, n_eval=n_evals)).with_columns([\n",
    "        pl.lit(problem.id_function).alias(\"problem\"),\n",
    "        pl.lit(problem.id_instance).alias(\"instance\"),\n",
    "        pl.lit(problem.scale).alias(\"scale\"),\n",
    "        pl.lit(opt).alias(\"optimum\"),\n",
    "    ])\n",
    "    pdf.write_parquet(file_path)\n",
    "    \n",
    "    #print(pdf)\n",
    "    #print(problem.best_observed_fvalue1*scalar)\n",
    "    #break"
   ]
  },
  {
   "cell_type": "code",
   "execution_count": null,
   "id": "6449c151-39e6-4993-a98d-265c0132a2fa",
   "metadata": {},
   "outputs": [],
   "source": [
    "#with pl.Config(set_fmt_float=\"full\"):\n",
    "#    v = pdf.with_columns([\n",
    "#        (pl.col('GA')-pl.col('optimum')).alias('GA_precision'),\n",
    "#        (pl.col('DE')-pl.col('optimum')).alias('DE_precision'),\n",
    "#        (pl.col('PSO')-pl.col('optimum')).alias('PSO_precision'),\n",
    "#        (pl.col('CMAES')-pl.col('optimum')).alias('CMAES_precision'),\n",
    "#        (pl.col('ES')-pl.col('optimum')).alias('ES_precision')\n",
    "#    ]).select(['GA_precision', 'DE_precision', 'PSO_precision', 'CMAES_precision', 'ES_precision'])\n",
    "#    print(v)"
   ]
  },
  {
   "cell_type": "code",
   "execution_count": null,
   "id": "d4c4898f-c195-4fe8-8d65-c749b6157a6b",
   "metadata": {},
   "outputs": [],
   "source": [
    "problem.final_target_fvalue1()"
   ]
  },
  {
   "cell_type": "code",
   "execution_count": null,
   "id": "d3cb1c45-fd36-487b-aac3-65ce2d9b0700",
   "metadata": {},
   "outputs": [],
   "source": [
    "#dir(problem)"
   ]
  },
  {
   "cell_type": "code",
   "execution_count": null,
   "id": "a51072d9-a5ee-40f6-824e-ae1df0e8db9f",
   "metadata": {},
   "outputs": [],
   "source": [
    "df = pl.read_parquet(f'{runs_dir}/*').sort([\"problem\", \"instance\"])\n",
    "df"
   ]
  },
  {
   "cell_type": "code",
   "execution_count": null,
   "id": "a68e009b-ed8c-4b7c-a65c-8f1a50a293e3",
   "metadata": {},
   "outputs": [],
   "source": [
    "import seaborn as sns\n",
    "import matplotlib.pyplot as plt\n",
    "\n",
    "sns.scatterplot(data=df.filter(pl.col('problem').is_in([2,24])), x='PSO', y='scalar', hue='problem')\n",
    "\n",
    "plt.xscale('log')\n",
    "plt.yscale('log')"
   ]
  },
  {
   "cell_type": "code",
   "execution_count": null,
   "id": "223f5677-6c23-49a7-8617-710bd7bb0957",
   "metadata": {},
   "outputs": [],
   "source": [
    "df_samples = pl.read_parquet(f'{save_dir}/*.parquet').sort([\"problem\", \"instance\"])\n",
    "df_samples"
   ]
  }
 ],
 "metadata": {
  "kernelspec": {
   "display_name": "Base",
   "language": "python",
   "name": "base"
  },
  "language_info": {
   "codemirror_mode": {
    "name": "ipython",
    "version": 3
   },
   "file_extension": ".py",
   "mimetype": "text/x-python",
   "name": "python",
   "nbconvert_exporter": "python",
   "pygments_lexer": "ipython3",
   "version": "3.10.16"
  }
 },
 "nbformat": 4,
 "nbformat_minor": 5
}
