{
 "cells": [
  {
   "cell_type": "code",
   "execution_count": 2,
   "id": "e11d22af-63a6-4ec8-9dd8-03734dbce6b1",
   "metadata": {},
   "outputs": [],
   "source": [
    "from pymoo.problems import get_problem\n",
    "from tqdm import tqdm\n",
    "import pandas as pd\n",
    "from utils import *\n",
    "from pymoo.vendor.vendor_coco import COCOProblem\n",
    "import random\n",
    "import os\n",
    "import seaborn as sns\n",
    "from pymoo.operators.sampling.lhs import LHS\n",
    "import polars as pl\n",
    "import cocoex\n",
    "from pymoo.core.problem import Problem\n",
    "from pymoo.algorithms.soo.nonconvex.de import DE\n",
    "from pymoo.algorithms.soo.nonconvex.pso import PSO\n",
    "from pymoo.optimize import minimize\n",
    "from pymoo.termination import get_termination\n",
    "from pymoo.algorithms.soo.nonconvex.cmaes import CMAES\n",
    "from pymoo.algorithms.soo.nonconvex.ga import GA\n",
    "from pymoo.algorithms.soo.nonconvex.es import ES"
   ]
  },
  {
   "cell_type": "code",
   "execution_count": null,
   "id": "7fbca92f-8cce-4294-a234-834cc3e7647a",
   "metadata": {},
   "outputs": [],
   "source": []
  },
  {
   "cell_type": "code",
   "execution_count": 16,
   "id": "e60fe2c3-eae3-451a-92ef-ed863681cdf1",
   "metadata": {},
   "outputs": [
    {
     "data": {
      "text/plain": [
       "<utils.ScaledCOCOProblem at 0x7fb85fd49690>"
      ]
     },
     "execution_count": 16,
     "metadata": {},
     "output_type": "execute_result"
    }
   ],
   "source": [
    "ScaledCOCOProblem(ptype='f-24-15', n_var=5)"
   ]
  },
  {
   "cell_type": "code",
   "execution_count": null,
   "id": "9a480cde-dadd-4c3b-bcc1-5e4089bef74d",
   "metadata": {},
   "outputs": [],
   "source": []
  },
  {
   "cell_type": "code",
   "execution_count": 2,
   "id": "fb3f2e29-9abf-4b40-b317-e18541aee579",
   "metadata": {},
   "outputs": [],
   "source": [
    "def generate_problems():\n",
    "    suite_year_option = \"instances: 1-999\"\n",
    "    #suite_year_option = \"instances: 1-500\"\n",
    "    suite_filter_options = (\"\"  # without filtering, a suite has instance_indices 1-15\n",
    "                             \"dimensions: 5\"  # skip dimension 40\n",
    "\n",
    "                           )\n",
    "    suite = cocoex.Suite('bbob', suite_year_option, suite_filter_options)\n",
    "    return suite"
   ]
  },
  {
   "cell_type": "code",
   "execution_count": null,
   "id": "ade941df-964c-4d07-be2f-cdb2b46cab52",
   "metadata": {},
   "outputs": [],
   "source": []
  },
  {
   "cell_type": "code",
   "execution_count": 3,
   "id": "38999863-d259-479b-8c63-8a217f74b655",
   "metadata": {},
   "outputs": [],
   "source": [
    "suite = generate_problems()"
   ]
  },
  {
   "cell_type": "code",
   "execution_count": 4,
   "id": "b0e268d7-2bbc-4522-9404-99b8c6549193",
   "metadata": {},
   "outputs": [],
   "source": [
    "#suite[0]"
   ]
  },
  {
   "cell_type": "code",
   "execution_count": 5,
   "id": "1ce79fab-e6fc-45d9-a13a-c9d37c92bb45",
   "metadata": {},
   "outputs": [],
   "source": [
    "import numpy as np\n",
    "from pymoo.core.problem import Problem\n",
    "\n",
    "\n",
    "def algorithm_factory(name, population=20):\n",
    "    switch = {\n",
    "        'GA': GA(pop_size=population, sampling=LHS()),\n",
    "        'PSO': PSO(pop_size=population, sampling=LHS()),\n",
    "        'DE': DE(pop_size=population, sampling=LHS(), CR=0.1),\n",
    "        'CMAES': CMAES(popsize=population),\n",
    "        'ES': ES(pop_size=population),\n",
    "    }\n",
    "    algorithm = switch.get(name)\n",
    "    if algorithm is None:\n",
    "        raise Exception(\"Unsupported algorithm: {}\".format(name))\n",
    "    return algorithm\n",
    "\n",
    "def run_algorithms(problem, n_runs=10, n_eval=2000, algorithms=['GA', 'PSO', 'DE', 'CMAES', 'ES']):\n",
    "    algo_data = {x: [] for x in algorithms}\n",
    "    algo_data['algorithm_run'] = []\n",
    "    for run in range(n_runs):\n",
    "        algo_data['algorithm_run'].append(run)\n",
    "        for algo_name in algorithms:\n",
    "            algorithm = algorithm_factory(algo_name)\n",
    "            termination = get_termination(\"n_eval\", problem.n_var*n_eval)\n",
    "            res = minimize(problem, algorithm, termination=termination, verbose=False, save_history=False)\n",
    "            algo_data[algo_name].append(res.F[0])\n",
    "    return algo_data\n",
    "\n",
    "\n",
    "\n",
    "class COCOProblemWrapper(Problem):\n",
    "    def __init__(self, problem):\n",
    "        self.coco_problem = problem \n",
    "        super().__init__(n_var=self.coco_problem.dimension, n_obj=1, xl=problem.lower_bounds, xu=problem.upper_bounds)\n",
    "\n",
    "    def _evaluate(self, x, out, *args, **kwargs):\n",
    "        l = []\n",
    "        for r in x:\n",
    "            l.append(self.coco_problem(r))\n",
    "        l = np.array(l)\n",
    "        out[\"F\"] = l\n",
    "\n",
    "#pw = COCOProblemWrapper(suite[0])"
   ]
  },
  {
   "cell_type": "code",
   "execution_count": 6,
   "id": "86799e5e-d138-41eb-96a8-d9704af598d5",
   "metadata": {},
   "outputs": [],
   "source": [
    "#pdf = pl.DataFrame(run_algorithms(pw, n_runs=10, n_eval=1000))"
   ]
  },
  {
   "cell_type": "code",
   "execution_count": 7,
   "id": "748aab63-f612-4707-997c-ffb7fe8ac023",
   "metadata": {},
   "outputs": [],
   "source": [
    "#pdf"
   ]
  },
  {
   "cell_type": "code",
   "execution_count": null,
   "id": "5665e421-6978-434d-8c2c-a90dd8cb8c69",
   "metadata": {},
   "outputs": [
    {
     "name": "stderr",
     "output_type": "stream",
     "text": [
      " 15%|█▍        | 3548/23976 [1:04:02<150:09:59, 26.46s/it]"
     ]
    }
   ],
   "source": [
    "for problem in tqdm(suite):\n",
    "    file_path = f'new_runs/p_{problem.id_function}__i_{problem.id_instance}.parquet'\n",
    "\n",
    "    if os.path.exists(file_path):\n",
    "        continue\n",
    "\n",
    "    pw = COCOProblemWrapper(problem)\n",
    "    pdf = pl.DataFrame(run_algorithms(pw, n_runs=10, n_eval=1000)).with_columns([\n",
    "        pl.lit(problem.id_function).alias(\"problem\"),\n",
    "        pl.lit(problem.id_instance).alias(\"instance\")\n",
    "    ])\n",
    "    \n",
    "    pdf.write_parquet(file_path)"
   ]
  },
  {
   "cell_type": "code",
   "execution_count": null,
   "id": "28310784-61d6-4fae-9f8e-2a016472fe12",
   "metadata": {},
   "outputs": [],
   "source": [
    "#pdf"
   ]
  },
  {
   "cell_type": "code",
   "execution_count": null,
   "id": "e1baadac-ea74-4d6f-9e90-01fcb2cfaefa",
   "metadata": {},
   "outputs": [],
   "source": [
    "\n",
    "\n",
    "\n",
    "\n",
    "if os.path.isfile(file):\n",
    "    df = pl.read_parquet(file)\n",
    "else:\n",
    "\n",
    "    from scipy.stats import qmc\n",
    "    from tqdm import tqdm\n",
    "\n",
    "    data = {'problem': [], 'instance': [], 'y':[]}\n",
    "    for problem in tqdm(suite):\n",
    "        sampling = LHS()\n",
    "        sampler = qmc.LatinHypercube(d=problem.dimension)\n",
    "        sample = sampler.random(n=250*problem.dimension)\n",
    "        sample_scaled = qmc.scale(sample, problem.lower_bounds, problem.upper_bounds)\n",
    "        data['problem'].extend(len(sample_scaled)*[problem.id_function])\n",
    "        data['instance'].extend(len(sample_scaled)*[problem.id_instance])\n",
    "        l = []\n",
    "        for r in range(problem.dimension):\n",
    "            if f'x_{r}' not in data:\n",
    "                data[f'x_{r}'] = []\n",
    "            data[f'x_{r}'].extend(sample_scaled[:, r])\n",
    "        for s in sample_scaled:\n",
    "            v = problem(s)\n",
    "            l.append(v)\n",
    "        data['y'].extend(l)\n",
    "    df = pl.DataFrame(data)\n",
    "    df.write_parquet('samples.parquet')"
   ]
  },
  {
   "cell_type": "code",
   "execution_count": null,
   "id": "832d2d9a-0ba6-4e4b-baee-1151c7ccf143",
   "metadata": {},
   "outputs": [],
   "source": [
    "df.filter(pl.col('problem')==1).filter(pl.col('instance')==1)['y'].min()"
   ]
  },
  {
   "cell_type": "code",
   "execution_count": null,
   "id": "c898e188-4912-444c-b5ee-8a736a0f548f",
   "metadata": {},
   "outputs": [],
   "source": [
    "#def basic_features(df):\n",
    "#    # Group by 'problem' and 'instance' to calculate statistics for each group\n",
    "#    grouped_df = df.group_by(['problem', 'instance']).agg([\n",
    "#        (pl.col('y').max() - pl.col('y').min()).alias('y_min_max_diff'),\n",
    "#        pl.col('y').quantile(0.10).alias('y_10_quantile'),\n",
    "#        pl.col('y').quantile(0.25).alias('y_25_quantile'),\n",
    "#        pl.col('y').quantile(0.50).alias('y_50_quantile'),\n",
    "#        pl.col('y').quantile(0.75).alias('y_75_quantile'),\n",
    "#        pl.col('y').quantile(0.90).alias('y_90_quantile')\n",
    "#    ]).sort(by=['problem', 'instance'])\n",
    "#    \n",
    "#    return grouped_df"
   ]
  },
  {
   "cell_type": "code",
   "execution_count": null,
   "id": "bc17f981-a629-47d7-bfeb-24e6a0c9e6f8",
   "metadata": {},
   "outputs": [],
   "source": [
    "import polars as pl\n",
    "\n",
    "def basic_features(df):\n",
    "    # First, normalize the 'y' values within each group (problem, instance)\n",
    "    df = df.with_columns([\n",
    "        (pl.col('y') - pl.col('y').min()).over(['problem', 'instance']).alias('y_min_max_norm')\n",
    "    ]).with_columns([\n",
    "        (pl.col('y_min_max_norm') / pl.col('y_min_max_norm').max()).over(['problem', 'instance']).alias('y_normalized')\n",
    "    ])\n",
    "    \n",
    "    # Calculate mean of y_normalized for later use\n",
    "    df = df.with_columns([\n",
    "        pl.col('y_normalized').mean().over(['problem', 'instance']).alias('y_mean')\n",
    "    ])\n",
    "    \n",
    "    # Apply sin and cos to y_normalized and scaled versions\n",
    "    df = df.with_columns([\n",
    "        pl.col('y_normalized').sin().alias('y_sin'),\n",
    "        pl.col('y_normalized').cos().alias('y_cos'),\n",
    "        (pl.col('y_normalized') * 5).sin().alias('y_sin_5'),\n",
    "        (pl.col('y_normalized') * 5).cos().alias('y_cos_5'),\n",
    "        (pl.col('y_normalized') * 10).sin().alias('y_sin_10'),\n",
    "        (pl.col('y_normalized') * 10).cos().alias('y_cos_10'),\n",
    "        (pl.col('y_normalized') * 50).sin().alias('y_sin_50'),\n",
    "        (pl.col('y_normalized') * 50).cos().alias('y_cos_50')\n",
    "    ]).with_columns([\n",
    "        pl.col('y_sin').mean().over(['problem', 'instance']).alias('y_sin_mean'),\n",
    "        pl.col('y_cos').mean().over(['problem', 'instance']).alias('y_cos_mean'),\n",
    "        pl.col('y_sin_5').mean().over(['problem', 'instance']).alias('y_sin_5_mean'),\n",
    "        pl.col('y_cos_5').mean().over(['problem', 'instance']).alias('y_cos_5_mean'),\n",
    "        pl.col('y_sin_10').mean().over(['problem', 'instance']).alias('y_sin_10_mean'),\n",
    "        pl.col('y_cos_10').mean().over(['problem', 'instance']).alias('y_cos_10_mean'),\n",
    "        pl.col('y_sin_50').mean().over(['problem', 'instance']).alias('y_sin_50_mean'),\n",
    "        pl.col('y_cos_50').mean().over(['problem', 'instance']).alias('y_cos_50_mean')\n",
    "    ])\n",
    "    \n",
    "    # Apply various power transformations\n",
    "    df = df.with_columns([\n",
    "        (pl.col('y_normalized') ** 0.5).alias('y_power_1_2'),\n",
    "        (pl.col('y_normalized') ** (1/3)).alias('y_power_1_3'),\n",
    "        (pl.col('y_normalized') ** (1/4)).alias('y_power_1_4'),\n",
    "        (pl.col('y_normalized') ** (1/5)).alias('y_power_1_5'),\n",
    "        (pl.col('y_normalized') ** 2).alias('y_power_2'),\n",
    "        (pl.col('y_normalized') ** 3).alias('y_power_3'),\n",
    "        (pl.col('y_normalized') ** 4).alias('y_power_4'),\n",
    "        (pl.col('y_normalized') ** 5).alias('y_power_5')\n",
    "    ])\n",
    "    \n",
    "    # Group by 'problem' and 'instance' and compute features\n",
    "    grouped_df = df.group_by(['problem', 'instance']).agg([\n",
    "        (pl.col('y_normalized').max() - pl.col('y_normalized').min()).alias('y_min_max_diff'),\n",
    "        pl.col('y_normalized').quantile(0.10).alias('y_10_quantile'),\n",
    "        pl.col('y_normalized').quantile(0.25).alias('y_25_quantile'),\n",
    "        pl.col('y_normalized').quantile(0.50).alias('y_50_quantile'),\n",
    "        pl.col('y_normalized').quantile(0.75).alias('y_75_quantile'),\n",
    "        pl.col('y_normalized').quantile(0.90).alias('y_90_quantile'),\n",
    "        \n",
    "        # Count values greater than the mean\n",
    "        (pl.col('y_normalized') > pl.col('y_mean')).mean().alias('y_larger_than_mean'),\n",
    "        \n",
    "        # Sum of squared values\n",
    "        (pl.col('y_normalized') ** 2).sum().alias('mean_of_squares'),\n",
    "        \n",
    "        # Mean values of sin, cos, and the power-transformed features\n",
    "        pl.col('y_sin_mean').mean().alias('mean_y_sin'),\n",
    "        pl.col('y_cos_mean').mean().alias('mean_y_cos'),\n",
    "        pl.col('y_sin_5_mean').mean().alias('mean_y_sin_5'),\n",
    "        pl.col('y_cos_5_mean').mean().alias('mean_y_cos_5'),\n",
    "        pl.col('y_sin_10_mean').mean().alias('mean_y_sin_10'),\n",
    "        pl.col('y_cos_10_mean').mean().alias('mean_y_cos_10'),\n",
    "        pl.col('y_sin_50_mean').mean().alias('mean_y_sin_50'),\n",
    "        pl.col('y_cos_50_mean').mean().alias('mean_y_cos_50'),\n",
    "        pl.col('y_power_1_2').mean().alias('mean_y_power_1_2'),\n",
    "        pl.col('y_power_1_3').mean().alias('mean_y_power_1_3'),\n",
    "        pl.col('y_power_1_4').mean().alias('mean_y_power_1_4'),\n",
    "        pl.col('y_power_1_5').mean().alias('mean_y_power_1_5'),\n",
    "        pl.col('y_power_2').mean().alias('mean_y_power_2'),\n",
    "        pl.col('y_power_3').mean().alias('mean_y_power_3'),\n",
    "        pl.col('y_power_4').mean().alias('mean_y_power_4'),\n",
    "        pl.col('y_power_5').mean().alias('mean_y_power_5')\n",
    "    ])\n",
    "    \n",
    "    return grouped_df\n"
   ]
  },
  {
   "cell_type": "code",
   "execution_count": null,
   "id": "52ee76ab-4336-48ac-80de-6efb62f1736e",
   "metadata": {},
   "outputs": [],
   "source": [
    "fdf = df.pipe(basic_features)\n",
    "fdf"
   ]
  },
  {
   "cell_type": "code",
   "execution_count": 32,
   "id": "e37ba8ad-89fb-4ce0-a140-d058df323764",
   "metadata": {},
   "outputs": [
    {
     "data": {
      "text/plain": [
       "0.7860030855966228"
      ]
     },
     "execution_count": 32,
     "metadata": {},
     "output_type": "execute_result"
    }
   ],
   "source": [
    ".3**(1/5)"
   ]
  },
  {
   "cell_type": "code",
   "execution_count": null,
   "id": "c60c5841-df1c-482b-a745-76791a794bbd",
   "metadata": {},
   "outputs": [],
   "source": [
    "import seaborn as sns"
   ]
  },
  {
   "cell_type": "code",
   "execution_count": null,
   "id": "94ce5923-d3ce-4f1a-9c6b-a06e50b9980d",
   "metadata": {},
   "outputs": [],
   "source": [
    "sns.boxenplot(data=fdf, x=\"problem\", y=\"y_min_max_diff\")\n",
    "plt.yscale('log')"
   ]
  },
  {
   "cell_type": "code",
   "execution_count": null,
   "id": "be283088-54b8-4967-a420-9b74c1fe2b1f",
   "metadata": {},
   "outputs": [],
   "source": [
    "selected_columns = [x for x in list(fdf.columns) if x.startswith('mean')]\n",
    "selected_columns"
   ]
  },
  {
   "cell_type": "code",
   "execution_count": null,
   "id": "536bb003-23f5-4788-8c86-77bb93105544",
   "metadata": {},
   "outputs": [],
   "source": [
    "from sklearn.model_selection import train_test_split\n",
    "from sklearn.ensemble import RandomForestClassifier\n",
    "from sklearn.metrics import classification_report\n",
    "\n",
    "train_df, test_df = train_test_split(fdf.to_pandas(), test_size=0.3, random_state=42)\n",
    "\n",
    "# Step 2: Separate features and target\n",
    "X_train = train_df[selected_columns]\n",
    "y_train = train_df['problem']\n",
    "X_test = test_df[selected_columns]\n",
    "y_test = test_df['problem']\n",
    "\n",
    "# Step 3: Train a RandomForest classifier\n",
    "clf = RandomForestClassifier(random_state=42)\n",
    "clf.fit(X_train, y_train)\n",
    "\n",
    "# Step 4: Predict on the test set\n",
    "y_pred = clf.predict(X_test)\n",
    "\n",
    "# Step 5: Evaluate the model\n",
    "print(classification_report(y_test, y_pred))"
   ]
  },
  {
   "cell_type": "code",
   "execution_count": null,
   "id": "1d9ffc78-0940-4fed-9a31-abefcd55db63",
   "metadata": {},
   "outputs": [],
   "source": []
  },
  {
   "cell_type": "code",
   "execution_count": null,
   "id": "1cf37f7a-eb1f-4d3a-8fb6-449af18ecf00",
   "metadata": {},
   "outputs": [],
   "source": []
  },
  {
   "cell_type": "code",
   "execution_count": null,
   "id": "36ebeb3b-5f23-40f7-a94b-528326ec5b6b",
   "metadata": {},
   "outputs": [],
   "source": []
  },
  {
   "cell_type": "code",
   "execution_count": null,
   "id": "2821fce1-431f-42fb-93b0-eb7d80a89c4d",
   "metadata": {},
   "outputs": [],
   "source": [
    "fdf = fdf.sort(['problem','instance'])\n",
    "fdf"
   ]
  },
  {
   "cell_type": "code",
   "execution_count": null,
   "id": "dd98e95c-225a-4ea2-a476-ca5f36c1a6c8",
   "metadata": {},
   "outputs": [],
   "source": [
    "optimization_columns = [\"GA\", \"PSO\", \"DE\", \"CMAES\", \"ES\"]\n",
    "pdf = pl.read_parquet('new_runs/*').sort(['problem','instance'])\n",
    "pdf = pdf.with_columns([\n",
    "    pl.col(\"problem\").cast(pl.Int64),\n",
    "    pl.col(\"instance\").cast(pl.Int64)\n",
    "])\n",
    "pdf"
   ]
  },
  {
   "cell_type": "code",
   "execution_count": null,
   "id": "dc3f329c-4964-4f25-8440-6e834d721908",
   "metadata": {},
   "outputs": [],
   "source": [
    "def get_ranks(pdf):\n",
    "    n = pdf.select(optimization_columns).to_pandas().rank(axis=1)\n",
    "    n['algorithm_run'] = pdf['algorithm_run']\n",
    "    n['problem'] = pdf['problem']\n",
    "    n['instance'] = pdf['instance']\n",
    "    return pl.DataFrame(n)#.sort(['problem','instance'])\n",
    "\n",
    "def get_per_instance_ranks(pdf):\n",
    "    rdf = get_ranks(pdf)\n",
    "    return rdf.group_by(['problem', 'instance']).mean().sort(['problem','instance'])\n",
    "\n",
    "rdf = get_per_instance_ranks(pdf)\n",
    "rdf"
   ]
  },
  {
   "cell_type": "code",
   "execution_count": null,
   "id": "a433f3a5-15bb-4c64-92eb-4c46855853c3",
   "metadata": {},
   "outputs": [],
   "source": [
    "joined = rdf.join(fdf, on=[\"problem\", \"instance\"], how=\"inner\")\n",
    "joined"
   ]
  },
  {
   "cell_type": "code",
   "execution_count": null,
   "id": "d70aa58a-d087-4842-b5b6-3ca16730bbd9",
   "metadata": {},
   "outputs": [],
   "source": [
    "train_df, test_df = joined.filter(pl.col('instance')!=1), joined.filter(pl.col('instance')==1)\n",
    "\n",
    "X_train = train_df[selected_columns]\n",
    "y_train = train_df[optimization_columns]\n",
    "X_test = test_df[selected_columns]\n",
    "y_test = test_df[optimization_columns]"
   ]
  },
  {
   "cell_type": "code",
   "execution_count": null,
   "id": "46d93011-e17e-40df-bfcf-5f674b2cc9f8",
   "metadata": {},
   "outputs": [],
   "source": [
    "from sklearn.ensemble import RandomForestRegressor\n",
    "from sklearn.metrics import mean_squared_error\n",
    "model = RandomForestRegressor(n_jobs=-1)\n",
    "model.fit(X_train, y_train)"
   ]
  },
  {
   "cell_type": "code",
   "execution_count": null,
   "id": "cac237cb-35b8-4bb1-9ea6-37a760da544c",
   "metadata": {},
   "outputs": [],
   "source": [
    "mean_squared_error(y_test.to_numpy(), model.predict(X_test))"
   ]
  },
  {
   "cell_type": "code",
   "execution_count": null,
   "id": "0647aa94-25d2-4cbb-9a30-5b4b5901a0d1",
   "metadata": {},
   "outputs": [],
   "source": [
    "from sklearn.dummy import DummyRegressor\n",
    "model = DummyRegressor()\n",
    "model.fit(X_train, y_train)"
   ]
  },
  {
   "cell_type": "code",
   "execution_count": null,
   "id": "adbdc000-6357-4add-81f0-a91ff934afac",
   "metadata": {},
   "outputs": [],
   "source": [
    "mean_squared_error(y_test.to_numpy(), model.predict(X_test))"
   ]
  },
  {
   "cell_type": "code",
   "execution_count": null,
   "id": "7b3da0ac-dda8-4a44-bec5-e25282f89ea2",
   "metadata": {},
   "outputs": [],
   "source": [
    "#y_train"
   ]
  }
 ],
 "metadata": {
  "kernelspec": {
   "display_name": "Base",
   "language": "python",
   "name": "base"
  },
  "language_info": {
   "codemirror_mode": {
    "name": "ipython",
    "version": 3
   },
   "file_extension": ".py",
   "mimetype": "text/x-python",
   "name": "python",
   "nbconvert_exporter": "python",
   "pygments_lexer": "ipython3",
   "version": "3.10.16"
  }
 },
 "nbformat": 4,
 "nbformat_minor": 5
}
