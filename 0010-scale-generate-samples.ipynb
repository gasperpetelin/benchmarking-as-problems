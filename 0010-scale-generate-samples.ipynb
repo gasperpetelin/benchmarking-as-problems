{
 "cells": [
  {
   "cell_type": "code",
   "execution_count": 1,
   "id": "9849822a-6423-4dc7-a7b8-3d3c68005a52",
   "metadata": {},
   "outputs": [],
   "source": [
    "from utils import *\n",
    "import os.path\n",
    "from scipy.stats import qmc\n",
    "from tqdm import tqdm\n",
    "from pymoo.operators.sampling.lhs import LHS\n",
    "import polars as pl"
   ]
  },
  {
   "cell_type": "code",
   "execution_count": 2,
   "id": "63a4f09f-4a60-4dcd-b0eb-834a24852c16",
   "metadata": {},
   "outputs": [],
   "source": [
    "save_dir = 'scale_problem'\n",
    "create_directory_if_not_exist(save_dir)"
   ]
  },
  {
   "cell_type": "code",
   "execution_count": 3,
   "id": "6baffd8b-9316-4e4f-914a-9840339d2fe1",
   "metadata": {},
   "outputs": [],
   "source": [
    "sample_size = 250 #times dimention\n",
    "problem_dim = 5\n",
    "seed=42\n",
    "n_instance_reapets = 300"
   ]
  },
  {
   "cell_type": "code",
   "execution_count": 4,
   "id": "e8a2e9ed-0c50-4bdb-af59-79e83d415b9e",
   "metadata": {},
   "outputs": [],
   "source": [
    "suite = list(generate_scaled_problems(problem_dim=problem_dim, seed=seed, n_runs=n_instance_reapets))"
   ]
  },
  {
   "cell_type": "code",
   "execution_count": 5,
   "id": "074e4743-9a0d-4023-8f0b-1e0ff9ec3285",
   "metadata": {},
   "outputs": [],
   "source": [
    "file = f'{save_dir}/samples__dim_{problem_dim}__samplesize_{sample_size}.parquet'"
   ]
  },
  {
   "cell_type": "code",
   "execution_count": 6,
   "id": "8bd76f6e-f49a-4d17-acb7-b582a3d53362",
   "metadata": {},
   "outputs": [
    {
     "name": "stderr",
     "output_type": "stream",
     "text": [
      "100%|██████████| 108000/108000 [07:34<00:00, 237.77it/s]\n"
     ]
    }
   ],
   "source": [
    "if os.path.isfile(file)==False:\n",
    "    data = {'problem': [], 'instance': [], 'y':[], 'scale':[]}\n",
    "    \n",
    "    for problem in tqdm(suite):\n",
    "        sampling = LHS()\n",
    "        sampler = qmc.LatinHypercube(d=problem.n_var)\n",
    "        sample = sampler.random(n=sample_size*problem.n_var)\n",
    "        sample_scaled = qmc.scale(sample, problem.xl, problem.xu)\n",
    "        data['problem'].extend(len(sample_scaled)*[problem.id_function])\n",
    "        data['instance'].extend(len(sample_scaled)*[problem.id_instance])\n",
    "        for r in range(problem.n_var):\n",
    "            if f'x_{r}' not in data:\n",
    "                data[f'x_{r}'] = []\n",
    "            data[f'x_{r}'].extend(sample_scaled[:, r])\n",
    "        ys = problem.evaluate(sample_scaled).flatten()\n",
    "        data['y'].extend(ys)\n",
    "        data['scale'].extend(len(ys)*[problem.scale])\n",
    "    df = pl.DataFrame(data)\n",
    "    df.write_parquet(file)\n",
    "else:\n",
    "    df = pl.read_parquet(file)"
   ]
  },
  {
   "cell_type": "code",
   "execution_count": 7,
   "id": "2322dadc-4597-455a-92a6-e53fc8ac555a",
   "metadata": {},
   "outputs": [
    {
     "data": {
      "text/html": [
       "<div><style>\n",
       ".dataframe > thead > tr,\n",
       ".dataframe > tbody > tr {\n",
       "  text-align: right;\n",
       "  white-space: pre-wrap;\n",
       "}\n",
       "</style>\n",
       "<small>shape: (135_000_000, 9)</small><table border=\"1\" class=\"dataframe\"><thead><tr><th>problem</th><th>instance</th><th>y</th><th>scale</th><th>x_0</th><th>x_1</th><th>x_2</th><th>x_3</th><th>x_4</th></tr><tr><td>i64</td><td>i64</td><td>f64</td><td>f64</td><td>f64</td><td>f64</td><td>f64</td><td>f64</td><td>f64</td></tr></thead><tbody><tr><td>1</td><td>1</td><td>6.060719</td><td>0.041858</td><td>-4.296427</td><td>-3.104281</td><td>-0.192616</td><td>-0.673033</td><td>3.131601</td></tr><tr><td>1</td><td>1</td><td>6.126361</td><td>0.041858</td><td>4.528078</td><td>-3.067798</td><td>2.361273</td><td>0.416028</td><td>3.076782</td></tr><tr><td>1</td><td>1</td><td>3.877255</td><td>0.041858</td><td>-1.140813</td><td>-3.502411</td><td>-2.387861</td><td>1.560439</td><td>-1.006926</td></tr><tr><td>1</td><td>1</td><td>6.632123</td><td>0.041858</td><td>2.961459</td><td>2.547677</td><td>-0.053763</td><td>2.266459</td><td>4.891365</td></tr><tr><td>1</td><td>1</td><td>4.10911</td><td>0.041858</td><td>-2.809439</td><td>-0.757153</td><td>-0.830928</td><td>0.079946</td><td>-0.28717</td></tr><tr><td>&hellip;</td><td>&hellip;</td><td>&hellip;</td><td>&hellip;</td><td>&hellip;</td><td>&hellip;</td><td>&hellip;</td><td>&hellip;</td><td>&hellip;</td></tr><tr><td>24</td><td>15</td><td>7190.788579</td><td>29.199993</td><td>4.132589</td><td>1.248377</td><td>-1.640549</td><td>3.33526</td><td>-1.551975</td></tr><tr><td>24</td><td>15</td><td>8519.918924</td><td>29.199993</td><td>4.488035</td><td>2.981614</td><td>-3.87305</td><td>3.56724</td><td>-0.802508</td></tr><tr><td>24</td><td>15</td><td>8824.975638</td><td>29.199993</td><td>-3.955833</td><td>-1.963122</td><td>2.818195</td><td>-2.607644</td><td>-3.413899</td></tr><tr><td>24</td><td>15</td><td>7418.696193</td><td>29.199993</td><td>1.954649</td><td>-0.399579</td><td>-0.371989</td><td>2.164068</td><td>-3.200616</td></tr><tr><td>24</td><td>15</td><td>9413.71993</td><td>29.199993</td><td>1.80159</td><td>1.318844</td><td>1.307564</td><td>3.828147</td><td>-3.400366</td></tr></tbody></table></div>"
      ],
      "text/plain": [
       "shape: (135_000_000, 9)\n",
       "┌─────────┬──────────┬─────────────┬───────────┬───┬───────────┬───────────┬───────────┬───────────┐\n",
       "│ problem ┆ instance ┆ y           ┆ scale     ┆ … ┆ x_1       ┆ x_2       ┆ x_3       ┆ x_4       │\n",
       "│ ---     ┆ ---      ┆ ---         ┆ ---       ┆   ┆ ---       ┆ ---       ┆ ---       ┆ ---       │\n",
       "│ i64     ┆ i64      ┆ f64         ┆ f64       ┆   ┆ f64       ┆ f64       ┆ f64       ┆ f64       │\n",
       "╞═════════╪══════════╪═════════════╪═══════════╪═══╪═══════════╪═══════════╪═══════════╪═══════════╡\n",
       "│ 1       ┆ 1        ┆ 6.060719    ┆ 0.041858  ┆ … ┆ -3.104281 ┆ -0.192616 ┆ -0.673033 ┆ 3.131601  │\n",
       "│ 1       ┆ 1        ┆ 6.126361    ┆ 0.041858  ┆ … ┆ -3.067798 ┆ 2.361273  ┆ 0.416028  ┆ 3.076782  │\n",
       "│ 1       ┆ 1        ┆ 3.877255    ┆ 0.041858  ┆ … ┆ -3.502411 ┆ -2.387861 ┆ 1.560439  ┆ -1.006926 │\n",
       "│ 1       ┆ 1        ┆ 6.632123    ┆ 0.041858  ┆ … ┆ 2.547677  ┆ -0.053763 ┆ 2.266459  ┆ 4.891365  │\n",
       "│ 1       ┆ 1        ┆ 4.10911     ┆ 0.041858  ┆ … ┆ -0.757153 ┆ -0.830928 ┆ 0.079946  ┆ -0.28717  │\n",
       "│ …       ┆ …        ┆ …           ┆ …         ┆ … ┆ …         ┆ …         ┆ …         ┆ …         │\n",
       "│ 24      ┆ 15       ┆ 7190.788579 ┆ 29.199993 ┆ … ┆ 1.248377  ┆ -1.640549 ┆ 3.33526   ┆ -1.551975 │\n",
       "│ 24      ┆ 15       ┆ 8519.918924 ┆ 29.199993 ┆ … ┆ 2.981614  ┆ -3.87305  ┆ 3.56724   ┆ -0.802508 │\n",
       "│ 24      ┆ 15       ┆ 8824.975638 ┆ 29.199993 ┆ … ┆ -1.963122 ┆ 2.818195  ┆ -2.607644 ┆ -3.413899 │\n",
       "│ 24      ┆ 15       ┆ 7418.696193 ┆ 29.199993 ┆ … ┆ -0.399579 ┆ -0.371989 ┆ 2.164068  ┆ -3.200616 │\n",
       "│ 24      ┆ 15       ┆ 9413.71993  ┆ 29.199993 ┆ … ┆ 1.318844  ┆ 1.307564  ┆ 3.828147  ┆ -3.400366 │\n",
       "└─────────┴──────────┴─────────────┴───────────┴───┴───────────┴───────────┴───────────┴───────────┘"
      ]
     },
     "execution_count": 7,
     "metadata": {},
     "output_type": "execute_result"
    }
   ],
   "source": [
    "df"
   ]
  },
  {
   "cell_type": "code",
   "execution_count": null,
   "id": "f8e11981-c7c3-4a19-b199-fc2ca942c5b2",
   "metadata": {},
   "outputs": [],
   "source": []
  }
 ],
 "metadata": {
  "kernelspec": {
   "display_name": "Base",
   "language": "python",
   "name": "base"
  },
  "language_info": {
   "codemirror_mode": {
    "name": "ipython",
    "version": 3
   },
   "file_extension": ".py",
   "mimetype": "text/x-python",
   "name": "python",
   "nbconvert_exporter": "python",
   "pygments_lexer": "ipython3",
   "version": "3.10.16"
  }
 },
 "nbformat": 4,
 "nbformat_minor": 5
}
