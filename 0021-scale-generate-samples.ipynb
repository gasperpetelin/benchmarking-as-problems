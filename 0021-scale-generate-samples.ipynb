{
 "cells": [
  {
   "cell_type": "code",
   "execution_count": 1,
   "id": "9849822a-6423-4dc7-a7b8-3d3c68005a52",
   "metadata": {},
   "outputs": [],
   "source": [
    "from utils import *\n",
    "import os.path\n",
    "from scipy.stats import qmc\n",
    "from tqdm import tqdm\n",
    "from pymoo.operators.sampling.lhs import LHS\n",
    "import polars as pl"
   ]
  },
  {
   "cell_type": "code",
   "execution_count": 2,
   "id": "63a4f09f-4a60-4dcd-b0eb-834a24852c16",
   "metadata": {},
   "outputs": [],
   "source": [
    "save_dir = 'scale_2_problem'\n",
    "create_directory_if_not_exist(save_dir)"
   ]
  },
  {
   "cell_type": "code",
   "execution_count": 3,
   "id": "6baffd8b-9316-4e4f-914a-9840339d2fe1",
   "metadata": {},
   "outputs": [],
   "source": [
    "sample_size = 250 #times dimention\n",
    "problem_dim = 5"
   ]
  },
  {
   "cell_type": "code",
   "execution_count": null,
   "id": "334dcbbc-9c34-4340-9bbe-72a971071dac",
   "metadata": {},
   "outputs": [],
   "source": []
  },
  {
   "cell_type": "code",
   "execution_count": 4,
   "id": "3179acd1-621f-40e5-9559-19f1a1e8c39f",
   "metadata": {},
   "outputs": [],
   "source": [
    "suite = list(generate_problems(problem_dim))"
   ]
  },
  {
   "cell_type": "code",
   "execution_count": 5,
   "id": "074e4743-9a0d-4023-8f0b-1e0ff9ec3285",
   "metadata": {},
   "outputs": [],
   "source": [
    "file = f'{save_dir}/samples__dim_{problem_dim}__samplesize_{sample_size}.parquet'"
   ]
  },
  {
   "cell_type": "code",
   "execution_count": 6,
   "id": "8bd76f6e-f49a-4d17-acb7-b582a3d53362",
   "metadata": {},
   "outputs": [
    {
     "name": "stderr",
     "output_type": "stream",
     "text": [
      "100%|██████████| 360/360 [00:02<00:00, 133.44it/s]\n"
     ]
    }
   ],
   "source": [
    "if os.path.isfile(file)==False:\n",
    "    data = {'problem': [], 'instance': [], 'y':[], 'optimum':[]}\n",
    "    \n",
    "    for problem in tqdm(suite):\n",
    "        sampling = LHS()\n",
    "        sampler = qmc.LatinHypercube(d=problem.n_var)\n",
    "        sample = sampler.random(n=sample_size*problem.n_var)\n",
    "        sample_scaled = qmc.scale(sample, problem.xl, problem.xu)\n",
    "        data['problem'].extend(len(sample_scaled)*[problem.id_function])\n",
    "        data['instance'].extend(len(sample_scaled)*[problem.id_instance])\n",
    "\n",
    "        for r in range(problem.n_var):\n",
    "            if f'x_{r}' not in data:\n",
    "                data[f'x_{r}'] = []\n",
    "            data[f'x_{r}'].extend(sample_scaled[:, r])\n",
    "\n",
    "        data['y'].extend(problem.evaluate(sample_scaled).flatten())\n",
    "        \n",
    "        opt = problem.evaluate(problem.pareto_set())[0, 0]\n",
    "        data['optimum'].extend(len(sample_scaled)*[opt])\n",
    "        \n",
    "        \n",
    "        \n",
    "        \n",
    "    df = pl.DataFrame(data)\n",
    "    df.write_parquet(file)\n",
    "else:\n",
    "    df = pl.read_parquet(file)"
   ]
  },
  {
   "cell_type": "code",
   "execution_count": 7,
   "id": "750769cc-15d6-43f2-ae85-9cdcc00119c7",
   "metadata": {},
   "outputs": [
    {
     "data": {
      "text/html": [
       "<div><style>\n",
       ".dataframe > thead > tr,\n",
       ".dataframe > tbody > tr {\n",
       "  text-align: right;\n",
       "  white-space: pre-wrap;\n",
       "}\n",
       "</style>\n",
       "<small>shape: (450_000, 9)</small><table border=\"1\" class=\"dataframe\"><thead><tr><th>problem</th><th>instance</th><th>y</th><th>optimum</th><th>x_0</th><th>x_1</th><th>x_2</th><th>x_3</th><th>x_4</th></tr><tr><td>i64</td><td>i64</td><td>f64</td><td>f64</td><td>f64</td><td>f64</td><td>f64</td><td>f64</td><td>f64</td></tr></thead><tbody><tr><td>1</td><td>1</td><td>124.841716</td><td>79.48</td><td>-1.228183</td><td>4.571686</td><td>0.715115</td><td>4.304565</td><td>-4.301335</td></tr><tr><td>1</td><td>1</td><td>95.411072</td><td>79.48</td><td>-1.958272</td><td>1.043912</td><td>-2.906042</td><td>2.421185</td><td>-1.588564</td></tr><tr><td>1</td><td>1</td><td>142.313325</td><td>79.48</td><td>3.926394</td><td>2.681122</td><td>-0.636988</td><td>2.380795</td><td>3.183869</td></tr><tr><td>1</td><td>1</td><td>165.046834</td><td>79.48</td><td>-4.229127</td><td>2.787666</td><td>-4.49542</td><td>-0.453723</td><td>2.799324</td></tr><tr><td>1</td><td>1</td><td>145.549628</td><td>79.48</td><td>-3.550885</td><td>-4.083994</td><td>-2.119983</td><td>2.793942</td><td>3.669928</td></tr><tr><td>&hellip;</td><td>&hellip;</td><td>&hellip;</td><td>&hellip;</td><td>&hellip;</td><td>&hellip;</td><td>&hellip;</td><td>&hellip;</td><td>&hellip;</td></tr><tr><td>24</td><td>15</td><td>246.884869</td><td>149.81</td><td>1.347734</td><td>-2.153294</td><td>-1.176135</td><td>2.364704</td><td>-0.516795</td></tr><tr><td>24</td><td>15</td><td>372.082841</td><td>149.81</td><td>4.87877</td><td>1.051937</td><td>-1.893373</td><td>-4.335428</td><td>-4.617713</td></tr><tr><td>24</td><td>15</td><td>394.905955</td><td>149.81</td><td>-3.724222</td><td>-3.088483</td><td>4.794444</td><td>-3.299469</td><td>3.018012</td></tr><tr><td>24</td><td>15</td><td>290.740433</td><td>149.81</td><td>-3.341757</td><td>1.289167</td><td>3.695597</td><td>-1.210673</td><td>1.931059</td></tr><tr><td>24</td><td>15</td><td>312.846295</td><td>149.81</td><td>3.050991</td><td>-1.985001</td><td>-4.572971</td><td>-3.388513</td><td>-2.554724</td></tr></tbody></table></div>"
      ],
      "text/plain": [
       "shape: (450_000, 9)\n",
       "┌─────────┬──────────┬────────────┬─────────┬───┬───────────┬───────────┬───────────┬───────────┐\n",
       "│ problem ┆ instance ┆ y          ┆ optimum ┆ … ┆ x_1       ┆ x_2       ┆ x_3       ┆ x_4       │\n",
       "│ ---     ┆ ---      ┆ ---        ┆ ---     ┆   ┆ ---       ┆ ---       ┆ ---       ┆ ---       │\n",
       "│ i64     ┆ i64      ┆ f64        ┆ f64     ┆   ┆ f64       ┆ f64       ┆ f64       ┆ f64       │\n",
       "╞═════════╪══════════╪════════════╪═════════╪═══╪═══════════╪═══════════╪═══════════╪═══════════╡\n",
       "│ 1       ┆ 1        ┆ 124.841716 ┆ 79.48   ┆ … ┆ 4.571686  ┆ 0.715115  ┆ 4.304565  ┆ -4.301335 │\n",
       "│ 1       ┆ 1        ┆ 95.411072  ┆ 79.48   ┆ … ┆ 1.043912  ┆ -2.906042 ┆ 2.421185  ┆ -1.588564 │\n",
       "│ 1       ┆ 1        ┆ 142.313325 ┆ 79.48   ┆ … ┆ 2.681122  ┆ -0.636988 ┆ 2.380795  ┆ 3.183869  │\n",
       "│ 1       ┆ 1        ┆ 165.046834 ┆ 79.48   ┆ … ┆ 2.787666  ┆ -4.49542  ┆ -0.453723 ┆ 2.799324  │\n",
       "│ 1       ┆ 1        ┆ 145.549628 ┆ 79.48   ┆ … ┆ -4.083994 ┆ -2.119983 ┆ 2.793942  ┆ 3.669928  │\n",
       "│ …       ┆ …        ┆ …          ┆ …       ┆ … ┆ …         ┆ …         ┆ …         ┆ …         │\n",
       "│ 24      ┆ 15       ┆ 246.884869 ┆ 149.81  ┆ … ┆ -2.153294 ┆ -1.176135 ┆ 2.364704  ┆ -0.516795 │\n",
       "│ 24      ┆ 15       ┆ 372.082841 ┆ 149.81  ┆ … ┆ 1.051937  ┆ -1.893373 ┆ -4.335428 ┆ -4.617713 │\n",
       "│ 24      ┆ 15       ┆ 394.905955 ┆ 149.81  ┆ … ┆ -3.088483 ┆ 4.794444  ┆ -3.299469 ┆ 3.018012  │\n",
       "│ 24      ┆ 15       ┆ 290.740433 ┆ 149.81  ┆ … ┆ 1.289167  ┆ 3.695597  ┆ -1.210673 ┆ 1.931059  │\n",
       "│ 24      ┆ 15       ┆ 312.846295 ┆ 149.81  ┆ … ┆ -1.985001 ┆ -4.572971 ┆ -3.388513 ┆ -2.554724 │\n",
       "└─────────┴──────────┴────────────┴─────────┴───┴───────────┴───────────┴───────────┴───────────┘"
      ]
     },
     "execution_count": 7,
     "metadata": {},
     "output_type": "execute_result"
    }
   ],
   "source": [
    "df"
   ]
  }
 ],
 "metadata": {
  "kernelspec": {
   "display_name": "Base",
   "language": "python",
   "name": "base"
  },
  "language_info": {
   "codemirror_mode": {
    "name": "ipython",
    "version": 3
   },
   "file_extension": ".py",
   "mimetype": "text/x-python",
   "name": "python",
   "nbconvert_exporter": "python",
   "pygments_lexer": "ipython3",
   "version": "3.10.16"
  }
 },
 "nbformat": 4,
 "nbformat_minor": 5
}
