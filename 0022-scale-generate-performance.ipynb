{
 "cells": [
  {
   "cell_type": "code",
   "execution_count": 1,
   "id": "52759dc3-c399-4e4f-a352-dc553aca4071",
   "metadata": {},
   "outputs": [],
   "source": [
    "from utils import *\n",
    "from tqdm import tqdm\n",
    "from pymoo.vendor.vendor_coco import COCOProblem\n",
    "from pymoo.problems import get_problem\n",
    "import polars as pl"
   ]
  },
  {
   "cell_type": "code",
   "execution_count": null,
   "id": "3d644c71-4494-45c0-b425-af3afcc33f53",
   "metadata": {},
   "outputs": [],
   "source": []
  },
  {
   "cell_type": "code",
   "execution_count": 2,
   "id": "2f0bcb97-c4cc-440b-9f51-e1206008ae23",
   "metadata": {},
   "outputs": [],
   "source": [
    "save_dir = 'scale_2_problem'\n",
    "create_directory_if_not_exist(save_dir)"
   ]
  },
  {
   "cell_type": "code",
   "execution_count": 3,
   "id": "f5badc0f-f4a5-4b33-b4d5-2a681c0e14eb",
   "metadata": {},
   "outputs": [],
   "source": [
    "problem_dim = 5\n",
    "n_runs = 100\n",
    "n_evals = 1000"
   ]
  },
  {
   "cell_type": "code",
   "execution_count": 4,
   "id": "0e57a346-f689-4d1d-92ec-90149ce6759b",
   "metadata": {},
   "outputs": [],
   "source": [
    "#suite = generate_problems(problem_dim, 300)"
   ]
  },
  {
   "cell_type": "code",
   "execution_count": 5,
   "id": "53be82ae-0e3a-4fa1-814e-4cd8b459a5b7",
   "metadata": {},
   "outputs": [],
   "source": [
    "#suite"
   ]
  },
  {
   "cell_type": "code",
   "execution_count": 6,
   "id": "d8df49be-9ad9-4685-a6c4-ab19ddfeecee",
   "metadata": {},
   "outputs": [],
   "source": [
    "runs_dir = f'{save_dir}/runs'\n",
    "create_directory_if_not_exist(runs_dir)"
   ]
  },
  {
   "cell_type": "code",
   "execution_count": 7,
   "id": "a410e482-bbc8-4923-b5a4-f8fedb4e6944",
   "metadata": {},
   "outputs": [
    {
     "name": "stderr",
     "output_type": "stream",
     "text": [
      "100%|██████████| 360/360 [00:00<00:00, 67899.52it/s]\n"
     ]
    }
   ],
   "source": [
    "suite = list(generate_problems(problem_dim))\n",
    "for problem in tqdm(suite):\n",
    "    file_path = f'{runs_dir}/p_{problem.id_function}__i_{problem.id_instance}__d_{problem_dim}__fe_{n_evals}.parquet'\n",
    "\n",
    "    if os.path.exists(file_path):\n",
    "        continue\n",
    "\n",
    "    opt = problem.evaluate(problem.pareto_set())[0, 0]\n",
    "    pdf = pl.DataFrame(run_algorithms(problem, n_runs=n_runs, n_eval=n_evals)).with_columns([\n",
    "        pl.lit(problem.id_function).alias(\"problem\"),\n",
    "        pl.lit(problem.id_instance).alias(\"instance\"),\n",
    "        pl.lit(opt).alias(\"optimum\")\n",
    "    ])\n",
    "\n",
    "    pdf.write_parquet(file_path)"
   ]
  },
  {
   "cell_type": "code",
   "execution_count": 8,
   "id": "5b5fb85e-4108-45d8-a779-337e3286f504",
   "metadata": {},
   "outputs": [
    {
     "data": {
      "text/html": [
       "<div><style>\n",
       ".dataframe > thead > tr,\n",
       ".dataframe > tbody > tr {\n",
       "  text-align: right;\n",
       "  white-space: pre-wrap;\n",
       "}\n",
       "</style>\n",
       "<small>shape: (14_160, 9)</small><table border=\"1\" class=\"dataframe\"><thead><tr><th>GA</th><th>PSO</th><th>DE</th><th>CMAES</th><th>ES</th><th>algorithm_run</th><th>problem</th><th>instance</th><th>optimum</th></tr><tr><td>f64</td><td>f64</td><td>f64</td><td>f64</td><td>f64</td><td>i64</td><td>i32</td><td>i32</td><td>f64</td></tr></thead><tbody><tr><td>1029.615928</td><td>1002.887127</td><td>1084.413093</td><td>1000.0</td><td>1179.752134</td><td>0</td><td>10</td><td>10</td><td>1000.0</td></tr><tr><td>1048.761785</td><td>1027.178538</td><td>1021.247381</td><td>1018.509909</td><td>1072.797961</td><td>1</td><td>10</td><td>10</td><td>1000.0</td></tr><tr><td>1083.934079</td><td>1006.136942</td><td>1844.389511</td><td>1000.0</td><td>1068.738702</td><td>2</td><td>10</td><td>10</td><td>1000.0</td></tr><tr><td>1008.105649</td><td>1065.434215</td><td>1216.68162</td><td>1000.0</td><td>1134.780348</td><td>3</td><td>10</td><td>10</td><td>1000.0</td></tr><tr><td>1448.852242</td><td>1044.940889</td><td>1256.166741</td><td>1000.0</td><td>1090.487563</td><td>4</td><td>10</td><td>10</td><td>1000.0</td></tr><tr><td>&hellip;</td><td>&hellip;</td><td>&hellip;</td><td>&hellip;</td><td>&hellip;</td><td>&hellip;</td><td>&hellip;</td><td>&hellip;</td><td>&hellip;</td></tr><tr><td>105.869658</td><td>108.784241</td><td>105.071738</td><td>104.64</td><td>105.146418</td><td>25</td><td>9</td><td>9</td><td>104.64</td></tr><tr><td>106.278248</td><td>108.901201</td><td>105.988349</td><td>104.64</td><td>105.677962</td><td>26</td><td>9</td><td>9</td><td>104.64</td></tr><tr><td>109.283884</td><td>105.42364</td><td>105.602912</td><td>104.64</td><td>106.290268</td><td>27</td><td>9</td><td>9</td><td>104.64</td></tr><tr><td>108.883606</td><td>104.996505</td><td>106.251228</td><td>104.64</td><td>105.757191</td><td>28</td><td>9</td><td>9</td><td>104.64</td></tr><tr><td>108.887668</td><td>108.732451</td><td>106.690643</td><td>104.64</td><td>106.024126</td><td>29</td><td>9</td><td>9</td><td>104.64</td></tr></tbody></table></div>"
      ],
      "text/plain": [
       "shape: (14_160, 9)\n",
       "┌────────────┬────────────┬────────────┬────────────┬───┬───────────┬─────────┬──────────┬─────────┐\n",
       "│ GA         ┆ PSO        ┆ DE         ┆ CMAES      ┆ … ┆ algorithm ┆ problem ┆ instance ┆ optimum │\n",
       "│ ---        ┆ ---        ┆ ---        ┆ ---        ┆   ┆ _run      ┆ ---     ┆ ---      ┆ ---     │\n",
       "│ f64        ┆ f64        ┆ f64        ┆ f64        ┆   ┆ ---       ┆ i32     ┆ i32      ┆ f64     │\n",
       "│            ┆            ┆            ┆            ┆   ┆ i64       ┆         ┆          ┆         │\n",
       "╞════════════╪════════════╪════════════╪════════════╪═══╪═══════════╪═════════╪══════════╪═════════╡\n",
       "│ 1029.61592 ┆ 1002.88712 ┆ 1084.41309 ┆ 1000.0     ┆ … ┆ 0         ┆ 10      ┆ 10       ┆ 1000.0  │\n",
       "│ 8          ┆ 7          ┆ 3          ┆            ┆   ┆           ┆         ┆          ┆         │\n",
       "│ 1048.76178 ┆ 1027.17853 ┆ 1021.24738 ┆ 1018.50990 ┆ … ┆ 1         ┆ 10      ┆ 10       ┆ 1000.0  │\n",
       "│ 5          ┆ 8          ┆ 1          ┆ 9          ┆   ┆           ┆         ┆          ┆         │\n",
       "│ 1083.93407 ┆ 1006.13694 ┆ 1844.38951 ┆ 1000.0     ┆ … ┆ 2         ┆ 10      ┆ 10       ┆ 1000.0  │\n",
       "│ 9          ┆ 2          ┆ 1          ┆            ┆   ┆           ┆         ┆          ┆         │\n",
       "│ 1008.10564 ┆ 1065.43421 ┆ 1216.68162 ┆ 1000.0     ┆ … ┆ 3         ┆ 10      ┆ 10       ┆ 1000.0  │\n",
       "│ 9          ┆ 5          ┆            ┆            ┆   ┆           ┆         ┆          ┆         │\n",
       "│ 1448.85224 ┆ 1044.94088 ┆ 1256.16674 ┆ 1000.0     ┆ … ┆ 4         ┆ 10      ┆ 10       ┆ 1000.0  │\n",
       "│ 2          ┆ 9          ┆ 1          ┆            ┆   ┆           ┆         ┆          ┆         │\n",
       "│ …          ┆ …          ┆ …          ┆ …          ┆ … ┆ …         ┆ …       ┆ …        ┆ …       │\n",
       "│ 105.869658 ┆ 108.784241 ┆ 105.071738 ┆ 104.64     ┆ … ┆ 25        ┆ 9       ┆ 9        ┆ 104.64  │\n",
       "│ 106.278248 ┆ 108.901201 ┆ 105.988349 ┆ 104.64     ┆ … ┆ 26        ┆ 9       ┆ 9        ┆ 104.64  │\n",
       "│ 109.283884 ┆ 105.42364  ┆ 105.602912 ┆ 104.64     ┆ … ┆ 27        ┆ 9       ┆ 9        ┆ 104.64  │\n",
       "│ 108.883606 ┆ 104.996505 ┆ 106.251228 ┆ 104.64     ┆ … ┆ 28        ┆ 9       ┆ 9        ┆ 104.64  │\n",
       "│ 108.887668 ┆ 108.732451 ┆ 106.690643 ┆ 104.64     ┆ … ┆ 29        ┆ 9       ┆ 9        ┆ 104.64  │\n",
       "└────────────┴────────────┴────────────┴────────────┴───┴───────────┴─────────┴──────────┴─────────┘"
      ]
     },
     "execution_count": 8,
     "metadata": {},
     "output_type": "execute_result"
    }
   ],
   "source": [
    "pl.read_parquet(f'{runs_dir}/*')"
   ]
  }
 ],
 "metadata": {
  "kernelspec": {
   "display_name": "Base",
   "language": "python",
   "name": "base"
  },
  "language_info": {
   "codemirror_mode": {
    "name": "ipython",
    "version": 3
   },
   "file_extension": ".py",
   "mimetype": "text/x-python",
   "name": "python",
   "nbconvert_exporter": "python",
   "pygments_lexer": "ipython3",
   "version": "3.10.16"
  }
 },
 "nbformat": 4,
 "nbformat_minor": 5
}
