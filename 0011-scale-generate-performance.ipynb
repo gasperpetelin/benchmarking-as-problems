{
 "cells": [
  {
   "cell_type": "code",
   "execution_count": 1,
   "id": "9849822a-6423-4dc7-a7b8-3d3c68005a52",
   "metadata": {},
   "outputs": [],
   "source": [
    "from utils import *\n",
    "import os.path\n",
    "from scipy.stats import qmc\n",
    "from tqdm import tqdm\n",
    "from pymoo.operators.sampling.lhs import LHS\n",
    "import polars as pl\n",
    "import multiprocessing as mp"
   ]
  },
  {
   "cell_type": "code",
   "execution_count": 2,
   "id": "63a4f09f-4a60-4dcd-b0eb-834a24852c16",
   "metadata": {},
   "outputs": [],
   "source": [
    "save_dir = 'scale_problem'\n",
    "create_directory_if_not_exist(save_dir)"
   ]
  },
  {
   "cell_type": "code",
   "execution_count": 3,
   "id": "6baffd8b-9316-4e4f-914a-9840339d2fe1",
   "metadata": {},
   "outputs": [],
   "source": [
    "problem_dim = 5\n",
    "n_runs = 30\n",
    "n_evals = 1000\n",
    "seed=42\n",
    "n_instance_reapets = 3"
   ]
  },
  {
   "cell_type": "code",
   "execution_count": 4,
   "id": "e8a2e9ed-0c50-4bdb-af59-79e83d415b9e",
   "metadata": {},
   "outputs": [],
   "source": [
    "suite = list(generate_scaled_problems(problem_dim=problem_dim, seed=seed, n_runs=n_instance_reapets))\n",
    "import random\n",
    "random.shuffle(suite)"
   ]
  },
  {
   "cell_type": "code",
   "execution_count": 5,
   "id": "5bb56c1f-bd41-4ee9-b29b-2178c6a0ef55",
   "metadata": {},
   "outputs": [],
   "source": [
    "runs_dir = f'{save_dir}/runs'\n",
    "create_directory_if_not_exist(runs_dir)"
   ]
  },
  {
   "cell_type": "code",
   "execution_count": null,
   "id": "c7041314-7d87-4593-b0ed-ea74ce7e6ffd",
   "metadata": {},
   "outputs": [
    {
     "name": "stderr",
     "output_type": "stream",
     "text": [
      "  2%|▏         | 23/1080 [21:32<15:25:28, 52.53s/it]"
     ]
    }
   ],
   "source": [
    "for problem in tqdm(suite):\n",
    "    file_path = f'{runs_dir}/p_{problem.id_function}__i_{problem.id_instance}__d_{problem_dim}__fe_{n_evals}__scale_{problem.scale}.parquet'\n",
    "    \n",
    "    if os.path.exists(file_path):\n",
    "        continue\n",
    "    \n",
    "    opt = problem.evaluate(problem.pareto_set())[0, 0]\n",
    "    pdf = pl.DataFrame(run_algorithms(problem, n_runs=n_runs, n_eval=n_evals)).with_columns([\n",
    "        pl.lit(problem.id_function).alias(\"problem\"),\n",
    "        pl.lit(problem.id_instance).alias(\"instance\"),\n",
    "        pl.lit(problem.scale).alias(\"scale\"),\n",
    "        pl.lit(opt).alias(\"optimum\"),\n",
    "    ])\n",
    "    pdf.write_parquet(file_path)"
   ]
  }
 ],
 "metadata": {
  "kernelspec": {
   "display_name": "Base",
   "language": "python",
   "name": "base"
  },
  "language_info": {
   "codemirror_mode": {
    "name": "ipython",
    "version": 3
   },
   "file_extension": ".py",
   "mimetype": "text/x-python",
   "name": "python",
   "nbconvert_exporter": "python",
   "pygments_lexer": "ipython3",
   "version": "3.10.16"
  }
 },
 "nbformat": 4,
 "nbformat_minor": 5
}
